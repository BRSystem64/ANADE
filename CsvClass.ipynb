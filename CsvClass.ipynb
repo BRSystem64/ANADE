{
 "cells": [
  {
   "cell_type": "markdown",
   "metadata": {},
   "source": [
    "## Classe CSV\n",
    "\n",
    " Essa classe tem como responsabilidade importar os arquivos csv e retorna-los para análise.\n",
    " "
   ]
  },
  {
   "cell_type": "code",
   "execution_count": 11,
   "metadata": {},
   "outputs": [],
   "source": [
    "import csv\n",
    "\n",
    "class CsvClass:\n",
    "    \n",
    "    def __init__(self):\n",
    "        \n",
    "    @staticmethod\n",
    "    def read(file):\n",
    "        matrix = []\n",
    "        \n",
    "        with open(file, encoding=\"utf8\") as csvFile:\n",
    "            reader = csv.reader(csvFile)\n",
    "            for row in reader:\n",
    "                matrix.append(row)\n",
    "            csvFile.close()\n",
    "        \n",
    "        return matrix\n",
    "\n",
    "\n"
   ]
  },
  {
   "cell_type": "code",
   "execution_count": 12,
   "metadata": {},
   "outputs": [
    {
     "name": "stdout",
     "output_type": "stream",
     "text": [
      "[['Ocorrencia', 'Jan', 'Fev', 'Mar', 'Abr', 'Mai', 'Jun', 'Jul', 'Ago', 'Set', 'Out', 'Nov', 'Dez', 'Total'], ['OCORRÊNCIAS DE PORTE DE ENTORPECENTES', '2', '1', '...', '...', '...', '...', '...', '...', '...', '...', '...', '...', '3'], ['OCORRÊNCIAS DE TRÁFICO DE ENTORPECENTES', '5', '5', '...', '...', '...', '...', '...', '...', '...', '...', '...', '...', '10'], ['OCORRÊNCIAS DE APREENSÃO DE ENTORPECENTES(1)', '0', '0', '...', '...', '...', '...', '...', '...', '...', '...', '...', '...', '0'], ['OCORRÊNCIAS DE PORTE ILEGAL DE ARMA', '1', '1', '...', '...', '...', '...', '...', '...', '...', '...', '...', '...', '2'], ['Nº DE ARMAS DE FOGO APREENDIDAS', '2', '1', '...', '...', '...', '...', '...', '...', '...', '...', '...', '...', '3'], ['Nº DE FLAGRANTES LAVRADOS', '2', '3', '...', '...', '...', '...', '...', '...', '...', '...', '...', '...', '5'], ['Nº DE INFRATORES APREENDIDOS EM FLAGRANTE', '0', '0', '...', '...', '...', '...', '...', '...', '...', '...', '...', '...', '0'], ['Nº DE INFRATORES APREENDIDOS POR MANDADO', '0', '0', '...', '...', '...', '...', '...', '...', '...', '...', '...', '...', '0'], ['Nº DE PESSOAS PRESAS EM FLAGRANTE', '2', '3', '...', '...', '...', '...', '...', '...', '...', '...', '...', '...', '5'], ['Nº DE PESSOAS PRESAS POR MANDADO', '0', '0', '...', '...', '...', '...', '...', '...', '...', '...', '...', '...', '0'], ['Nº DE PRISÕES EFETUADAS', '2', '3', '...', '...', '...', '...', '...', '...', '...', '...', '...', '...', '5'], ['Nº DE VEÍCULOS RECUPERADOS', '2', '1', '...', '...', '...', '...', '...', '...', '...', '...', '...', '...', '3'], ['TOT. DE INQUÉRITOS POLICIAIS INSTAURADOS', '10', '6', '...', '...', '...', '...', '...', '...', '...', '...', '...', '...', '16']]\n"
     ]
    }
   ],
   "source": [
    "# exemplo:\n",
    "\n",
    "exemplo = CsvClass.read('./data/DP032019.csv')\n",
    "print(exemplo)"
   ]
  },
  {
   "cell_type": "code",
   "execution_count": null,
   "metadata": {},
   "outputs": [],
   "source": []
  }
 ],
 "metadata": {
  "kernelspec": {
   "display_name": "Python 3",
   "language": "python",
   "name": "python3"
  },
  "language_info": {
   "codemirror_mode": {
    "name": "ipython",
    "version": 3
   },
   "file_extension": ".py",
   "mimetype": "text/x-python",
   "name": "python",
   "nbconvert_exporter": "python",
   "pygments_lexer": "ipython3",
   "version": "3.7.1"
  }
 },
 "nbformat": 4,
 "nbformat_minor": 2
}
