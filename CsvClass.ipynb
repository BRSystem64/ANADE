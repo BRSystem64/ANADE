{
 "cells": [
  {
   "cell_type": "markdown",
   "metadata": {},
   "source": [
    "## ESTATÍSTICA DESCRITIVA\n",
    "\n",
    "                                                                            Bruno Bastos\n",
    "                                                                            Matheus Olimpio\n",
    "\n",
    "\n",
    "### 1.0 introdução\n",
    "Com o expansionismo das cidades, surge a necessidade de definir novos departamentos de polícia. As informações das ocorrências de cada departamento, permitem uma análise discretiva\n",
    "da cidade.\n",
    "Este projeto tem como objetivo a realização de uma análise descritiva no município de Guaratinguetá, pertencente ao estado de São Paulo, Brasil.\n",
    "    \n",
    "    \n",
    "### 2.0 Variáveis\n",
    "A primeira fase deste projeto é definir as variáveis do estudo. A cidade de Guaratinguetá possui três departamentos policiais, as ocorrências são separadas por categorias de crimes, e todas as ocorrências possuem uma data de registro. A partir desta informação, já é possível definir quatro variáveis de estudo, sendo elas, crimes, meses, anos e departamentos.\n",
    "##### 2.1 Classificação de Variáveis\n",
    "Todas as variáveis neste projeto são qualitativas. Podemos definir crimes e departamentos como  qualitativa nominal, e meses e anos como qualitativo ordinal.\n",
    "\n",
    "##### 2.2 Amostras\n",
    "A amostra de dados que será coletada, são pertencente ao ano de 2017, 2018 e 2019, sendo o último, um conjunto de amostra de apenas dois meses, Janeiro e Fevereiro. \n",
    "\n",
    "Os dados das analises realizada neste trabalho, estão presente no diretório **./data/**, todos com a extensão .csv, conforme fornecidos no site da SSP, http://www.ssp.sp.gov.br/Estatistica/Pesquisa.aspx.\n",
    "\n",
    "\n",
    "### 3.0 Metodologia\n",
    "##### 3.1  Leitor de Arquivo\n",
    "Os arquivos fornecidos pela SSP, conforme descrito acima são de extensão .csv. Portanto, foi necessário a criação de uma classe que tivesse a resposabilidade de criar uma interface com os arquivos CSV, a fim de que esses dados pudessem ser coletados e transformados em um formato de fácil manipulação para análise."
   ]
  },
  {
   "cell_type": "code",
   "execution_count": 11,
   "metadata": {},
   "outputs": [],
   "source": [
    "import csv\n",
    "\n",
    "# CSV Implementation \n",
    "class CsvI:\n",
    "    \n",
    "    @staticmethod\n",
    "    def read(file):\n",
    "        matrix = []\n",
    "        \n",
    "        with open(file, encoding=\"utf8\") as csvFile:\n",
    "            reader = csv.reader(csvFile)\n",
    "            for row in reader:\n",
    "                matrix.append(row)\n",
    "            csvFile.close()\n",
    "        \n",
    "        return matrix\n",
    "    \n",
    "    @staticmethod\n",
    "    def toTable(csv):\n",
    "        for i in range(len(csv)):\n",
    "            print(csv[i])\n",
    "\n",
    "\n",
    "DP01 = {\n",
    "    '2017': CsvI.read('./data/DP012017.csv'),\n",
    "    '2018' : CsvI.read('./data/DP012018.csv'),\n",
    "    '2019' : CsvI.read('./data/DP012019.csv')\n",
    "}\n",
    "DP02 = {\n",
    "    '2017': CsvI.read('./data/DP022017.csv'),\n",
    "    '2018' : CsvI.read('./data/DP022018.csv'),\n",
    "    '2019' : CsvI.read('./data/DP022019.csv')\n",
    "}\n",
    "DP03= {\n",
    "    '2017': CsvI.read('./data/DP032017.csv'),\n",
    "    '2018' : CsvI.read('./data/DP032018.csv'),\n",
    "    '2019' : CsvI.read('./data/DP032019.csv')\n",
    "}\n",
    "\n",
    "print()"
   ]
  },
  {
   "cell_type": "markdown",
   "metadata": {},
   "source": [
    "##### 3.2 Manipulação dos dados\n",
    "Com os dados coletados pela classe CsvI(Csv Implementation), é necessário transformar esses dados em informação. Neste projeto, há uma classe chamada MathI(Math Implementation), responsável por realizar diversas técnicas utilizada na estatistica discritiva."
   ]
  },
  {
   "cell_type": "code",
   "execution_count": 45,
   "metadata": {},
   "outputs": [],
   "source": [
    "#Math Implementation\n",
    "class MathI:\n",
    "    \n",
    "    #Mounthly Average\n",
    "    @staticmethod\n",
    "    def monAvg(data):\n",
    "        pass\n",
    "    # total Average /with all years for all departaments/\n",
    "    @staticmethod\n",
    "    def totalAvg(data):\n",
    "        pass\n",
    "        \n",
    "    @staticmethod\n",
    "    def pizzaYear(array, year):\n",
    "        for aux in range(len(array)):\n",
    "            pass\n",
    "            \n",
    "            \n",
    "MathI.pizzaYear([DP01, DP02, DP03], '2018')"
   ]
  },
  {
   "cell_type": "markdown",
   "metadata": {},
   "source": [
    "### 4.0 Análise Discritiva\n",
    "\n",
    "\n",
    "###### 4.1 Distribuição de frequencia das ocorrências por departamento segundo o ano.\n",
    "\n",
    "###### 4.2 Distribuição de frequencia de crime por departamento\n",
    "\n"
   ]
  },
  {
   "cell_type": "code",
   "execution_count": null,
   "metadata": {},
   "outputs": [],
   "source": []
  }
 ],
 "metadata": {
  "kernelspec": {
   "display_name": "Python 3",
   "language": "python",
   "name": "python3"
  },
  "language_info": {
   "codemirror_mode": {
    "name": "ipython",
    "version": 3
   },
   "file_extension": ".py",
   "mimetype": "text/x-python",
   "name": "python",
   "nbconvert_exporter": "python",
   "pygments_lexer": "ipython3",
   "version": "3.7.1"
  }
 },
 "nbformat": 4,
 "nbformat_minor": 2
}
