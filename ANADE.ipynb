{
 "cells": [
  {
   "cell_type": "markdown",
   "metadata": {},
   "source": [
    "# ANADE\n",
    "### Analisador de dados estatistico\n",
    "                                                                                             Bruno Bastos\n",
    "                                                                                             Matheus Olimpio\n",
    "                                                                                             \n",
    "                                                                                             \n",
    "\n",
    "\n",
    "### INTRODUÇÃO\n",
    "Com o expansionismo das cidades, é notável a necessidade do estabelecimento de mais departamentos de policia, a fim de atender a grande demanda populacional. Com essa prática, as informações se encontram agrupadas em cada departamento, o objetivo desse trabalho é realizar um estudo estatistico das ocorrencias registradas dentro de cada departamento e abordar uma análise geral da cidade.\n",
    "\n",
    "\n",
    "##### População e Amostras\n",
    "A população de estudo deste trabalho, são as ocorrencias registradas na cidade de Guaratingueta. A amostra de dados que será coletada, são dados pertencente ao ano de 2017, 2018 e 2019, sendo o último, um conjunto de amostra de apenas dois meses, Janeiro e Fevereiro. \n",
    "\n",
    "Os dados das analises realizada neste trabalho, estão presente no diretório **./data/**, todos com a extensão .csv, conforme fornecidos no site da SSP, http://www.ssp.sp.gov.br/Estatistica/Pesquisa.aspx.\n",
    "\n",
    "\n",
    "\n",
    "\n",
    "\n",
    "\n",
    "\n",
    "\n",
    "\n",
    "\n",
    "### METODOLOGIA \n",
    "\n",
    "#### LEITURA DOS ARQUIVOS\n",
    "Os arquivos fornecidos pela SSP, conforme descrito na Introdução, são de extensão .csv. Portanto, foi necessário a criação de uma classe que tivesse a resposabilidade de criar uma interface com os arquivos CSV, a fim de que esses dados pudessem ser coletados e transformados em um formato de fácil manipulação para análise."
   ]
  },
  {
   "cell_type": "code",
   "execution_count": null,
   "metadata": {
    "scrolled": false
   },
   "outputs": [],
   "source": [
    "import csv\n",
    "\n",
    "# CSV Implementation \n",
    "class CsvI:\n",
    "    \n",
    "    @staticmethod\n",
    "    def read(file):\n",
    "        matrix = []\n",
    "        \n",
    "        with open(file, encoding=\"utf8\") as csvFile:\n",
    "            reader = csv.reader(csvFile)\n",
    "            for row in reader:\n",
    "                matrix.append(row)\n",
    "            csvFile.close()\n",
    "        \n",
    "        return matrix\n",
    "    \n",
    "    @staticmethod\n",
    "    def toTable(csv):\n",
    "        for i in range(len(csv)):\n",
    "            print(csv[i])\n"
   ]
  },
  {
   "cell_type": "markdown",
   "metadata": {},
   "source": [
    "Confome exposto acima, a classe contêm um método de leitura(read), na qual pode ser instanciada sem a necessidade de instanciarmos a classe(staticMethod). Para uma melhor manipualação dos dados, foi criado um array com o indice para cada departamento, e para cada indice de departamento o ano com seus respectivos dados, conforme descreve o array abaixo:"
   ]
  },
  {
   "cell_type": "code",
   "execution_count": null,
   "metadata": {},
   "outputs": [],
   "source": [
    "data = {}\n",
    "data['DP01'] = {\n",
    "    '2017': CsvI.read('./data/DP012017.csv'),\n",
    "    '2018' : CsvI.read('./data/DP012018.csv'),\n",
    "    '2019' : CsvI.read('./data/DP012019.csv')\n",
    "}\n",
    "data['DP02'] = {\n",
    "    '2017': CsvI.read('./data/DP022017.csv'),\n",
    "    '2018' : CsvI.read('./data/DP022018.csv'),\n",
    "    '2019' : CsvI.read('./data/DP022019.csv')\n",
    "}\n",
    "data['DP03'] = {\n",
    "    '2017': CsvI.read('./data/DP032017.csv'),\n",
    "    '2018' : CsvI.read('./data/DP032018.csv'),\n",
    "    '2019' : CsvI.read('./data/DP032019.csv')\n",
    "}\n",
    "\n",
    "print(data['DP02']['2019'])\n"
   ]
  },
  {
   "cell_type": "markdown",
   "metadata": {},
   "source": [
    "##### PROCESSAMENTO DOS DADOS\n",
    "Com os dados coletados pela classe CsvI(Csv Implementation), é necessário transformar esses dados em informação. Neste projeto, há uma classe chamada MathI(Math Implementation), responsável por realizar diversas técnicas utilizada no ramo da estatistica, a fim de apresentar informações atráves de graficos, realizar agrupamento de dados e calcular artefatos como, a moda, média, mediana.\n"
   ]
  },
  {
   "cell_type": "code",
   "execution_count": null,
   "metadata": {},
   "outputs": [],
   "source": [
    "#Math Implementation\n",
    "class MathI:\n",
    "    \n",
    "    #Mounthly Average\n",
    "    @staticmethod\n",
    "    def monAvg(data):\n",
    "        avg = {}\n",
    "        for i in range(1,len(data)):\n",
    "            avg[data[i][0]] = (int(data[i][13])//12)\n",
    "        \n",
    "        return avg\n",
    "\n",
    "    # total Average /with all years for all departaments/\n",
    "    @staticmethod\n",
    "    def totalAvg(data):\n",
    "        avg = {}\n",
    "        for key, value in data.items():\n",
    "            for key2, value2 in data[key].items():\n",
    "                for n in range(1, len(data[key][key2])):\n",
    "                    if data[key][key2][n][0] not in avg:\n",
    "                        avg[data[key][key2][n][0]] = 0\n",
    "                    avg[data[key][key2][n][0]] = round(int(data[key][key2][n][13])/len(data[key]), 2)\n",
    "        return avg\n",
    "        \n",
    "print(MathI.totalAvg(data))\n",
    "        "
   ]
  },
  {
   "cell_type": "markdown",
   "metadata": {},
   "source": [
    "#### GRÁFICOS\n",
    "Com os dados coletados e formatados, é necessário ferramentas que possam gerar os gráficos para uma melhor visualização dos dados, para esta tarefa, foi criada a classe MathI, que trabalha como uma interface com a biblioteca Math Plot Lib, e adiciona alguns recursos a mais."
   ]
  },
  {
   "cell_type": "code",
   "execution_count": null,
   "metadata": {},
   "outputs": [],
   "source": [
    "import matplotlib.pyplot as plt\n",
    "plt.plot([1,2,3,4])\n",
    "plt.ylabel('some numbers')\n",
    "plt.show()"
   ]
  }
 ],
 "metadata": {
  "kernelspec": {
   "display_name": "Python 3",
   "language": "python",
   "name": "python3"
  },
  "language_info": {
   "codemirror_mode": {
    "name": "ipython",
    "version": 3
   },
   "file_extension": ".py",
   "mimetype": "text/x-python",
   "name": "python",
   "nbconvert_exporter": "python",
   "pygments_lexer": "ipython3",
   "version": "3.7.1"
  }
 },
 "nbformat": 4,
 "nbformat_minor": 2
}
