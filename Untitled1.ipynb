{
 "cells": [
  {
   "cell_type": "markdown",
   "metadata": {},
   "source": [
    "## DESCRIPTIVE STATISTIC\n",
    "\n",
    "                                                                            Bruno Bastos\n",
    "                                                                            Matheus Olimpio\n",
    "\n",
    "\n",
    "#### 1.0 Introduction\n",
    " With the expansionism of cities, the need arises to define new police departments. \n",
    " The informations of the occurrences of each department, allows a discretive statistic \n",
    " of the city.\n",
    " This project has the objective conducting a descriptive statistic in the Guaratingueta \n",
    " City, in the state of São Paulo, Brazil.\n",
    "    \n",
    "    \n",
    "#### 2.0 Variables\n",
    "The first phase of this project is define the study variables. Guaratingueta city has three police departaments, the occurrences are separeted by categories of crimes and  all occurrences have a record data. From this information, can already define Four variables, crimes, months, years and departaments.\n",
    "##### 2.1 Classification of Variables \n",
    "All variables in this project are qualitative. We can define crimes and departaments as qualitative rating, and months and years as qualitative ordinal.\n",
    "\n",
    "#### 3.0 Methodology\n",
    "##### 3.1 Reader File\n",
    "Os arquivos fornecidos pela SSP, conforme descrito na Introdução, são de extensão .csv. Portanto, foi necessário a criação de uma classe que tivesse a resposabilidade de criar uma interface com os arquivos CSV, a fim de que esses dados pudessem ser coletados e transformados em um formato de fácil manipulação para análise.\n"
   ]
  },
  {
   "cell_type": "code",
   "execution_count": null,
   "metadata": {},
   "outputs": [],
   "source": []
  }
 ],
 "metadata": {
  "kernelspec": {
   "display_name": "Python 3",
   "language": "python",
   "name": "python3"
  },
  "language_info": {
   "codemirror_mode": {
    "name": "ipython",
    "version": 3
   },
   "file_extension": ".py",
   "mimetype": "text/x-python",
   "name": "python",
   "nbconvert_exporter": "python",
   "pygments_lexer": "ipython3",
   "version": "3.7.1"
  }
 },
 "nbformat": 4,
 "nbformat_minor": 2
}
