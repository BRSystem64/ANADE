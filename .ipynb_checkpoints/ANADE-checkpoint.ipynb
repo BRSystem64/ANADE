{
 "cells": [
  {
   "cell_type": "markdown",
   "metadata": {},
   "source": [
    "# Análise Descritiva \n",
    "### Departamento de Policia e Segurança - Guaratingueta\n",
    "                                                                           Bruno Bastos\n",
    "                                                                           Matheus Olimpio\n",
    "                                                                           \n",
    "                                                                       \n",
    "#### Introdução\n",
    "A segurança é um dos pilares que constituem uma socidade, o seu desenvolvimento se faz necessário. Seu crescimento é perpendicular de acordo com as regiões. A melhor forma de avaliar se avaliar a segurança de uma cidade é através de ferramentas exatas, como a estátistica aplicada a computação para o processamento rápido de todos os dados coletados.\n",
    "Este projeto faz parte da matéria de Laboratório de Redes da FATEC de Cruzeiro, e tem como objetivo realizar uma análise descritiva na cidade de guaratingueta através do pilar de segurança e ocorrencias.\n",
    "\n",
    "\n",
    "##### Variáveis\n",
    "As variáveis identificadas são:\n",
    " - Natureza de Ocorrencias (Qualitativa/nominal)\n",
    " - Departamentos (Qualitativa/nominal)\n",
    " - Ano (Qualitativa/ordinal)\n",
    " - Mês (Qualitativa/ordinal)\n",
    " - Quantidade de Ocorrencias (Quantitativa/Discreta)\n",
    "\n",
    "##### Análise\n",
    "- Análise de ocorrências\n",
    "    - _Análise de Homicídios_\n",
    "    - _Análise de Lesões_\n",
    "    - _Análise de Estupro_\n",
    "    - _Análise de Roubos_\n",
    "    - _Análise de Furtos_\n",
    "\n",
    "- Análise de Departamento\n",
    "    - _Análise do DP-01_\n",
    "    - _Análise do DP-02_\n",
    "    - _Análise do DP-03_\n",
    "      \n",
    "---"
   ]
  },
  {
   "cell_type": "markdown",
   "metadata": {},
   "source": [
    "## Análises##\n",
    "Afim de realizar um estudo quantitativo das ocorrencias de Guaratingueta,os dados foram coletados do site da policia de SP, com o principal foco em resumir, sumarizar e explorar o comportamento dos dados(ocorrencias). É preciso ressaltar que algumas análises foram realizas apenas com o ano de 2017 e 2018, deixando de lado o ano de 2019 devido a não vigencia de todos os meses.\n",
    "\n",
    "---\n",
    "### Análise de Homicídios \n",
    "---"
   ]
  },
  {
   "cell_type": "code",
   "execution_count": 18,
   "metadata": {},
   "outputs": [
    {
     "data": {
      "text/html": [
       "<div>\n",
       "<style scoped>\n",
       "    .dataframe tbody tr th:only-of-type {\n",
       "        vertical-align: middle;\n",
       "    }\n",
       "\n",
       "    .dataframe tbody tr th {\n",
       "        vertical-align: top;\n",
       "    }\n",
       "\n",
       "    .dataframe thead th {\n",
       "        text-align: right;\n",
       "    }\n",
       "</style>\n",
       "<table border=\"1\" class=\"dataframe\">\n",
       "  <thead>\n",
       "    <tr style=\"text-align: right;\">\n",
       "      <th></th>\n",
       "      <th>Natureza</th>\n",
       "      <th>Sigla</th>\n",
       "    </tr>\n",
       "  </thead>\n",
       "  <tbody>\n",
       "    <tr>\n",
       "      <th>0</th>\n",
       "      <td>Homicídio Doloso</td>\n",
       "      <td>HD</td>\n",
       "    </tr>\n",
       "    <tr>\n",
       "      <th>1</th>\n",
       "      <td>Homicídio Doloso Acidente de Transito</td>\n",
       "      <td>HDAT</td>\n",
       "    </tr>\n",
       "    <tr>\n",
       "      <th>2</th>\n",
       "      <td>Homicídio Culposo Acidente de Transito</td>\n",
       "      <td>HCAT</td>\n",
       "    </tr>\n",
       "    <tr>\n",
       "      <th>3</th>\n",
       "      <td>Homicídio Culposo Outros</td>\n",
       "      <td>HCO</td>\n",
       "    </tr>\n",
       "    <tr>\n",
       "      <th>4</th>\n",
       "      <td>Tentativa de Homicídio</td>\n",
       "      <td>TH</td>\n",
       "    </tr>\n",
       "  </tbody>\n",
       "</table>\n",
       "</div>"
      ],
      "text/plain": [
       "                                 Natureza Sigla\n",
       "0                        Homicídio Doloso    HD\n",
       "1   Homicídio Doloso Acidente de Transito  HDAT\n",
       "2  Homicídio Culposo Acidente de Transito  HCAT\n",
       "3                Homicídio Culposo Outros   HCO\n",
       "4                  Tentativa de Homicídio    TH"
      ]
     },
     "metadata": {},
     "output_type": "display_data"
    },
    {
     "name": "stdout",
     "output_type": "stream",
     "text": [
      " ---------------------------------------------------------------\n",
      " Análise Geral de Homicidios \n",
      " ---------------------------------------------------------------\n"
     ]
    },
    {
     "data": {
      "text/html": [
       "<div>\n",
       "<style scoped>\n",
       "    .dataframe tbody tr th:only-of-type {\n",
       "        vertical-align: middle;\n",
       "    }\n",
       "\n",
       "    .dataframe tbody tr th {\n",
       "        vertical-align: top;\n",
       "    }\n",
       "\n",
       "    .dataframe thead th {\n",
       "        text-align: right;\n",
       "    }\n",
       "</style>\n",
       "<table border=\"1\" class=\"dataframe\">\n",
       "  <thead>\n",
       "    <tr style=\"text-align: right;\">\n",
       "      <th></th>\n",
       "      <th>HD</th>\n",
       "      <th>HDAT</th>\n",
       "      <th>HCAT</th>\n",
       "      <th>HCO</th>\n",
       "      <th>TH</th>\n",
       "    </tr>\n",
       "  </thead>\n",
       "  <tbody>\n",
       "    <tr>\n",
       "      <th>2017</th>\n",
       "      <td>9</td>\n",
       "      <td>0</td>\n",
       "      <td>15</td>\n",
       "      <td>0</td>\n",
       "      <td>33</td>\n",
       "    </tr>\n",
       "    <tr>\n",
       "      <th>2018</th>\n",
       "      <td>42</td>\n",
       "      <td>0</td>\n",
       "      <td>12</td>\n",
       "      <td>3</td>\n",
       "      <td>27</td>\n",
       "    </tr>\n",
       "    <tr>\n",
       "      <th>2019</th>\n",
       "      <td>9</td>\n",
       "      <td>0</td>\n",
       "      <td>6</td>\n",
       "      <td>3</td>\n",
       "      <td>15</td>\n",
       "    </tr>\n",
       "  </tbody>\n",
       "</table>\n",
       "</div>"
      ],
      "text/plain": [
       "      HD  HDAT  HCAT  HCO  TH\n",
       "2017   9     0    15    0  33\n",
       "2018  42     0    12    3  27\n",
       "2019   9     0     6    3  15"
      ]
     },
     "metadata": {},
     "output_type": "display_data"
    },
    {
     "data": {
      "text/html": [
       "<div>\n",
       "<style scoped>\n",
       "    .dataframe tbody tr th:only-of-type {\n",
       "        vertical-align: middle;\n",
       "    }\n",
       "\n",
       "    .dataframe tbody tr th {\n",
       "        vertical-align: top;\n",
       "    }\n",
       "\n",
       "    .dataframe thead th {\n",
       "        text-align: right;\n",
       "    }\n",
       "</style>\n",
       "<table border=\"1\" class=\"dataframe\">\n",
       "  <thead>\n",
       "    <tr style=\"text-align: right;\">\n",
       "      <th></th>\n",
       "      <th>Natureza</th>\n",
       "      <th>Frequencia Absoluta</th>\n",
       "      <th>Frequencia Relativa(%)</th>\n",
       "    </tr>\n",
       "  </thead>\n",
       "  <tbody>\n",
       "    <tr>\n",
       "      <th>0</th>\n",
       "      <td>HD</td>\n",
       "      <td>9</td>\n",
       "      <td>15.79</td>\n",
       "    </tr>\n",
       "    <tr>\n",
       "      <th>1</th>\n",
       "      <td>HDAT</td>\n",
       "      <td>0</td>\n",
       "      <td>0.0</td>\n",
       "    </tr>\n",
       "    <tr>\n",
       "      <th>2</th>\n",
       "      <td>HCAT</td>\n",
       "      <td>15</td>\n",
       "      <td>26.32</td>\n",
       "    </tr>\n",
       "    <tr>\n",
       "      <th>3</th>\n",
       "      <td>HCO</td>\n",
       "      <td>0</td>\n",
       "      <td>0.0</td>\n",
       "    </tr>\n",
       "    <tr>\n",
       "      <th>4</th>\n",
       "      <td>TH</td>\n",
       "      <td>33</td>\n",
       "      <td>57.89</td>\n",
       "    </tr>\n",
       "  </tbody>\n",
       "</table>\n",
       "</div>"
      ],
      "text/plain": [
       "  Natureza  Frequencia Absoluta Frequencia Relativa(%)\n",
       "0       HD                    9                  15.79\n",
       "1     HDAT                    0                    0.0\n",
       "2     HCAT                   15                  26.32\n",
       "3      HCO                    0                    0.0\n",
       "4       TH                   33                  57.89"
      ]
     },
     "metadata": {},
     "output_type": "display_data"
    },
    {
     "data": {
      "text/html": [
       "<div>\n",
       "<style scoped>\n",
       "    .dataframe tbody tr th:only-of-type {\n",
       "        vertical-align: middle;\n",
       "    }\n",
       "\n",
       "    .dataframe tbody tr th {\n",
       "        vertical-align: top;\n",
       "    }\n",
       "\n",
       "    .dataframe thead th {\n",
       "        text-align: right;\n",
       "    }\n",
       "</style>\n",
       "<table border=\"1\" class=\"dataframe\">\n",
       "  <thead>\n",
       "    <tr style=\"text-align: right;\">\n",
       "      <th></th>\n",
       "      <th>Natureza</th>\n",
       "      <th>Frequencia Absoluta</th>\n",
       "      <th>Frequencia Relativa(%)</th>\n",
       "    </tr>\n",
       "  </thead>\n",
       "  <tbody>\n",
       "    <tr>\n",
       "      <th>0</th>\n",
       "      <td>HD</td>\n",
       "      <td>42</td>\n",
       "      <td>50.0</td>\n",
       "    </tr>\n",
       "    <tr>\n",
       "      <th>1</th>\n",
       "      <td>HDAT</td>\n",
       "      <td>0</td>\n",
       "      <td>0.0</td>\n",
       "    </tr>\n",
       "    <tr>\n",
       "      <th>2</th>\n",
       "      <td>HCAT</td>\n",
       "      <td>12</td>\n",
       "      <td>14.29</td>\n",
       "    </tr>\n",
       "    <tr>\n",
       "      <th>3</th>\n",
       "      <td>HCO</td>\n",
       "      <td>3</td>\n",
       "      <td>3.57</td>\n",
       "    </tr>\n",
       "    <tr>\n",
       "      <th>4</th>\n",
       "      <td>TH</td>\n",
       "      <td>27</td>\n",
       "      <td>32.14</td>\n",
       "    </tr>\n",
       "  </tbody>\n",
       "</table>\n",
       "</div>"
      ],
      "text/plain": [
       "  Natureza  Frequencia Absoluta Frequencia Relativa(%)\n",
       "0       HD                   42                   50.0\n",
       "1     HDAT                    0                    0.0\n",
       "2     HCAT                   12                  14.29\n",
       "3      HCO                    3                   3.57\n",
       "4       TH                   27                  32.14"
      ]
     },
     "metadata": {},
     "output_type": "display_data"
    },
    {
     "data": {
      "image/png": "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\n",
      "text/plain": [
       "<Figure size 432x288 with 1 Axes>"
      ]
     },
     "metadata": {
      "needs_background": "light"
     },
     "output_type": "display_data"
    },
    {
     "data": {
      "image/png": "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\n",
      "text/plain": [
       "<Figure size 432x288 with 1 Axes>"
      ]
     },
     "metadata": {
      "needs_background": "light"
     },
     "output_type": "display_data"
    },
    {
     "data": {
      "image/png": "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\n",
      "text/plain": [
       "<Figure size 432x288 with 1 Axes>"
      ]
     },
     "metadata": {
      "needs_background": "light"
     },
     "output_type": "display_data"
    }
   ],
   "source": [
    "Facade.homicidios()"
   ]
  },
  {
   "cell_type": "markdown",
   "metadata": {},
   "source": [
    "__conclusões__\n",
    "\n",
    " * Crescimento de homícidios de 2017 para 2018(40%). É importante ressaltar que o crescimento foi devido aos homicidios dolosos, em vista de que as naturezas tentativa de homicidio, e homicidios por transito, foram reduzidas.\n",
    "---\n",
    " * Em 2018 houve um notável crescimento de homicídios dolosos.(466%)\n",
    "---\n",
    " * A quantidade de homicidio doloso do ano de 2017, é a mesma que os quatro primeros meses de 2019.\n",
    "--- \n",
    " * Em 2017 e 2018 a média é de 6 homicidios mensais."
   ]
  },
  {
   "cell_type": "markdown",
   "metadata": {},
   "source": [
    "### Análise de Lesões Corporais\n",
    "---"
   ]
  },
  {
   "cell_type": "code",
   "execution_count": 4,
   "metadata": {},
   "outputs": [
    {
     "data": {
      "text/html": [
       "<div>\n",
       "<style scoped>\n",
       "    .dataframe tbody tr th:only-of-type {\n",
       "        vertical-align: middle;\n",
       "    }\n",
       "\n",
       "    .dataframe tbody tr th {\n",
       "        vertical-align: top;\n",
       "    }\n",
       "\n",
       "    .dataframe thead th {\n",
       "        text-align: right;\n",
       "    }\n",
       "</style>\n",
       "<table border=\"1\" class=\"dataframe\">\n",
       "  <thead>\n",
       "    <tr style=\"text-align: right;\">\n",
       "      <th></th>\n",
       "      <th>Natureza</th>\n",
       "      <th>Sigla</th>\n",
       "    </tr>\n",
       "  </thead>\n",
       "  <tbody>\n",
       "    <tr>\n",
       "      <th>0</th>\n",
       "      <td>Lesão Corporal Seguida de Morte</td>\n",
       "      <td>LCSM</td>\n",
       "    </tr>\n",
       "    <tr>\n",
       "      <th>1</th>\n",
       "      <td>Lesão Corporal Dolosa</td>\n",
       "      <td>LCD</td>\n",
       "    </tr>\n",
       "    <tr>\n",
       "      <th>2</th>\n",
       "      <td>Lesão Corporal Culposo Acidente de Transito</td>\n",
       "      <td>LCCAT</td>\n",
       "    </tr>\n",
       "    <tr>\n",
       "      <th>3</th>\n",
       "      <td>Lesão Corporal Culposo Outros</td>\n",
       "      <td>LCCO</td>\n",
       "    </tr>\n",
       "  </tbody>\n",
       "</table>\n",
       "</div>"
      ],
      "text/plain": [
       "                                      Natureza  Sigla\n",
       "0              Lesão Corporal Seguida de Morte   LCSM\n",
       "1                        Lesão Corporal Dolosa    LCD\n",
       "2  Lesão Corporal Culposo Acidente de Transito  LCCAT\n",
       "3                Lesão Corporal Culposo Outros   LCCO"
      ]
     },
     "metadata": {},
     "output_type": "display_data"
    },
    {
     "name": "stdout",
     "output_type": "stream",
     "text": [
      " ---------------------------------------------------------------\n",
      " Análise Geral de Lesões \n",
      " ---------------------------------------------------------------\n"
     ]
    },
    {
     "data": {
      "text/html": [
       "<div>\n",
       "<style scoped>\n",
       "    .dataframe tbody tr th:only-of-type {\n",
       "        vertical-align: middle;\n",
       "    }\n",
       "\n",
       "    .dataframe tbody tr th {\n",
       "        vertical-align: top;\n",
       "    }\n",
       "\n",
       "    .dataframe thead th {\n",
       "        text-align: right;\n",
       "    }\n",
       "</style>\n",
       "<table border=\"1\" class=\"dataframe\">\n",
       "  <thead>\n",
       "    <tr style=\"text-align: right;\">\n",
       "      <th></th>\n",
       "      <th>LCSM</th>\n",
       "      <th>LCD</th>\n",
       "      <th>LCCAT</th>\n",
       "      <th>LCCO</th>\n",
       "    </tr>\n",
       "  </thead>\n",
       "  <tbody>\n",
       "    <tr>\n",
       "      <th>2017</th>\n",
       "      <td>0</td>\n",
       "      <td>246</td>\n",
       "      <td>213</td>\n",
       "      <td>3</td>\n",
       "    </tr>\n",
       "    <tr>\n",
       "      <th>2018</th>\n",
       "      <td>0</td>\n",
       "      <td>231</td>\n",
       "      <td>219</td>\n",
       "      <td>3</td>\n",
       "    </tr>\n",
       "    <tr>\n",
       "      <th>2019</th>\n",
       "      <td>0</td>\n",
       "      <td>84</td>\n",
       "      <td>33</td>\n",
       "      <td>12</td>\n",
       "    </tr>\n",
       "  </tbody>\n",
       "</table>\n",
       "</div>"
      ],
      "text/plain": [
       "      LCSM  LCD  LCCAT  LCCO\n",
       "2017     0  246    213     3\n",
       "2018     0  231    219     3\n",
       "2019     0   84     33    12"
      ]
     },
     "metadata": {},
     "output_type": "display_data"
    },
    {
     "data": {
      "text/html": [
       "<div>\n",
       "<style scoped>\n",
       "    .dataframe tbody tr th:only-of-type {\n",
       "        vertical-align: middle;\n",
       "    }\n",
       "\n",
       "    .dataframe tbody tr th {\n",
       "        vertical-align: top;\n",
       "    }\n",
       "\n",
       "    .dataframe thead th {\n",
       "        text-align: right;\n",
       "    }\n",
       "</style>\n",
       "<table border=\"1\" class=\"dataframe\">\n",
       "  <thead>\n",
       "    <tr style=\"text-align: right;\">\n",
       "      <th></th>\n",
       "      <th>Natureza</th>\n",
       "      <th>Frequencia Absoluta</th>\n",
       "      <th>Frequencia Relativa(%)</th>\n",
       "    </tr>\n",
       "  </thead>\n",
       "  <tbody>\n",
       "    <tr>\n",
       "      <th>0</th>\n",
       "      <td>LCSM</td>\n",
       "      <td>0</td>\n",
       "      <td>0.0</td>\n",
       "    </tr>\n",
       "    <tr>\n",
       "      <th>1</th>\n",
       "      <td>LCD</td>\n",
       "      <td>246</td>\n",
       "      <td>53.25</td>\n",
       "    </tr>\n",
       "    <tr>\n",
       "      <th>2</th>\n",
       "      <td>LCCAT</td>\n",
       "      <td>213</td>\n",
       "      <td>46.1</td>\n",
       "    </tr>\n",
       "    <tr>\n",
       "      <th>3</th>\n",
       "      <td>LCCO</td>\n",
       "      <td>3</td>\n",
       "      <td>0.65</td>\n",
       "    </tr>\n",
       "  </tbody>\n",
       "</table>\n",
       "</div>"
      ],
      "text/plain": [
       "  Natureza  Frequencia Absoluta Frequencia Relativa(%)\n",
       "0     LCSM                    0                    0.0\n",
       "1      LCD                  246                  53.25\n",
       "2    LCCAT                  213                   46.1\n",
       "3     LCCO                    3                   0.65"
      ]
     },
     "metadata": {},
     "output_type": "display_data"
    },
    {
     "data": {
      "text/html": [
       "<div>\n",
       "<style scoped>\n",
       "    .dataframe tbody tr th:only-of-type {\n",
       "        vertical-align: middle;\n",
       "    }\n",
       "\n",
       "    .dataframe tbody tr th {\n",
       "        vertical-align: top;\n",
       "    }\n",
       "\n",
       "    .dataframe thead th {\n",
       "        text-align: right;\n",
       "    }\n",
       "</style>\n",
       "<table border=\"1\" class=\"dataframe\">\n",
       "  <thead>\n",
       "    <tr style=\"text-align: right;\">\n",
       "      <th></th>\n",
       "      <th>Natureza</th>\n",
       "      <th>Frequencia Absoluta</th>\n",
       "      <th>Frequencia Relativa(%)</th>\n",
       "    </tr>\n",
       "  </thead>\n",
       "  <tbody>\n",
       "    <tr>\n",
       "      <th>0</th>\n",
       "      <td>LCSM</td>\n",
       "      <td>0</td>\n",
       "      <td>0.0</td>\n",
       "    </tr>\n",
       "    <tr>\n",
       "      <th>1</th>\n",
       "      <td>LCD</td>\n",
       "      <td>231</td>\n",
       "      <td>50.99</td>\n",
       "    </tr>\n",
       "    <tr>\n",
       "      <th>2</th>\n",
       "      <td>LCCAT</td>\n",
       "      <td>219</td>\n",
       "      <td>48.34</td>\n",
       "    </tr>\n",
       "    <tr>\n",
       "      <th>3</th>\n",
       "      <td>LCCO</td>\n",
       "      <td>3</td>\n",
       "      <td>0.66</td>\n",
       "    </tr>\n",
       "  </tbody>\n",
       "</table>\n",
       "</div>"
      ],
      "text/plain": [
       "  Natureza  Frequencia Absoluta Frequencia Relativa(%)\n",
       "0     LCSM                    0                    0.0\n",
       "1      LCD                  231                  50.99\n",
       "2    LCCAT                  219                  48.34\n",
       "3     LCCO                    3                   0.66"
      ]
     },
     "metadata": {},
     "output_type": "display_data"
    },
    {
     "data": {
      "image/png": "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\n",
      "text/plain": [
       "<Figure size 432x288 with 1 Axes>"
      ]
     },
     "metadata": {
      "needs_background": "light"
     },
     "output_type": "display_data"
    },
    {
     "data": {
      "image/png": "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\n",
      "text/plain": [
       "<Figure size 432x288 with 1 Axes>"
      ]
     },
     "metadata": {
      "needs_background": "light"
     },
     "output_type": "display_data"
    },
    {
     "data": {
      "image/png": "iVBORw0KGgoAAAANSUhEUgAAAYIAAAEWCAYAAABrDZDcAAAABHNCSVQICAgIfAhkiAAAAAlwSFlzAAALEgAACxIB0t1+/AAAADl0RVh0U29mdHdhcmUAbWF0cGxvdGxpYiB2ZXJzaW9uIDMuMC4zLCBodHRwOi8vbWF0cGxvdGxpYi5vcmcvnQurowAAIABJREFUeJzs3Xd8U9X7wPHPSVpoKS1toew9FAvKKkMFRYZbEAUEv19Fvwq48Ae4QEWLDBVxTxygILPIHgoiiKiMgqiUvSmrK6V75vn9kRQKtCVtk9y0Pe/XK68md5z7JG3Pk3vOvecoEUHTNE2ruExGB6BpmqYZSycCTdO0Ck4nAk3TtApOJwJN07QKTicCTdO0Ck4nAk3TtApOJwKtwlFKfaGUGmfQsR9RSm0y4tiaVhidCCoYpdRRpVQvo+Mwkog8ISITrrSd/qxAKTVEKbVdKZWklIpWSk1RSnnlWx+slFqslEpVSh1TSj2Yb10dpdQypdQppZQopRpfUnawUmq+UirO/pitlApw37vT8uhEoJU5Simz0TEA5K8Qy7EqwEigBtAZ6Ak8n2/9p0AWUAv4D/C5UqqVfZ0V+BG4v5CyJwJBQFOgmb2McOeGrzlCJwLtPKXU3UqpnUqpRKXUH0qp6/Kte0kpdVIplayU2qeU6mlfXlkp9YH9W98p+/PKpSmzgLi+VUp9rpRapZRKBW6xH3eqUuq4UuqsvbnHN98+LyqlTttjetz+jbR5vvIm2p/XUEqtsMeXoJT6TSllUkrNAhoCy5VSKfbyGtvLeUwpdRz4xV5GhFLqjFLqnFJqY76KEKVUdfu34iSl1FZsFV7+93aDUmqbfd9tSqkb8q17RCl12P75HFFK/aeQz8eklBqjlDqklIpXSi1QSgXb1+XF/KhS6oRSyqKUekIp1VEp9Y/9fX9S2N+EiHwuIr+JSJaInARmAzfay/bDVsmPE5EUEdkELAMesu97VkQ+A7YVUnwTYImIJInIOWAx0KqQbTVXEhH9qEAP4CjQq4Dl7YEYbN/6zMAQ+7aVgauBE0Bd+7aNgWb2528Am4GaQAjwBzChNGUWENu3wDlsFZAJ8AE+wFbpBAP+wHLgTfv2twNnsFUqVYBZgADN85U30f78TeALwNv+6Aaogj4re4wCzAT8AF/78v/ZY6hsj2tnvn3mAQvs27cGTgKb7OuCAQu2itMLGGx/Xd2+fRJwtX3bOkCrQj6fkfbfQX17DNOAuZfE/IX9c7sVyACW2H9n9ey/o5sd/PtZArxlf94OSL9k/fPA8kuWedljaHzJ8ruBVdjOCoKwJdaRRv+PVMSH4QHoh5t/4YUngs+xV+D5lu0Dbgaa2yuLXoD3JdscAu7M9/o24Ghpyiwgtm+BmfleKyCVfIkDuB44Yn8+HXtSsL9uTuGJ4A1gad66oj6rfJVq0yJiDbRvUw1b8ssGWuZbP5kLieAhYOsl+/8JPGJPBInYvnH7XuHz2QP0zPe6jv24XvlirpdvfTzwQL7XPzhSAQOPAtFADfvrbsCZS7YZCmy4ZFlhiaAu8DO2JiQrsBaoZPT/SEV86KYhLU8j4Dl7U0GiUioRaIDtG/tBbN86w4EYpdQ8pVRd+351gWP5yjlmX1aaMgtyIt/zEGzf9LfnK/dH+/K8mE4Usu+l3gEOAmvszTBjitj2svKUUmal1Fv2ZpkkbMkDbG3qIdgqwfzHz/9ZXfrZ5a2vJyKpwAPAE8BppdRKpVTLQuJpBCzO91nsAXKxtbnnOZvveXoBr6sW9mbt7/Ne4C3gDhGJsy9OAS7t3A0AkosqK58IYD+2s6kAbF8qvndwX82JdCLQ8pwAJolIYL5HFRGZCyAic0SkK7ZKR4C37fudsi/L09C+rDRlFiT/MLlx2CqvVvnKrSYieZXZaWzNJHkaFFqoSLKIPCciTYF7gNH5+ioKG5o3//IHgb7YzmyqYfsGDrazllgg55LjN8z3/NLPLm/9SXtsP4lIb2zf8PcCXxUSzwlsFXT+z9lHbG36paaUut1+7HtE5N98q/YDXkqpFvmWtQGiHCy6DTBNRFJFJAVb89WdzohZKx6dCComb6WUT76HF7Z/9CeUUp2VjZ9S6i6llL9S6mqlVA97J3AGtko4117WXOBVpVSIUqoG8BoXvtWVtMwiiYjVXvb7SqmaAEqpekqp2+ybLAAeVUpdo5SqYo+pQMrWmd1cKaWwtcnn5ovjLLYrWoriD2Ria26pgq3pJy/OXGAREK6UqqKUCsXWT5JnFXCVUupBpZSXUuoBIBRYoZSqpZTqY++QzcT27buwz+cLYJJSqpH9PYUopfpeIW6HKKV6YOsgvl9EtuZfZz9rWQS8Yf/d3ogtKc7Kt78Ptn4LgMr213m2AY8rpXyVraN/GPC3M+LWisnotin9cO8DW9OFXPLIay+/Hds/ZyK2b9UR2Cq664Ct2E75E4AVXOjk9QE+sm9/2v7cJ9/xil1mATF/mxdjvmU+2Crdw9gq8D3As/nWj8XWYXwKeNL+PhtcWh4wyv6ZpGJr/x6Xr4y+wHF77M9zob3dK982VbH1MSRja9Z5mIv7I0Ls7y3J/n4nYO8jsK/vCmzH1hm+HehqX14H+NW+PBHYAIQW8vmYgNHY+l+SsTWxTLavKyjmaKB7vtffA68WUvZ6bGc1Kfkeq/OtD8bWgZxq/6wevGT/S//WJN+6Jtg6+ePtfwM/Ai2M/h+piI+8qyM0rdxSSl0D7AIqi0iO0fFomqfRTUNauaSU6qeUqqSUCsLW97BcJwFNK5hOBFp5NRxbZ+0hbG3rTxobjqZ5Lt00pGmaVsHpMwJN07QKrkwMmlWjRg1p3Lix0WFomqaVKdu3b48TkZArbVcmEkHjxo2JjIw0OgxN07QyRSl16Z3rBdJNQ5qmaRWcTgSapmkVnE4EmqZpFVyZ6CPQNE27VHZ2NtHR0WRkZBgdiuF8fHyoX78+3t7eJdpfJwJN08qk6Oho/P39ady4MbYxAysmESE+Pp7o6GiaNGlSojJ005CmaWVSRkYG1atXr9BJAEApRfXq1Ut1ZqQTgaZpZVZFTwJ5Svs56ESgaeXc2bPzyMx0yhw1WjmlE4GmlWPp6UfZs2cwR468bnQo5VLVqgXP8Dlz5kxat25Nq1atCA0NZerUqQBs3ryZzp0707ZtW6655hrCw8MB+Pbbb1FKsW7duvNlLF68GKUUCxcudPn70IlA08oxi2UtAHFxi7Fasw2OpmJYvXo1H3zwAWvWrCEqKoodO3ZQrVo1AIYMGcKXX37Jzp072bVrFwMHDjy/37XXXsvcuXPPv543bx5t2rRxS8w6EWhaOWaxrAEUOTkJJCauNzqcCuHNN99k6tSp1K1bF7Bd2jl06FAAYmJiqFOnDgBms5nQ0NDz+3Xr1o2tW7eSnZ1NSkoKBw8epG3btm6JWV8+qmnllEguFsvP1Kw5mPj45cTELCA4+Fajw3KJkSNh507nltm2LXzwQfH327VrFx06dChw3ahRo7j66qvp3r07t99+O0OGDMHHxzaNs1KKXr168dNPP3Hu3Dn69OnDkSNHSvMWHKbPCDStnEpOjiQnJ5EaNfpQvXof3TzkAV577TUiIyO59dZbmTNnDrfffvtF6wcNGsS8efOYN28egwcPdltc+oxA08qphARbs1BgYE9MJh9iYmaTmPgLwcG3GR2a05Xkm7urtGrViu3bt9OjR48C1zdr1ownn3ySoUOHEhISQnx8/Pl1nTp1YteuXfj6+nLVVVe5K2R9RqBp5ZXFsgZ//w5UqlSDoKDbMJv9iYlZYHRY5d7YsWN58cUXOXPmDACZmZl89NFHAKxcuZK8WSEPHDiA2WwmMDDwov3ffPNNJk+e7NaY9RmBppVDOTlJnDv3Jw0bvgSA2exDjRp97c1DX2AylWxMGu1iaWlp1K9f//zr0aNHM3r0aM6ePUuvXr0QEZRS/O9//wNg1qxZjBo1iipVquDl5cXs2bMxm80XlXnHHXe49T1AGZmzOCwsTPTENJrmuNjYJURF9aNt2w0EBt4MQFzcMnbt6su1166mevXbr1CC59uzZw/XXHON0WF4jII+D6XUdhEJu9K+umlI08ohi2UNJpMfAQHXn18WFHQrZnMAsbG6eUi7mE4EmlYOJSSsISjoFkymSueX2ZqH+hAXtwSrNcvA6DRP4/JEoJQyK6X+UkqtsL9uopTaopQ6oJSar5SqdKUyNE1zXHr6ITIyDhEUdPk9AyEhA8nJsWCxrCtgT62icscZwf8Be/K9fht4X0RaABbgMTfEoGkVRkKCbViJgm4eCw7Oax6KcHdYmgdzaSJQStUH7gK+tr9WQA8gbxSl74B7XRmDplU0FssaKlduiK/v5dehm0yV8109pJuHNBtXnxF8ALwIWO2vqwOJIpJjfx0N1CtoR6XUMKVUpFIqMjY21sVhalr5YLXmYLGsIzj41kLHqLc1DyVisfzs5ug0T+WyRKCUuhuIEZHt+RcXsGmB16+KyJciEiYiYSEhIS6JUdPKm+TkreTmJhXYP5AnOLi3bh5ykuIOQ/3II4/QpEkT2rRpw1VXXcXDDz/MyZPGzxXhyjOCG4E+SqmjwDxsTUIfAIFKqbwb2eoDp1wYg6ZVKHnDSgQF9Sx0G1vz0L366iEXKWoYaoB33nmHv//+m3379tGuXTtuueUWsrKM/T24LBGIyFgRqS8ijYFBwC8i8h9gPdDfvtkQYKmrYtC0isY2rERHvL2Di9yuZk3dPOQqRQ1DnZ9SilGjRlG7dm1Wr17t7jAvYsQQEy8B85RSE4G/gG8MiEHTyp3s7ESSkrbQqNHLV9w2KKg3ZnM1YmIWUL36nW6IzrVG/jiSnWecOw5129pt+eD24o9mV9Qw1AVp3749e/fupW/fvsU+lrO4JRGIyAZgg/35YaCTO46raRVJYuIvgLXI/oE8JlOlfM1DmZhMlV0foFYgTxjmRw86p2nlRELCGsxmfwICuji0fc2aAzh79jsslp+pXv0uF0fnWiX55u4qVxqG+lJ//fUXPXsW3qfjDnqICU0rB0QEi+UnAgN7ODyyaP7mIc15ihqGOj8R4aOPPuL06dOXTVDjbvqMQNPKAduwEkdp0OAFh/cxmSoREtKP2NjFunmohIo7DDXACy+8wIQJE0hLS6NLly6sX7+eSpWMHWlHJwJNKwdsk9TjUP9AfiEhAzhz5lsSEtZSo8bdrgitXLNarQUuf/TRR3n00UcvW/7tt9+6OKKS0U1DmlYOJCSswcenCb6+zYq1X1BQL7y8AvXQ1BWcTgSaVsZZrdkkJv5CUFDhw0oUxnb1UD/i4pZitWa6KELN0+lEoGllXFLSFnJzkwscbdQRISEDyM1Nst+VrFVEOhFoWhln6x8wERjo2OWKlwoK6omXV5Aee6gC04lA08q4hIQ1BAR0xts7sET7X7i5bCm5uRlOjk4rC3Qi0LQyLDs7geTkbcW+WuhSISEDyc1NOn/1kVax6ESgaWWYxWIbVqKk/QN5dPNQyRR3GGqAqVOn0rJlS1q3bk2bNm2YOXPm+XWxsbF4e3szbdq088s6d+5M27ZtadiwISEhIbRt25a2bdty9OhRp70PfR+BppVhFssazOYA/P1LN3yXyeRNjRr9iI2NIDc3A7PZx0kRVjz5h6GuW7cuGRkZzJo1C4AvvviCtWvXsnXrVgICAjh37hxLliw5v29ERARdunRh7ty5DB8+HIAtW7YAtnsQIiMj+eSTT5wesz4j0LQySkRISFhDUFBPTKbSf6erWXMgubnJunmolIoahnry5Ml89tlnBAQEAFCtWjWGDBlyft+5c+fy7rvvEh0d7dYJa/QZgaaVUenpB8jMPEbDhmOcUl5gYA+8vIKJiVlAjRp9nFKmuxw4MJKUFOcOQ121altatHDeMNTJyckkJyfTrFnBN/2dOHGCM2fO0KlTJwYOHMj8+fMZPXp0sY9fEvqMQNPKqLzr/kvbP5Anr3koPn6ZvnrIBfLGHSrMvHnzGDhwIACDBg1i7ty57gpNnxFoWlllsazBx6cZvr5NnVZmzZoDOXPmGyyWn6hRw7iJUoqrJN/cXaWwYagDAgLw8/Pj8OHDNG16+e9s7ty5nD17ltmzZwNw6tQpDhw4QIsWLVwesz4j0LQyyGrNIjFxvdPOBvIEBt5yvnlIK5mihqEeO3YsTz/9NElJSQAkJSXx5Zdfsm/fPlJTUzl58iRHjx7l6NGjjB07lnnz5rklZn1GoGllUFLSZnJzU0p9/8ClTCZvQkLuIyZmHrm56ZjNvk4tv7wp7jDUTz75JCkpKXTs2BFvb2+8vb157rnnmDt3Lv369buo7Pvvv59BgwYxbtw4l78P5QnTpF1JWFiYREZGGh2GpnmMw4df5fjxt+jaNR4vr2pOLTshYQ3//HMbrVotJiTkXqeW7Ux79uzhmmuuMToMj1HQ56GU2i4iYVfaVzcNaVoZZLH8REBAF6cnAchrHqquh6auQHQi0LQyJisrjuTk7U7vH8iT1zwUH7+c3Nx0lxxD8yw6EWhaGZOYuA4Qp/cP5GcbmjqFhIQfXXYMzXPoRKBpZUxCwhq8vALx979i02+JXWge0mMPVQQ6EWhaGSIiWCxrCArq5ZRhJQpjMnkREnIfcXHLdPNQBaATgaaVIWlpe8nMjHZps1CekJCBWK2pJCSsdvmxNGPpRKBpZUjegHBBQb1dfqzAwO54e9fQzUNFcOYw1FlZWYwcOZJmzZrRokUL+vbtS3R0tFveh04EmlaGJCSswdf3Knx9G7v8WCaTFzVq3EdcnL56qDjyD0MdFRXFjh07qFbNdplv/mGod+3axcaNG8m7l+vll18mOTmZ/fv3c+DAAe69917uu+8+3HKvl4h4/KNDhw6iaRVdbm6G/PprFdm//xm3HTMh4WdZvx6JifnBbcd01O7du40OQfz8/C5b1q1bN1m3bl2B2zdo0EAOHjx42fLU1FQJDg6Wc+fOXbS8a9eu8vPPPzsUS0GfBxApDtSxeogJTSsjzp37A6s1zS39A3mqVbsZb+8axMQsICTkPrcdt9hGjoSdzh2GmrZt4QP3DEN98OBBGjZseH6egjxhYWFERUXRs2fPYsdRHLppSNPKCItlDUp5ERjY3W3HtDUP3W+/uSzNbcctj6SIYagLW1fUPs6kzwicJD5+FYcOPY9SZqpUaYWfXyv8/EKpUqUVvr7NMJm8jQ7RYbm5aaSl7SU1NYq0tN2kpkaRmrobkRz7ewrN9/5C8fLyNzrkCiEhYQ0BATe4/fOuWXMgp09PIyFhNSEh97v12A4rwTd3VynJMNTNmzfn2LFjJCcn4+9/4fe7Y8cO7rnnHpfHrBNBKWVnWzh4cBRnz35HlSqh+Pg0Jjl5K7Gx889vo5Q3Vapcfb4Czfvp69vc0ASRm5t6vsJPTd1NWprtZ0bGEUDOx+7rexX+/h1Qykxa2h4sll8QyTxfTuXKDS56X7bn1+DlFVDIkbXiysqKJSVlB02aTHT7satVuwlv7xB785CHJgIPkjcM9YoVK6hduzaZmZlMmzaNZ5999vww1PPnzycgIICkpCTmzZvHsGHDGDJkCKNHj+aLL77AbDYzc+ZM0tLSLksorqATQSnEx69k375hZGWdpWHDV2jceBwmU2UgfyW7+/w36+TkSPuleBdXsvnPHvz8QvH1beHUBJGbm0pq6p7z3+7zfmZkHL0olipVrsbfvyO1aw85X7EXlKxEcklPP2JPHBeSSGLiBqzWCzNbVa7c4JKzh1b4+V3jkoHSyjuL5WcAt/YP5LHdXHY/Z87MJDc3DbO5ittj8FTOGoYabHMdP//881x11VWYTCZatmzJ4sWL3dI0pIehLgHbWcBIzp6diZ/ftbRsOQN//8s7hwpSWLNLRsZhLlTKXucTRP5v2bZKuVKhZefkpJCWtueictPS8ip87GVXuujsxJnNVxcSxMUJJy1tzyUJov5lZ0d+fqE6QRRh795HiYtbxo03xqCU2e3Ht1jW8/ffPQgNjaBmzf5uP35B9DDUFyvNMNT6jKCY4uKWs3//cLKyYmjUaByNGr1aZOV8KbO5Cv7+7fH3b3/RcluC2GevOG2VeHLyDmJjF3J5grBV3pUr1yU9/aC90o8iM/PY+fLyKvyAgC7Urv0Yfn62CtfHp5nLhiaw9Y80p0qV5hdNfi6SS0bG0YvOjlJTozh16gus1gvXp1eqVO98UvDza03NmoP1t09sHYYJCbZhJYxIAgCBgTfh7V2T2NgFHpMINOfRicBB2dkJHDz4f5w9+z1+ftdx7bUrLqvMS8OWINrh79/uouW5uemkpe296Ft+SspOYmN/AMRe4bekWrUbqFLl8fMVqSsr/OJSyoyvbzN8fZtRo8aFji8Rqz1BXHx2dOrUl1itaVgsPxMa6r4JvD1VWtpusrJOuWzYaUcoZbY3D31Hbm4qZrOfYbFozucZNYWHi4tbxv79w8nOjqNRo9dp1OjlYp0FlIbZ7FtogsjKOkvlyvU9psIvLqVM+Po2tU++fnGCOHr0dY4dm0idOkMJCnJ9Z5knS0hw37ASRQkJGcCpU58TH7+KmjUHGBpLHnddXunpStvE77L7CJRSPkqprUqpv5VSUUqp8fblTZRSW5RSB5RS85VS7qlRSyA7O57du//Lrl198fauRfv222jSJNxtSaAoZrMvvr6Ny2wSKIpSJho2fBkfn6YcOPAMVmuW0SEZymJZQ5UqLfHxaWhoHBeahzxj7CEfHx/i4+PdMwSDBxMR4uPj8fHxKXEZrqxFMoEeIpKilPIGNimlVgOjgfdFZJ5S6gvgMeBzF8ZRIrGxS9i//wlycuJp3Dichg3HekQCqCjMZl9atPiIf/+9m+joD2nY8AWjQzJEbm4GiYm/UqfOUKNDsTcP9efMmRke0TxUv359oqOjiY2NNTQOT+Dj43PR1UvF5bJEYB/nIsX+0tv+EKAH8KB9+XdAOB6UCLKy4jh48FliYuZStWpb2rT5iapV2xgdVoVUvfpdVK/eh6NHx1Oz5mB8fEr+h15WJSX9jtWabmj/QH625qHPiI9fSc2aAw2NxdvbmyZNmhgaQ3nh0iEmlFJmpdROIAZYCxwCEkUkx75JNFCvkH2HKaUilVKR7sr4sbGL2LatFbGxC2nc+A3at9+qk4DBmjf/AMjl0KHnjA7FEAkJa1DKm2rVbjY6FAACA7vh7V3LY5qHNOdwaSIQkVwRaQvUBzoBBV30W2ADn4h8KSJhIhIWEhLiyjDJyoojKmoQUVH3U7lyfTp0iLTfHFZ2hoUor3x9m9Cw4cvExi4gIeFno8NxO4tlDdWq3YiXV8Hj3rtb3tVD8fEryc1NNToczUncMuiciCQCG4AuQKBSKq9Jqj5wyh0xFCYmZiHbtoUSF7eIJk0m0r79ZqpWvc7IkLRLNGjwAj4+zSpcx3FW1llSUnYacjdxUWrWHIjVmk58/EqjQ9GcxJVXDYUopQLtz32BXsAeYD2Qd0fKEGCpq2IoSlZWLFFRA9m9ewCVKzegQ4ftNGr0ij4L8EBmsw8tWnxMevo+oqPfNzoct8kbVsJT+gfyVKvWlUqVahMTs8DoUDQnceUZQR1gvVLqH2AbsFZEVgAvAaOVUgeB6sA3LoyhQDExEfazgKU0aTLJfhZwrbvD0IqhevU7qFHjXo4efYOMjBNGh+MWCQlr8PKqTtWq7a68sRspZaZGjftJSFhJTk7KlXfQPJ7LEoGI/CMi7UTkOhFpLSJv2JcfFpFOItJcRAZI/mEsXSwrK4aoqAHs3j0QH5/G9rOAl/VZQBnRrNn7gHDo0GijQ3E5EcFiWUNwcG+U8rxpQ2zNQxkkJOjmofLA8/7CXEBEiImZz7ZtrYiLW0aTJm/Srt2fVK3a2ujQtGLw9W1Mo0avEBu78PzdtuVVauousrLOEBR0m9GhFKhatRt181A5Uu4TQVbWWaKi+rN79yB8fJoQFvYXjRqNKZd35FYEDRo8j69vcw4cGIHV6raTSbezWGyJLjjY2GElCpN3c1lCwirdPFQOlOtEcPbsPLZubUV8/AqaNn2Ldu3+wM8v1OiwtFIwmSrTvPnHpKfv58SJ94wOx2USEtbYR5gt8DYbjxASYmseio9fYXQoWimV60QQF7cYX9/mhIX9RcOGL+mzgHKievXbqVHjPo4dm0BGxrEr71DG5Oamc+7cRo+7WuhStuahOsTG6uahsq5cJ4Krr/6a9u1/12cB5VDz5u8DioMHRxkditOdO/cbVmuGx90/cCmlTPbmodXk5CQbHY5WCuU6EXh5+Rs2kYfmWj4+DWnUaBxxcYuJj19tdDhOZRtWohKBgTcZHcoVhYQM0M1D5UC5TgRa+dagwWh8fa/mwIER5OZmXHmHMsI2rES3MjE724XmIT32UFnmcCJQSnVVSj1qfx6ilNLD/mmGMpkq0aLFx2RkHOLEialGh+MUmZmnSU391+P7B/LYmocGEB+/SjcPlWEOJQKl1OvY7ggea1/kDXzvqqA0zVHBwb0JCRnA8eOTSE8/anQ4pWaxrAXw+P6B/EJCBiCSSXz8cqND0UrI0TOCfkAfIBVARE4B/q4KStOKo1mz9wAzBw+ONDqUUktIWIO3d80yNfBhtWo3UKlSXd08VIY5mgiy7BPNCIBSSs9crXkMH5/6NG78GvHxS8v0iJgiViyWtQQFeeawEoXJu3ooPn41OTlJRoejlYCjf20LlFLTsA0hPRT4GfjKdWFpnuaI5Qh74/YaHUah6tcfSZUqLTlw4Nlidxxn5mTyx4k/DJ/7NiXlH7KzY8pM/0B+NWsOtDcPle+rh7af2k5adppbjpWdncjJk5+55e/SoUQgIlOBhcAPwNXAayLysSsD0zzH0r1Lufbza+n8dWcOWw4bHU6BbB3Hn5CRcZgTJ6Y4vJ+I8Pjyx7lx+o1M2z7NhRFeWd6wEkFBnjmsRFECAq6nUqV65XrsoZX7VxL2VRiPL3vcpcfJzk7kyJFwNm9uzIEDT5OcvM2lx4NiXDUkImtF5AUReV5E1royKM0ziAhvbXqLfvP70bJGS0zKxMCIgWTmeOYYP0FBPQkJeYDjx98kPd2xhDX9r+l8/8/31PKrxcgfR/LX6b9cHGXhEhLW4Od3LZUr1zEshpK6cHPZj+VtMnJbAAAgAElEQVSyeej4ueM8vORhKpsrM3fXXCJPRTr9GNnZFo4ceZ3Nmxtz7Nh4goJuoUOHHQQEdHL6sS5VZCJQSiUrpZIKe7g8Os0wGTkZDFkyhLHrxvJA6wf47dHf+Lbvt2w/vZ3n1nju/MHNm7+Lox3H/5z9h2dWP0PPJj35+4m/qVGlBgMiBnAu45zrA71Ebm4a5879VqauFrrUheah8nX1UHZuNoMWDiI7N5vf//c7NarU4IW1LzityebiBPAGQUE96NDhL1q3Xoy/v3vmoigyEYiIv4gEAB8AY7BNNF8f26WkE10fnmaEMylnuOW7W5j1zyze6P4Gc+6bg6+3L31b9mV0l9F8uu1TIqI88wqRypXr0bhxOPHxy4mLK7xCSs5MZkDEAAJ9Apl932xqVa3F/P7zOZp4lKHLh7q9vyAxcSMiWWWyfyBPQECXctk89PK6l/kz+k++uucrOtTtwOs3v86GoxtYfbB0d7RnZydw5Mhr+RJAL8LCdtK69SL8/ds6KXoHicgVH8AWR5a56tGhQwfR3GPHqR3S4L0GUmVSFVkYtfCy9Zk5mdL5q87iP9lfDsQfMCDCK8vNzZItW0Llzz+bSE5O2mXrrVarPPjDg2Iab5L1R9ZftO7tTW8L4cgnWz5xU7Q2Bw6Mkg0bKhcYb1ly4MBI2bChkhw//r6kp58wOpxSW7Z3mRCOPLniyfPLMnMypflHzaXVp60kJzen2GVmZcXL4cOvysaN/rJ+PfLvv/dLcvLfzgz7PCBSHKhjHe0jyFVK/UcpZVZKmZRS/wFyXZSbNIMs2rOIrjO6IgibHt3E/aH3X7ZNJXMl5vefj5fJi4ERA8nI8byhHUwmb3vH8RGOH3/7svVf7/iaOf/OYXz38XRv3P2idc/f8Dx3tbiL0WtGs/3UdjdFbOsfCAy8CbPZ123HdIV69Z7Fzy+UQ4dGsXlzA3bsuIETJ94vk9OLHks8xpAlQ2hXux3v3XZhyPNK5kq82fNNomKj+O7v7xwuLzs7gcOHX7WfAUwkOPg2wsL+pnXrhcbfN+JItgAaY5tkPg6IBZYAjR3Z1xkPfUbgWlarVSb8OkEIRzp/1VlOJ5++4j4FfVPyNFFRg2XDhsqSlnbw/LKdp3dK5QmVpffM3oV+m4tLjZMG7zWQJh80EUu6xeVxZmREy/r1yLFj77j8WO6SmrpPjh6dKFu3tpH165H165Ht26+X48ffk/T040aHd0V5Z74BbwbIwfiDl623Wq3S5esuUvfdupKalVpkWVlZcXLo0CvnzwB27eovycn/uCr0i+DgGYFbKvLSPnQicJ20rDQZvHCwEI7854f/SHp2usP7Pv/T80I4Mu/feS6MsOQyMk7Kxo3+8vffd4jVapWkjCRp8VELqTO1jpxNOVvkvn8c/0O83vCS++bfJ1ar1aVxnjo1Q9avx2XNA0azJYVJsm1b23xJoYscP/6upKcfMzq8Ao36cZQQjkRERRS6zW/HfhPCkUkbJxW43pYAXpaNG6vK+vVKdu0a4LYEkMepiQDwAZ4GPgOm5z0c2dcZD50IXONk0knp+GVHUeFK3vztzWJXeFk5WXL919dL1clVZX/cfhdFWTrHj78n69cjMTGLZdDCQWIab5INRzY4tO87v78jhCMfbf7IpTFGRQ2WTZtquTzheILU1P1y9Ohk2bat3fmkEBnZWY4fnyrp6UeNDk9ERJbsWSKEI8+sfOaK2947717xn+wvMSkx55dlZsbKoUNj8yWAgZKc/K8rQy6UsxNBBDABOAQMAdYAHzqyrzMeOhE4X+TJSKn3bj3xm+QnS/YsKXE5xxOPS/DbwdLm8zaSluV5HZ25uVmydWtrWbMhWCq/Ufi3t4JYrVa5Z8494v2Gt2yN3uqS+KzWXNm0qYbs3v2QS8r3ZKmpBwpICp3k2LF3JC3tiCExHU44LIFvBUqHaR0kIzvjitvvid0j5vFmeWblM/YEMEZ+/dXPngAekJSUXW6IunCOJgJl27ZoSqm/RKSdUuofEblOKeUN/CQiPZzVV1GUsLAwiYx0/g0cFVVEVARDlgwhxC+EZYOW0aZ2m1KVt3L/Su6eezfDOwzni7u/cFKUzrPt0NeknhjK70lNGXvPAUzFGMcnIT2BdtPaYVImdgzbQZBvkFNjS07ewfbtHWjZcha1a//XqWWXJenph4iJiSA2NoKUlB0A+Pt3JCRkACEhA/D1bezyGLJys+g6vSv74vfx1/C/aBrU1KH9Rq54hAzLTAY38kWs6dSs+QCNGo3ziJkRlVLbRSTsSts5+h+Rbf+ZqJRqDVTD1oGslSFWsRK+IZyBCwfSvk57tg3dVuokAHDXVXfx4g0vMm37NOb+O9cJkTpPUmYSD656m03xvnStFk1G+qFi7R/sG8z8/vOJTormf8v+hyNfnIojIcE2rERwcNkbVsKZfH2b0ajRGMLCttO58yGaNn0LESuHD7/Ili1N2L69I8ePTyE9/YjLYnhx7YtsO7WN6X2mO5QEsrJiOXRoDP0CIhhYX9iXVp2OHXcRGjrXI5JAcTiaCL5USgUB44BlwG7A8QFdNMOlZacxaOEgxv86niFthrDu4XXU9KvptPIn9pjIjQ1uZNiKYeyL2+e0cktDRBi6fChHLEe4ud1cTCYfDhwYUezKvEv9LkzpNYUle5fw4ZYPnRqjxbKGqlXbUqlSLaeWW5b5+jalYcOXCAuLtCcF2yXAhw+/xJYtTV2SFBbtWcSHWz7k2U7PFnjZdH62BPASmzc34cSJKYTUuJft6mmGbznBv5ayOeCCQ01DRtNNQ6UTnRRN33l9+ev0X0zpPYXnrn8OpZRLjtP2i7bU9a/Llse34Ott7DXxn237jKdXPc2bPd9kTNcxREd/yMGDI2nVahEhIf2KVZaI0G9+P1YeWMmmRzfRuX7nUseXm5vKpk1B1K8/imbNLr/fQbtYevoRYmMXEhsbcX4gtqpVO1Ct2vWUZtbdc5nnmPvvXIJ8AhnQagCmIuY5z81NJiZmPlZrBjVrDqJRo1fx87uGlKwUmn/UnBbVW7DxkY0u+f8qCUebhopMBEqp0UXtLCLvFbXeWXQiKLmtJ7dy77x7Sc5KZu79c7n7qrtderzVB1Zz55w7ebzd43zVx7iRynec3sH131xPr6a9WD54OSZlwmrNYfv29uTknKNTp92YzcWbVsOSbqH9l+0REXYM30Gwb3CpYoyPX8W//95FmzY/ExTUs1RlVTTp6UfPJ4X09P0lLkcEkrOSsYqVgMr+DvQfmQgOvsOeAFpetGZa5DSeWPkESx5YQt+WfUsckzM5mgiudLXQ6/bHHOAA8K79sR/42pHeaGc89FVDJTPnnzniM9FHGn/QWP49677L18b+PFYIR2b9Pcttx8wvMT1Rmn7YVOq/V19iU2MvWmexbJT165FDh14uUdlboreI9xve0mdun1Jf7rl////Jr7/6Sk6O4/duaM41YtUIIRxZvGdxqcvKzs2Wqz++Wq7++GrJzs12QnSlh5MvH10D+Od77Q/86Mi+znjoRFA8udZceXXdq0I4ctOMmy66xtkdsnOzpdv0buI3yU/2xO5x67GtVqvcP/9+MY83y6ZjmwrcZvfuh2XDBm9JTd1XomN88OcHQjjy7h/vliZU2bLlGvn779tLVYZWchFREUI4MnL1SKeVmXcPwhfbvnBamaXh7ESwF6ic73VlYK8j+zrjoROB41IyU+S++fcJ4chjSx+TzJxMQ+KIPhctIVNCpPVnra94C74zfbzlYyEcmbJpSqHbZGaekY0bA2TnzltL9K3earVKv3n9xOsNL/nzxJ8lijM9/bisX48cP/5eifbXSudg/EEJeDNAOn3Vyan/I1arVbpO7yq13qklyZnJTiu3pBxNBI72sMwCtiqlwpVSrwNbgJkO7qu5yfFzx+k6oytL9i7h/dve56t7vqKSuZIhsdQLqMf3931PVEwUI1aNcMsxI09FMvqn0dzV4i6eu6HwORMqVapFkyYTsVjWEBe3qNjHUUoxve90GgQ0YGDEQOLT4otdhsVim9upLA87XVZl5GQwcOFATMrEgv4LnPo/opRiau+pnE09y7t/vOu0cl3N0akqJwGPAhYgEXhURCa7MjCteP488SedvurEYcthVgxewcguIw2/cuHWZrfycreXmb5zOjP/du33hsSMRAZGDKR21dp8d+93V+z0q1v3Sfz82nDw4Ehyc1OLfbxAn0AWDFjA2dSzDFkyBKtYi7V/QsIaKlWqS5UqZet68/LguZ+eY8fpHXx373c0Cmzk9PI71+/MgNABvPPHO5xJOeP08l3hSjOUBdh/BgNHsZ0ZzAKO2ZdpHmDW37Po/l13qlaqyubHNnNHizuMDum88O7h3NzoZp5c+SS7Y3e75Bgiwv+W/o8TSSeY338+1atUv+I+JpMXV131KZmZ0Rw9OqFExw2rG8a7t77LygMri/XtTyQXi2UtwcG3Gp6sK5oFUQv4LPIznrv+Ofpc3cdlx5ncczKZuZmEbwh32TGcqqh2I2CF/ecR4HC+xxHgsCNtT8546D6CguVac+WltS8J4Uj3b7tLXGqc0SEV6GTSSQmZEiKhn4ZKSmaK08v/cPOHQjgy9fepxd53z55HZMMGL0lJ2V2iY1utVum/oH+RndOXOndum6xfj5w5M6dEx9RKZn/cfvGf7C9dvu4iWTlZLj/eiFUjxDzeLLtjSva35Qw4c6who+n7CC6XlJnEQ4sfYtm+ZQzvMJyP7/gYb7O30WEV6ufDP3PrrFt5uM3DfHvvt04rd+vJrXSd3pXbm9/O0kFLi/0NOysrhq1br6ZKlVbUrTu0RDGkZafx+obXybHm8Eb3N/Cv7F/k9gkJa4mJmc0NN8RQqVJIiY6pFU9GTgbXf3M9x88d56/hf9GwWkOXHzM2NZZmHzWjR5MeLBm0xOXHK4ij9xF4OVjYOhHpeaVlmnv8dPAnhi4fysnkk3x8x8c83fFpj29i6NW0F+NuGscbG9+ge+PuPNL2kVKXaUm3MDBiIHX96/Ltvd+W6DOoVKkmTZu+w/79Q0lK+r3EsTzWwPbz5BHHOsYDAm7QScCNRv04ip1ndrJ88HK3JAGAEL8QxnQdwyu/vMJvx36jW6NubjluSVzpzmIfoAqwHugO5P2nBQCrReQaVwcI+owgz7mMczy35jm++esbrqlxDTP6znDKUAfukmvNpfes3myO3szWoVtpXbN1icsSsQ35sOrAKn579LdSfw6ZmWewWtNLVcb3/8zitQ2v89INLzI87Ikit61UqXaZn5ayrJj771weXPQgL9zwAlN6u3eItLTsNFp83IIGAQ3487E/3f6FzVl3Fv8ftv6ATC70DRwB/gaeucK+DbAlkD1AFPB/9uXBwFpsdyqvBYKu1H6l+whEVu1fJfXfqy+m8SYZs3ZMsWYS8ySnk09LrXdqSctPWpbqOuv3/nhPCEfe//N9J0ZXOlarVQZGDBTzeLP8duw3o8PRRGRf3D6pOrmq3PDNDW7pFyjINzu+ueJsZ66Ck28oG+HIdpfsUwdob3/uj21YilBso5aOsS8fA7x9pbIqciKwpFvk0SWPCuFI6KehsiV6i9EhldrPh34WFa7kv4v+W6Ibujaf2Cxeb3jJvfPu9bhZvc5lnJPmHzWXuu/Wdfsd3drF0rLS5LrPr5Pqb1eX44nGzZOck5sjrT5tJc0/au72GzwdTQSO3kfwsVLqBqXUg0qph/MeV9jntIjssD9Ptp8Z1AP6At/ZN/sOuNeRGCqiVQdW0fqz1sz8eyYvd32ZHcN20KleJ6PDKrWeTXvy+s2v8/0/3zP9r+nF2jchPYGBCwdSP6A+0/tM97i+kYDKASzov4D4tHgeWvxQse8v0Jxn5I8j+efsP8zqN4sG1RoYFofZZGZK7ykcTDjIl9u/NCyOIjmSLbDdO/AHtjmLP7Y/PnJkX/v+jYHj2PoWEi9ZZylkn2FAJBDZsGFD16VMD5SQliBDFg8RwpFWn7aSbSe3GR2S0+Xk5kjP73qKz0Qf+eeMYxN6u2PqSGf5fNvnRU5srrnW7H9mC+HImLVjjA5FRGx/u7d8e4vUmFJDzmWcc9txcXLT0B7sHcvFfQBVge3AffbXDiWC/I+K1DS0Yt8KqftuXTGPN8sr615xaN7UsupM8hmpPbW2XP3x1ZKUkXTF7af+PlUIRz7c/KEboisdq9UqgxYOEtN4k2w4ssHocCqUPbF7xG+Sn3Sd3tVjRgEVEdl2cpsQjryy7hW3HdPRRODoWEO7gNrFPduwz238AzBbRPIGdTmrlKpjX18HiCluueWRJd3CkCVDuHvu3QT7BrPl8S1M7DGRyl6VjQ7NZWpVrcWc++ZwIOEAT6x8Iu+LQYH+PPEnY9aN4b5r7mNEJ/eMXVQaSim+vPtLmgU1Y/APg4lJ1X/m7pCWncaAiAH4evsy9/65eJkcukLeLcLqhjG49WDe+/M9TiadNDqciziaCGoAu5VSPymlluU9itpB2RpvvwH2yMUT2CwDhtifDwGWFjfo8mb5vuW0+qwVs/+ZzbibxrF92HY61O1gdFhucUuTWwi/OZw5/87h6x1fF7hNfFo8Dyx8gAYBDfimzzce1y9QGP/K/kQMiMCSYeG/i/5LrjXX6JDKvWdXP8uumF3M6jeL+gH1jQ7nMpN6TCJXcnlt/WtGh3IxR04bgJsLelxhn66AAP8AO+2PO4HqwDpsl4+uA4KvdPzy2jQUnxYv/130XyEcue7z62T7qe1Gh2SInNwc6T2zt1SeUFl2nt550bpca67cNfsuqTShkkSejDQowtL5MvJLIRyZ8OsEo0Mp12bunCmEIy//XLJJh9xl9I+jxTTe5HDfWGngzD4Cox/lMREs3btUak+tLV5veMlrv7xm2LwBnuJsylmpM7WOtPioxUX9BVM2TRHCkY+3fGxgdKVjtVrlwR8eFNN4k/xy+BejwymXdsfsliqTqshNM27yqH6BgsSnxUvgW4Fy5+w7XX4sRxOBQ01DSqkuSqltSqkUpVSWUipXKZXkxBOTCiM+LZ7/Lvovfef1pZZfLbY+vpXxt4w3bN4AT1HTryZz75/LIcshhq0Yhojw+/HfGbtuLANCB/B0x6eNDrHElFJMu3saLYJb8OCiBzmbctbokMqV1KxUBkQMwM/bz+P6BQoS7BvMy11fZtWBVfxy5BejwwEc7yP4BBiMrTnHF3jcvkwrhiV7l9Dqs1bMj5pP+M3hbB26lXZ12hkdlse4ufHNTLhlAvN2zePNTW8y6IdBNA5szFf3fFVm+gUKU7VSVSIGRJCYkch/Fv1H9xc40YjVI9gdu5vv7/ueuv51jQ7HISM6j6BhtYa8uPZFj7jXxNFEgIgcBMwikisiM7CNPaQ5IC4tjgd/eJB+8/tRx78OkUMjeb376xX+LKAgY7qO4bZmt/HKL68QkxrDggELqOZTzeiwnOLaWtfyyR2fsO7IurIzTr0Hi06KZtwv45ixcwavdHuFW5uVndnefLx8mHjLRLaf3s78XfONDsexYaiVUhuBXsDXwBngNPCIiLRxbXg2ZXnQuUV7FvHkyiexpFsYd9M4xnQd49HDRXuC2NRY+s3vx9D2QxnSdsiVdyhDRITHlj3GjJ0zeLvX27x444tGh1SmnDh3goW7FxKxO4I/o/8EoM/VfVg0cBFmk9ng6IrHKlbaT2vPucxz7H16r0suFXfqMNTAQ4AZeAYYhW1AuftLHl75F5say4jVI5gfNZ92tdux9qG1XFfrOqPDKhNC/ELY9L9NRofhEkopvrznS9Jz0nnp55cAdDK4goIq/za12jDxlokMaDWAq6pfZXCEJWNSJt7p/Q63fn8rn237jFHXjzIsFocSgYgcsz9NB8a7LpzyYeHuhTy18ikSMxKZcMsEXrrxJX0WoJ3nZfJiVr9ZALz080uICC91fcngqDzL8XPHz1f+m6M3A+Wj8r9U72a9ubXZrUzYOIFH2j5CkG+QIXE4OjHNEWz3BFxERJo6PaIyLDY1lqdXPU3E7gja12nPuofXcW2ta40OS/NAeclAoRizbgyCMKbrGKPDMtSxxGPnK/8tJ7cA0LZ2Wyb1mMSA0AG0qN7C4Ahd4+1eb9N+Wnve2vQWb/d+25AYHG0ayt/G5AMMwDavgGYXERXBU6ue4lzGOSb1mMQLN7ygzwK0InmZvJjZbyZKKcauG4uIMLbbWKPDcqujiUfPV/5bT24FoF3tdkzuMZkBrQbQPLi5wRG6XtvabXmozUN8uOVDnur4FI0CG7k9hhLPWayU2iQiXZ0cT4E8ubM4JjWGp1c9zcLdCwmrG8aMvjNKNfOWVvHkWHMYsmQIc/6dw+Qek8t9MjiaeJSIqAgidkew7dQ2ANrXac+A0AH0D+1fISr/Sx0/d5yrPr6Kga0GMrPfTKeV6+w5i9vne2nCdoZQ9Azd5ZyIsCBqAU+veprkrGQm95jMCze+4PE3s2iex8vkxcx7Z6JQvPzLywjCy91eNjospzpiOULEblvlH3nK9qWuQ50OvNXzLfqH9qdZcDODIzRWw2oNGdllJFN+n8KoLqPcfn+Ro7XWu1zoI8gBjmJrHqqQzqac5alVT7FozyI61u3IjL4zaFWzldFhaWWY2WTmu3tt8zW98ssriAiv3PSKwVGVTkGVf1jdMN7u9Tb9Q/vTNEh3MeY3pusYvtrxFS/9/BJrHlrj1mM7mghWYEsEebd3CnB33t2ecvHoouWWiDA/aj7PrHqG5Kxk3ur5Fs/d8Jw+C9CcIi8ZKKV4df2rCMKrN71qdFjFci7jHNO2T2NB1AK2n94OQMe6HZnSawr9Q/vTJKiJwRF6rkCfQMbdNI5RP41izaE1br1BztEarAPQEduQ0Qq4B9gInHBRXB7nTMoZnlr5FIv3LqZTvU7M6DuD0JBQo8PSyhmzycy3fb9FoRi3fhxAmUkGPx78kaHLhxKdFE2nep14p/c79A/tT+PAxkaHVmY8GfYkH235iBfXvkjPJj3ddpOco4mgBraJ6JMBlFLhQISIPO6qwDyFiDB311xGrB5BalYqU3pNYdT1o/RZgOYyZpOZGX1noJQtGYgI424eZ3RYhUrMSGT0T6OZsdP25WjzY5vpXL+z0WGVSZW9KjO552QG/zCY2f/O5uE2RU4N7zSO1mYNgax8r7OwzUNcrp1OPs2TK59k6b6ldKnfhRl9Z9CyRkujw9IqALPJzPQ+01EoXtvwGoLw2s0eNpkJsOrAKoYtH8bplNOM7TqW125+DR8vH6PDKtMGthrIu3++y6u/vMqAUNtsa67maCKYBWxVSi3G1j/QD/jOZVEZTESY/e9snl39LOk56UztPZWRXUaWubFMtLLNbDLzTZ9vAHh9w+uICK93f93gqGwSMxIZ9dMovt35La1CWrH4gcV0rNfR6LDKBZMyMaXXFHrM7MHHWz92yxAkjg4xMUkptRroZl/0qIj85bqwjHM6+TRPrHyCZfuWcX3965nRdwZX17ja6LC0CiovGSilCP81HEEI7x5uaEwr969k2IphnE05yyvdXmHcTePK9dzaRrilyS3c1eIuJv82mcfaPUb1KtVdejyHG7pFZAeww4WxGEpE+P6f73n2x2fJyMng3Vvf5f86/58+C9AMZzaZ+fqer1Eoxv9qG+rLiGRgSbcw6qdRfPf3d7Su2Zplg5ZVmLm1jfB2r7d5atVTWDIsnpMIyrNTyacYvmI4K/av4IYGNzCj74xyM6iVVj6YTWa+7vM1gCHJYPm+5QxfMZyY1Bhe7fYqr970qj4LcLFWNVvx6yO/uuVYFToRiAgz/57JyJ9GkpmTyfu3vc+ITiP0WYDmkUzKxNd9LpwZiNiaiVw5e1tCegIjfxzJrH9mcV2t61jx4Ara12l/5R21MqXCJoKTSScZtmIYqw6somvDrkzvM73cjm6olR8mZeKrPl8B8MbGNxCE8d3HuyQZLNu3jOErhhOXFsdrN73GKze9omfVK6cqXCIQEb77+ztG/jiSrNwsPrjtA0Z0HoFJOTxrp6YZKi8ZKKWYsHECgFOTQUJ6As+ufpbZ/86mTa02rHpwlZ5bu5yrUIkgOimaYcuHsfrgaro17Mb0vtMr5EiHWtlnUia+vOdLFLZkICK8ccsbpU4GS/cuZfiK4cSnxxN+czhju43VZwEVQIVIBCLCjJ0zGPXTKHKsOXx0+0c83elpfRaglWkmZWLaPdNQSjHxt4kIwoRbJpQoGcSnxfPsj88y5985tKnVhh//+yNta7d1QdSaJyr3ieDEuRMMWzGMHw/+yM2NbuabPt9U+CFvtfLDpEx8cfcXAEz6bRIiwsQeE4uVDBbvWcwTK5/Akm5hfPfxjO06Vk+qVMGU60TwzY5vGL1mNDnWHD654xOe7PikPgvQyp28ZKBQTN40GUGY1GPSFZNBXFocI1aPYN6uebSr3Y61D63lulrXuSlqzZOU60Tw67FfaV+nPd/0+UaPfa6VayZl4vO7P0cpxZub3gQoMhks2rOIJ1c+iSXdwoRbJvDSjS/ps4AKrFwngi/u/gIfLx99FqBVCCZl4rO7PkNhSwYiwuSeky9KBrGpsYxYPYL5UfNpX6c9Pz/0M9fWutbAqDVPUK4TQRXvKkaHoGluZVImPr3rU5RSvPX7WwjCmz3fRCnFwt0LeWrlUyRmJDKpxyReuOEFfRagAeU8EWhaRWRSJj658xMA3v79bTJyMjiVfIqI3RGE1Q3jl76/0Lpma4Oj1DyJTgSaVg6ZlIlP7/wUgA+3fEglcyUm95jMCze+oCdV0i6j/yI0rZxSSvHpnZ/SqV4nOtXrpKdW1QqlE4GmlWNKKR5p+4jRYWgeTl9Oo2maVsHpRKBpmlbB6USgaZpWwelEoGmaVsG5LBEopaYrpWKUUrvyLQtWSq1VSh2w/wxy1fE1TdM0x7jyjOBb4PZLlo0B1olIC2Cd/bWmaZpmIJclAhHZCCRcsrgv8J39+WywUTkAABECSURBVHfAva46vqZpmuYYd/cR1BKR0wD2nzUL21ApNUwpFamUioyNjXVbgJqmaRWNx3YWi8iXIhImImEhISFGh6NpmlZuuTsRnFVK1QGw/4xx8/E1TdO0S7g7ESwDhtifDwGWuvn4mqZp2iVcefnoXOBP4GqlVLRS6jHgLaC3UuoA0Nv+WtM0TTOQywadE5HBhazq6apjapqmacXnsZ3FmqZpmnvoRKBpmlbB6USgaZpWwelEoGmaVsHpRKBpmlbB6USgaZpWwelEoGma5qlOnnTLYXQi0DRN80TTp0OLFhAZ6fJD6USgaZrmadatg+HDoVs3aNPG5YfTiUDTNM2T7N4N998PLVvCggXg7e3yQ+pEoGma5inOnoW77gJfX1i5EqpVc8thXTbWkKZpmlYMaWnQpw/ExMDGjdCwodsOrROBpmma0axWeOgh2LYNFi+GDh3cenidCDRN04w2ZgwsWgTvvw99+7r98LqPQNM0zUjTpsE778DTT8P//Z8hIehEoGmaZpSffrIlgDvvhA8+AKUMCUMnAk3TNCP8+y8MGACtW8O8eeBlXEu9TgSapmnudvq07TJRf39YscL200C6s1jTNM2dUlPhnnsgIQF++w3q1zc6Ip0INE3T3CY3F/7zH/jrL1i2DNq1MzoiQCcCTdM093n+eVi6FD75xNY05CF0H4GmaZo7fPKJ7cqgkSNtVwp5EJ0INE3TXG3lSts9An36wNSpRkdzGZ0INE3TXGnnTnjgAWjbFubMAbPZ6IguoxOBpmmaq0RH2/oCgoNh+XLw8zM6ogLpzmJN0zRXSE62XSaanAybNkHdukZHVCidCDRN05wtJwcGDbLdPbxyJVx3ndERFUknAk3TNGcSsV0ZtGoVfPEF3Hab0RFdke4j0DRNc6aPPoJPP4UXXrDNO1wG6ESgaZrmLEuXwqhRtjmH33rL6GgcphOBpmmaM0RGwoMPQseOMHMmmMpO9Vp2ItU0TfNUx4/brhAKCbGNIVSlitERFYvuLNY0TSuNpCTbvQLp6bBuHdSqZXRExaYTgaZpWkllZ9sml9m7F1avhtBQoyMqEZ0InCEuDnbvtv0xZGS477iVKsFVV9n++GrVMmyauzLLaoWjR22/u1OnoFkzaNVKf5aaY0RgxAhYswa+/hp69TI6ohLTiaA4YmNtlUZU1MU/Y2KMjsx2C3toqK0ia9XqwnNdqV2o8PP/3qKiYM8e2+n8pfJ/lvl/1q6tP0vtgnfftU08P3YsPPaY0dGUihIRo2O4orCwMImMjHTfAWNjL6/so6Jsy/P4+19eUVxzjXunnEtLs52FXFrBJSZe2CYo6PI4W7Uqn5Wa1QpHjlz8WezefXmFX6/e5Z9JvXpw8ODln6XFcmG/oKCCk215/Cy1ov3wA/TvbxtMbs4cj71CSCm1XUTCrridEYlAKXU78CFgBr4WkSIvuHVZIoiJubzSiIqyNfXkCQgouCKtV88z//lF4MyZy5NYUZVa/p916njm+8ovN/fiCj/v5969F1f49etf/v5CQ6FaNceOIwJnzxb8WSYkXNguMLDgv5Gy8FlqxbdlC3TvDu3b2zqHfXyMjqhQHpsIlFJmYD/QG4gGtgGDRWR3YfuUKhGIXFzh/397Zx5tVVXH8c9XFBDIhyKwRIaHpSQoMShKmhOaLTVLpZDQxCHTnDL9I7VMMYcsVoloii6cYgk5pqSBE7pEcWAQeEBYDIlmCCoKCDL8+mPvyzu8Ae657757H/f+Pmvdde45+5zz2/vsvX+/PZzz28ltUuFXVNRdmTt1Ko3KnEap1dXqLYZSyyj8mvk2f/7WczFdutTOt/33z17hpyVTpurqNa5cWX1e8lkmt6VSpsqRxYvh0EOhTRuYNi28LtqEacqGYCBwnZkdH/evAjCzm+u7JldDMPXACzhgwaNUbKyunJ/v3JYlrXqxpHXPsG3VkyWte7GyeZm23szYfcNyuq2ZR/e1VXRbO4/KNVV0X1NV67mtbL4XRmGeUTPbRMf1S2mxuVrh/69Fl5h31fm2tNX+rN15t4LEabuY0XbDR1SuqaJy7Twq11ZRuSZs226obnSsblbBihadCvYsnfyxx5cfIoyL+r7Oe616NLq8Pn3Coma5kq0hKMZk8d7Ae4n9ZcAhNU+SdD5wPkDXrl1zEvTJbt14uf1pLI1KY0mrnuWr8OtD4pPmHfmkeUdm7X70VkFtv1weFNqaqqDMvvyonpvkH5N4vd1JLG7di6WtejYthV8fEp8278Cs5h2a1LN08sei1r15rPNlBTEChaQYhqAuLVyrW2JmY4AxEHoEuQg6aepVuVzmbKFD/B1V5HiUAv4sS4VBxY5AI1CMqe5lQJfEfmfggyLEw3Ecx6E4huAtYF9J3SU1B04HnipCPBzHcRyKMDRkZhslXQxMIrw+OtbMqgodD8dxHCdQlC+LzewZ4JliyHYcx3G2pml+Duc4juMUDDcEjuM4ZY4bAsdxnDLHDYHjOE6Zs0N4H5X0EbA0x8v3BFZs96z8UUh5pZy2Qssr5bQVWl4pp63Q8hoqq5uZbdch0g5hCBqCpLez8bWxI8or5bQVWl4pp63Q8ko5bYWWVyhZPjTkOI5T5rghcBzHKXPKwRCMKWF5pZy2Qssr5bQVWl4pp63Q8goiq+TnCBzHcZxtUw49AsdxHGcbuCFwHMcpc0rGEEhaXSA5myTNSvwqG1GWSXoosb+zpI8kTWwsmVHOKVH21+P+UfmSmWuaJB0kaVQe5BeknKSRKWmKpAa9IlgzzwqBpGskVUmaHetCrZUGE+cOl9SpAbI6S/qbpHcl/VvSbdGN/bauuToHOSZpZGL/SknX5RDlbOVl9EmVpHck/UJSwfVyyRiCAvKFmfVJ/JY0oqw1wAGSdo37xwHvp7mBpFw8zA4FXiWsFZFGVrMsTsspTWb2tpldmiY+ZUZOeZYrce3xk4B+ZtYbOJatl6CtyXAgJ0MgScDjwJNmti+wH9AGuHE7l6Y2BMB64FRJe+ZwbS5k9EkvQl04AfhNgWRvoaQMgaQ2kl6QNEPSHEnfi8crJc2XdE+0vJMTiigfcptJ+r2kt2Lr6Kfx+ARJJyTOu1/SaSlv/yxwYvw/FHg4cb8Bkl6TNDNue8TjwyU9IulpYHLKtLQBDgPOZWulspukJyTNk3RXptUiabWkEZLeAAY2Ypq29Eok7SHpyfisp0nqnTKNW/VwJI2WNDz+XyLp+kQZyksLe1sy83DvWnkmaSdJd8byPlHSM5IGx7BB8fnOkTRWUoscxO4FrDCz9QBmtsLMPpDUX9LLkqZLmiRpryj3IGBcbP2mrXvHAOvM7L4oaxNwOXCOpJ9JGp14FhPjs74F2DXKG5dC1kbCmzqX1wyQ1C3ql9lx21VSRSwzmfrQStJ7knZJmUbMbDlhnfaLFahPr4xQ9YjE+5LuSyurJiVlCIB1wClm1g84GhgZWxMA+wJ3RMv7KZBWIWfYNZEJT8Rj5wKrzOxg4GDgJ5K6A+OBIQAK3dhBpF+HYTxwuqSWQG/gjUTYAuAIM+sLXAvclAgbCJxlZseklPd94B9mthD4WFK/eHwAcAVwIPBV4NR4vDUw18wOMbNXGzlNGa4HZsaW6NXAg1mnLjtWxDL0Z+DKPN+7Magrz04FKgn5dR7RSMdnfj8wxMwOJKxJcmEOMicDXSQtjAbnyKj8bgcGm1l/YCxwo5k9CrwNDIut3y9SyuoFTE8eMLPPgP9Qz5oqZvZLqlvbw1LKuwMYJqmixvHRwIOx3I0DRpnZKuAd4Mh4zneBSWa2IaXMTLwXEfRyB+rRK2Z2rZn1iTJXxng1iKIsTNOICLhJ0hHAZmBvoGMMW2xms+L/6YRKkgtfxExI8m2gd6bFBVQQDM+zwKjY4voO8EraSmBmsxXmIYZS24hUAA9I2hcwINkKec7MPk4jKzIU+FP8Pz7u/x14MxZSJD0MHA48CmwCHksjoAFpynA40ZCb2YuS2kmqiJUyHzwet9OpNnhNmbrybBfgETPbDHwo6aUY3oNQFxbG/QeAixLXZ4WZrZbUH/gWodE1AfgtcADwXGx/NQP+m2uiEohQFrI93iDM7DNJDwKXAsn6OpDq8vAQcGv8P4HQ4HuJ0CO7s4FRyDRe69Mri2MDdxzwRzObXsc9UlFqhmAY0B7ob2YbJC0BWsaw9YnzNgF5GxoiZNwlZjapVoA0BTieUFAerhmeJU8BfwCOAtoljt8AvGRmp0TFOiURtiatEEntCN3wAyQZoSIbQVnXrHCZ/XWxq56WXNK0Jap1HEujEDaydW+4ZY3wTFnZRP7qyPZk5sQ28uyJ+i7Jh1zYMkQzBZgiaQ7BoFSZWbZDhNlSRY0evKTdgC7AKhrhuRIM4wxgW8MumTL3FHCzpD2A/sCLuQqVtA+h3C1nG3oFuA5YlhkuayilNjRUASyPRuBooFuB5E4CLsyMC0raT1LrGDYeOJvQcqorQ7NhLDDCzObUOF5B9UTr8BzvnWQwoevbzcwqzawLsJjQAh8gqXscCx1CmJhsCA1J0ysEo4+kowhDOZ+lkL0U6CmpRez+D0pxba40lsz68mwFcFqcK+hIMLgQht4qJX0t7p8JvJxWqKQesdeWoQ8wH2ivMJGMpF0k9YrhnwNfSSsn8gLQStKP432bASMJQ1yLgD4xnV0IQ5gZNuQyVg8Qe9N/JQzPZHiN6nmzYcQ6YGargTeB24CJOTaMkNQeuAsYbeFL3zr1iqSTCBPLeXt5oiQMgcKbMesJXaWDJL1NyKgFBYrCvcA8YIakucDdVLckJwNHAM+b2Ze53NzMlpnZbXUE3UpoiUwltAQbylBqtyQfA34EvA7cAswlKJr6WpxZ0cA0XUfI59kxTmdlIzNTTszsPUIln00oMzNTRj9rCiCzvjzrBCwj5NfdhHmYVWa2jtAweSS24jcTlE9a2hCG8ObFfOhJmNMZDPxO0jvALOCb8fz7gbtymSyOSvEU4AeS3gUWEuYDrwamEsrjHEIPc0bi0jHA7JSTxUlGEtxAZ7gUODum90zgskTYBOCMuE1DZs6xCnieoC+uj2H16ZUrCPn7Zrx2REqZtSgJFxOSvgHcY2YDtnuyU7YUo5wUs2xKahPH8tsRWqyHmdmHhY6H0/TZ4ecIJF1AsNQ/L3ZcnKZLMcpJEyibEyW1BZoDN7gRcOqjJHoEjuM4Tu6UxByB4ziOkztuCBzHccocNwSO4zhljhsCx3GcMscNgeM4TpnjhsApexS80y6QdK+kuZLGSTpW0lQF//cD4hedYxU8Qc5UtWfbXpIyH/bMznxtK+mMxPG7FTxJNlPwQDtXwfNnLQ+XjlMM/PVRp+yJPo3+BfQl+LV5i+BR8lzgZMKXuPOAeWb2l/hu/pvx/FuAaWY2TsHDbDOCQ8NbgVOju5M7gWnx3reY2XFRblsz+7RQ6XSc+tjhPyhznDyxOOP3KH7u/4KZWXTDUAl0Bk6WlHFL3RLoSnC9cY2kzsDjZvaupEEE52NvRS+cuxKciD0N7CPpdoJH11RrRThOY+GGwHECSe+0mxP7mwn1ZBNwmpn9s8Z18xUW5TkRmCTpPILXyAfM7KqaQqLLieMJnjp/CJyT11Q4Tg74HIHjZMck4JLoBx5JfeN2H2CRmY0iuCPuTfCWOVhSh3jOHgqrW+0J7GRmjwG/BvrVIcdxCo73CBwnO24g+KifHY3BEsKavUOAMyRtAD4kuNb+WNKvgMnRbfcGQg/gC+A+VS9OXqvH4DjFwCeLHcdxyhwfGnIcxylz3BA4juOUOW4IHMdxyhw3BI7jOGWOGwLHcZwyxw2B4zhOmeOGwHEcp8z5P7xNjBNss4KRAAAAAElFTkSuQmCC\n",
      "text/plain": [
       "<Figure size 432x288 with 1 Axes>"
      ]
     },
     "metadata": {
      "needs_background": "light"
     },
     "output_type": "display_data"
    }
   ],
   "source": [
    "Facade.lesoes()"
   ]
  },
  {
   "cell_type": "markdown",
   "metadata": {},
   "source": [
    "__conclusões__\n",
    "\n",
    "* Lesão corporal dolosa é a maior ocorrencia nos dois anos.\n",
    "---\n",
    "* Lesão corporal outros nos 4 primeiros meses de dois 2019, teve o dobro dos anos 2017 e 2018 juntos.\n",
    "---"
   ]
  },
  {
   "cell_type": "markdown",
   "metadata": {},
   "source": [
    "### Análise de Estupros\n",
    "---"
   ]
  },
  {
   "cell_type": "code",
   "execution_count": 78,
   "metadata": {},
   "outputs": [
    {
     "data": {
      "text/html": [
       "<div>\n",
       "<style scoped>\n",
       "    .dataframe tbody tr th:only-of-type {\n",
       "        vertical-align: middle;\n",
       "    }\n",
       "\n",
       "    .dataframe tbody tr th {\n",
       "        vertical-align: top;\n",
       "    }\n",
       "\n",
       "    .dataframe thead th {\n",
       "        text-align: right;\n",
       "    }\n",
       "</style>\n",
       "<table border=\"1\" class=\"dataframe\">\n",
       "  <thead>\n",
       "    <tr style=\"text-align: right;\">\n",
       "      <th></th>\n",
       "      <th>Natureza</th>\n",
       "      <th>Sigla</th>\n",
       "    </tr>\n",
       "  </thead>\n",
       "  <tbody>\n",
       "    <tr>\n",
       "      <th>0</th>\n",
       "      <td>Estupro</td>\n",
       "      <td>ES</td>\n",
       "    </tr>\n",
       "    <tr>\n",
       "      <th>1</th>\n",
       "      <td>Estupro de Vunerável</td>\n",
       "      <td>ESV</td>\n",
       "    </tr>\n",
       "  </tbody>\n",
       "</table>\n",
       "</div>"
      ],
      "text/plain": [
       "               Natureza Sigla\n",
       "0               Estupro    ES\n",
       "1  Estupro de Vunerável   ESV"
      ]
     },
     "metadata": {},
     "output_type": "display_data"
    },
    {
     "name": "stdout",
     "output_type": "stream",
     "text": [
      " ---------------------------------------------------------------\n",
      " Análise Geral de Estupros \n",
      " ---------------------------------------------------------------\n"
     ]
    },
    {
     "data": {
      "text/html": [
       "<div>\n",
       "<style scoped>\n",
       "    .dataframe tbody tr th:only-of-type {\n",
       "        vertical-align: middle;\n",
       "    }\n",
       "\n",
       "    .dataframe tbody tr th {\n",
       "        vertical-align: top;\n",
       "    }\n",
       "\n",
       "    .dataframe thead th {\n",
       "        text-align: right;\n",
       "    }\n",
       "</style>\n",
       "<table border=\"1\" class=\"dataframe\">\n",
       "  <thead>\n",
       "    <tr style=\"text-align: right;\">\n",
       "      <th></th>\n",
       "      <th>ES</th>\n",
       "      <th>ESV</th>\n",
       "    </tr>\n",
       "  </thead>\n",
       "  <tbody>\n",
       "    <tr>\n",
       "      <th>2017</th>\n",
       "      <td>16</td>\n",
       "      <td>22</td>\n",
       "    </tr>\n",
       "    <tr>\n",
       "      <th>2018</th>\n",
       "      <td>6</td>\n",
       "      <td>13</td>\n",
       "    </tr>\n",
       "  </tbody>\n",
       "</table>\n",
       "</div>"
      ],
      "text/plain": [
       "      ES  ESV\n",
       "2017  16   22\n",
       "2018   6   13"
      ]
     },
     "metadata": {},
     "output_type": "display_data"
    },
    {
     "data": {
      "text/html": [
       "<div>\n",
       "<style scoped>\n",
       "    .dataframe tbody tr th:only-of-type {\n",
       "        vertical-align: middle;\n",
       "    }\n",
       "\n",
       "    .dataframe tbody tr th {\n",
       "        vertical-align: top;\n",
       "    }\n",
       "\n",
       "    .dataframe thead th {\n",
       "        text-align: right;\n",
       "    }\n",
       "</style>\n",
       "<table border=\"1\" class=\"dataframe\">\n",
       "  <thead>\n",
       "    <tr style=\"text-align: right;\">\n",
       "      <th></th>\n",
       "      <th>Natureza</th>\n",
       "      <th>Frequencia Absoluta</th>\n",
       "      <th>Frequencia Relativa(%)</th>\n",
       "    </tr>\n",
       "  </thead>\n",
       "  <tbody>\n",
       "    <tr>\n",
       "      <th>0</th>\n",
       "      <td>ES</td>\n",
       "      <td>16</td>\n",
       "      <td>42.11</td>\n",
       "    </tr>\n",
       "    <tr>\n",
       "      <th>1</th>\n",
       "      <td>ESV</td>\n",
       "      <td>22</td>\n",
       "      <td>57.89</td>\n",
       "    </tr>\n",
       "  </tbody>\n",
       "</table>\n",
       "</div>"
      ],
      "text/plain": [
       "  Natureza  Frequencia Absoluta Frequencia Relativa(%)\n",
       "0       ES                   16                  42.11\n",
       "1      ESV                   22                  57.89"
      ]
     },
     "metadata": {},
     "output_type": "display_data"
    },
    {
     "data": {
      "text/html": [
       "<div>\n",
       "<style scoped>\n",
       "    .dataframe tbody tr th:only-of-type {\n",
       "        vertical-align: middle;\n",
       "    }\n",
       "\n",
       "    .dataframe tbody tr th {\n",
       "        vertical-align: top;\n",
       "    }\n",
       "\n",
       "    .dataframe thead th {\n",
       "        text-align: right;\n",
       "    }\n",
       "</style>\n",
       "<table border=\"1\" class=\"dataframe\">\n",
       "  <thead>\n",
       "    <tr style=\"text-align: right;\">\n",
       "      <th></th>\n",
       "      <th>Natureza</th>\n",
       "      <th>Frequencia Absoluta</th>\n",
       "      <th>Frequencia Relativa(%)</th>\n",
       "    </tr>\n",
       "  </thead>\n",
       "  <tbody>\n",
       "    <tr>\n",
       "      <th>0</th>\n",
       "      <td>ES</td>\n",
       "      <td>6</td>\n",
       "      <td>31.58</td>\n",
       "    </tr>\n",
       "    <tr>\n",
       "      <th>1</th>\n",
       "      <td>ESV</td>\n",
       "      <td>13</td>\n",
       "      <td>68.42</td>\n",
       "    </tr>\n",
       "  </tbody>\n",
       "</table>\n",
       "</div>"
      ],
      "text/plain": [
       "  Natureza  Frequencia Absoluta Frequencia Relativa(%)\n",
       "0       ES                    6                  31.58\n",
       "1      ESV                   13                  68.42"
      ]
     },
     "metadata": {},
     "output_type": "display_data"
    },
    {
     "data": {
      "image/png": "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\n",
      "text/plain": [
       "<Figure size 432x288 with 1 Axes>"
      ]
     },
     "metadata": {
      "needs_background": "light"
     },
     "output_type": "display_data"
    },
    {
     "data": {
      "image/png": "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\n",
      "text/plain": [
       "<Figure size 432x288 with 1 Axes>"
      ]
     },
     "metadata": {
      "needs_background": "light"
     },
     "output_type": "display_data"
    },
    {
     "data": {
      "image/png": "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\n",
      "text/plain": [
       "<Figure size 432x288 with 1 Axes>"
      ]
     },
     "metadata": {
      "needs_background": "light"
     },
     "output_type": "display_data"
    }
   ],
   "source": [
    "Facade.estupros()"
   ]
  },
  {
   "cell_type": "markdown",
   "metadata": {},
   "source": [
    "__conclusões__\n",
    "\n",
    "* O Estupro vunerável é o de maior ocorrência em 2017 e 2018.\n",
    "---\n",
    "* Em ambas naturezas houve uma queda. \n",
    "  * 49% em estupros vuneráveis\n",
    "  * 62% em estupros\n",
    "--- \n",
    "* Em ambos anos:\n",
    "  * Março é o mes que registra o maior número de estupros vuneráveis.\n",
    "  * 1 Estupro vunerável é realizado por mês.\n",
    "  * 2 Estupros são realizados por mês.\n",
    "  "
   ]
  },
  {
   "cell_type": "markdown",
   "metadata": {},
   "source": [
    "### Análise de Roubos\n",
    "---"
   ]
  },
  {
   "cell_type": "code",
   "execution_count": 91,
   "metadata": {},
   "outputs": [
    {
     "data": {
      "text/html": [
       "<div>\n",
       "<style scoped>\n",
       "    .dataframe tbody tr th:only-of-type {\n",
       "        vertical-align: middle;\n",
       "    }\n",
       "\n",
       "    .dataframe tbody tr th {\n",
       "        vertical-align: top;\n",
       "    }\n",
       "\n",
       "    .dataframe thead th {\n",
       "        text-align: right;\n",
       "    }\n",
       "</style>\n",
       "<table border=\"1\" class=\"dataframe\">\n",
       "  <thead>\n",
       "    <tr style=\"text-align: right;\">\n",
       "      <th></th>\n",
       "      <th>Natureza</th>\n",
       "      <th>Sigla</th>\n",
       "    </tr>\n",
       "  </thead>\n",
       "  <tbody>\n",
       "    <tr>\n",
       "      <th>0</th>\n",
       "      <td>Roubo - Outros</td>\n",
       "      <td>RO</td>\n",
       "    </tr>\n",
       "    <tr>\n",
       "      <th>1</th>\n",
       "      <td>Roubo de Veiculos</td>\n",
       "      <td>RV</td>\n",
       "    </tr>\n",
       "    <tr>\n",
       "      <th>2</th>\n",
       "      <td>Roubo a Banco</td>\n",
       "      <td>RB</td>\n",
       "    </tr>\n",
       "    <tr>\n",
       "      <th>3</th>\n",
       "      <td>Roubo de Carga</td>\n",
       "      <td>RC</td>\n",
       "    </tr>\n",
       "  </tbody>\n",
       "</table>\n",
       "</div>"
      ],
      "text/plain": [
       "            Natureza Sigla\n",
       "0     Roubo - Outros    RO\n",
       "1  Roubo de Veiculos    RV\n",
       "2      Roubo a Banco    RB\n",
       "3     Roubo de Carga    RC"
      ]
     },
     "metadata": {},
     "output_type": "display_data"
    },
    {
     "name": "stdout",
     "output_type": "stream",
     "text": [
      " ---------------------------------------------------------------\n",
      " Análise Geral de Roubos \n",
      " ---------------------------------------------------------------\n"
     ]
    },
    {
     "data": {
      "text/html": [
       "<div>\n",
       "<style scoped>\n",
       "    .dataframe tbody tr th:only-of-type {\n",
       "        vertical-align: middle;\n",
       "    }\n",
       "\n",
       "    .dataframe tbody tr th {\n",
       "        vertical-align: top;\n",
       "    }\n",
       "\n",
       "    .dataframe thead th {\n",
       "        text-align: right;\n",
       "    }\n",
       "</style>\n",
       "<table border=\"1\" class=\"dataframe\">\n",
       "  <thead>\n",
       "    <tr style=\"text-align: right;\">\n",
       "      <th></th>\n",
       "      <th>RO</th>\n",
       "      <th>RV</th>\n",
       "      <th>RB</th>\n",
       "      <th>RC</th>\n",
       "    </tr>\n",
       "  </thead>\n",
       "  <tbody>\n",
       "    <tr>\n",
       "      <th>2017</th>\n",
       "      <td>473</td>\n",
       "      <td>40</td>\n",
       "      <td>0</td>\n",
       "      <td>2</td>\n",
       "    </tr>\n",
       "    <tr>\n",
       "      <th>2018</th>\n",
       "      <td>324</td>\n",
       "      <td>58</td>\n",
       "      <td>0</td>\n",
       "      <td>6</td>\n",
       "    </tr>\n",
       "  </tbody>\n",
       "</table>\n",
       "</div>"
      ],
      "text/plain": [
       "       RO  RV  RB  RC\n",
       "2017  473  40   0   2\n",
       "2018  324  58   0   6"
      ]
     },
     "metadata": {},
     "output_type": "display_data"
    },
    {
     "data": {
      "text/html": [
       "<div>\n",
       "<style scoped>\n",
       "    .dataframe tbody tr th:only-of-type {\n",
       "        vertical-align: middle;\n",
       "    }\n",
       "\n",
       "    .dataframe tbody tr th {\n",
       "        vertical-align: top;\n",
       "    }\n",
       "\n",
       "    .dataframe thead th {\n",
       "        text-align: right;\n",
       "    }\n",
       "</style>\n",
       "<table border=\"1\" class=\"dataframe\">\n",
       "  <thead>\n",
       "    <tr style=\"text-align: right;\">\n",
       "      <th></th>\n",
       "      <th>Natureza</th>\n",
       "      <th>Frequencia Absoluta</th>\n",
       "      <th>Frequencia Relativa(%)</th>\n",
       "    </tr>\n",
       "  </thead>\n",
       "  <tbody>\n",
       "    <tr>\n",
       "      <th>0</th>\n",
       "      <td>RO</td>\n",
       "      <td>473</td>\n",
       "      <td>91.84</td>\n",
       "    </tr>\n",
       "    <tr>\n",
       "      <th>1</th>\n",
       "      <td>RV</td>\n",
       "      <td>40</td>\n",
       "      <td>7.77</td>\n",
       "    </tr>\n",
       "    <tr>\n",
       "      <th>2</th>\n",
       "      <td>RB</td>\n",
       "      <td>0</td>\n",
       "      <td>0.0</td>\n",
       "    </tr>\n",
       "    <tr>\n",
       "      <th>3</th>\n",
       "      <td>RC</td>\n",
       "      <td>2</td>\n",
       "      <td>0.39</td>\n",
       "    </tr>\n",
       "  </tbody>\n",
       "</table>\n",
       "</div>"
      ],
      "text/plain": [
       "  Natureza  Frequencia Absoluta Frequencia Relativa(%)\n",
       "0       RO                  473                  91.84\n",
       "1       RV                   40                   7.77\n",
       "2       RB                    0                    0.0\n",
       "3       RC                    2                   0.39"
      ]
     },
     "metadata": {},
     "output_type": "display_data"
    },
    {
     "data": {
      "text/html": [
       "<div>\n",
       "<style scoped>\n",
       "    .dataframe tbody tr th:only-of-type {\n",
       "        vertical-align: middle;\n",
       "    }\n",
       "\n",
       "    .dataframe tbody tr th {\n",
       "        vertical-align: top;\n",
       "    }\n",
       "\n",
       "    .dataframe thead th {\n",
       "        text-align: right;\n",
       "    }\n",
       "</style>\n",
       "<table border=\"1\" class=\"dataframe\">\n",
       "  <thead>\n",
       "    <tr style=\"text-align: right;\">\n",
       "      <th></th>\n",
       "      <th>Natureza</th>\n",
       "      <th>Frequencia Absoluta</th>\n",
       "      <th>Frequencia Relativa(%)</th>\n",
       "    </tr>\n",
       "  </thead>\n",
       "  <tbody>\n",
       "    <tr>\n",
       "      <th>0</th>\n",
       "      <td>RO</td>\n",
       "      <td>324</td>\n",
       "      <td>83.51</td>\n",
       "    </tr>\n",
       "    <tr>\n",
       "      <th>1</th>\n",
       "      <td>RV</td>\n",
       "      <td>58</td>\n",
       "      <td>14.95</td>\n",
       "    </tr>\n",
       "    <tr>\n",
       "      <th>2</th>\n",
       "      <td>RB</td>\n",
       "      <td>0</td>\n",
       "      <td>0.0</td>\n",
       "    </tr>\n",
       "    <tr>\n",
       "      <th>3</th>\n",
       "      <td>RC</td>\n",
       "      <td>6</td>\n",
       "      <td>1.55</td>\n",
       "    </tr>\n",
       "  </tbody>\n",
       "</table>\n",
       "</div>"
      ],
      "text/plain": [
       "  Natureza  Frequencia Absoluta Frequencia Relativa(%)\n",
       "0       RO                  324                  83.51\n",
       "1       RV                   58                  14.95\n",
       "2       RB                    0                    0.0\n",
       "3       RC                    6                   1.55"
      ]
     },
     "metadata": {},
     "output_type": "display_data"
    },
    {
     "data": {
      "image/png": "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\n",
      "text/plain": [
       "<Figure size 432x288 with 1 Axes>"
      ]
     },
     "metadata": {
      "needs_background": "light"
     },
     "output_type": "display_data"
    },
    {
     "data": {
      "image/png": "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\n",
      "text/plain": [
       "<Figure size 432x288 with 1 Axes>"
      ]
     },
     "metadata": {
      "needs_background": "light"
     },
     "output_type": "display_data"
    },
    {
     "data": {
      "image/png": "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\n",
      "text/plain": [
       "<Figure size 432x288 with 1 Axes>"
      ]
     },
     "metadata": {
      "needs_background": "light"
     },
     "output_type": "display_data"
    }
   ],
   "source": [
    "Facade.roubos()"
   ]
  },
  {
   "cell_type": "markdown",
   "metadata": {},
   "source": [
    "__conclusões__\n",
    "\n",
    "- Roubo-outros é a natureza de maior frequencia em todos os anos e meses.\n",
    "---\n",
    "- De 2017 para 2018, Roubo - Outros foi o único que teve uma queda.\n",
    "---\n",
    "- Em 2018, Roubo de veiculos aumentou 45%, e Roubo de carga aumentou 300%.\n",
    "--- \n",
    "- Em ambos os anos:\n",
    "    * 4 Veiculos são roubados por mês\n",
    "    * 1 Roubo outros são realizados por dia.\n",
    "    * 37 Roubos no geral são realizados por mês."
   ]
  },
  {
   "cell_type": "markdown",
   "metadata": {},
   "source": [
    "### Análise de Furtos\n",
    "---"
   ]
  },
  {
   "cell_type": "code",
   "execution_count": 3,
   "metadata": {},
   "outputs": [
    {
     "name": "stdout",
     "output_type": "stream",
     "text": [
      " ---------------------------------------------------------------\n",
      " Análise Geral de Furtos \n",
      " ---------------------------------------------------------------\n"
     ]
    },
    {
     "data": {
      "text/html": [
       "<div>\n",
       "<style scoped>\n",
       "    .dataframe tbody tr th:only-of-type {\n",
       "        vertical-align: middle;\n",
       "    }\n",
       "\n",
       "    .dataframe tbody tr th {\n",
       "        vertical-align: top;\n",
       "    }\n",
       "\n",
       "    .dataframe thead th {\n",
       "        text-align: right;\n",
       "    }\n",
       "</style>\n",
       "<table border=\"1\" class=\"dataframe\">\n",
       "  <thead>\n",
       "    <tr style=\"text-align: right;\">\n",
       "      <th></th>\n",
       "      <th>FO</th>\n",
       "      <th>FV</th>\n",
       "    </tr>\n",
       "  </thead>\n",
       "  <tbody>\n",
       "    <tr>\n",
       "      <th>2017</th>\n",
       "      <td>1359</td>\n",
       "      <td>171</td>\n",
       "    </tr>\n",
       "    <tr>\n",
       "      <th>2018</th>\n",
       "      <td>1251</td>\n",
       "      <td>117</td>\n",
       "    </tr>\n",
       "  </tbody>\n",
       "</table>\n",
       "</div>"
      ],
      "text/plain": [
       "        FO   FV\n",
       "2017  1359  171\n",
       "2018  1251  117"
      ]
     },
     "metadata": {},
     "output_type": "display_data"
    },
    {
     "data": {
      "text/html": [
       "<div>\n",
       "<style scoped>\n",
       "    .dataframe tbody tr th:only-of-type {\n",
       "        vertical-align: middle;\n",
       "    }\n",
       "\n",
       "    .dataframe tbody tr th {\n",
       "        vertical-align: top;\n",
       "    }\n",
       "\n",
       "    .dataframe thead th {\n",
       "        text-align: right;\n",
       "    }\n",
       "</style>\n",
       "<table border=\"1\" class=\"dataframe\">\n",
       "  <thead>\n",
       "    <tr style=\"text-align: right;\">\n",
       "      <th></th>\n",
       "      <th>Natureza</th>\n",
       "      <th>Frequencia Absoluta</th>\n",
       "      <th>Frequencia Relativa(%)</th>\n",
       "    </tr>\n",
       "  </thead>\n",
       "  <tbody>\n",
       "    <tr>\n",
       "      <th>0</th>\n",
       "      <td>FO</td>\n",
       "      <td>1359</td>\n",
       "      <td>88.82</td>\n",
       "    </tr>\n",
       "    <tr>\n",
       "      <th>1</th>\n",
       "      <td>FV</td>\n",
       "      <td>171</td>\n",
       "      <td>11.18</td>\n",
       "    </tr>\n",
       "  </tbody>\n",
       "</table>\n",
       "</div>"
      ],
      "text/plain": [
       "  Natureza  Frequencia Absoluta Frequencia Relativa(%)\n",
       "0       FO                 1359                  88.82\n",
       "1       FV                  171                  11.18"
      ]
     },
     "metadata": {},
     "output_type": "display_data"
    },
    {
     "data": {
      "text/html": [
       "<div>\n",
       "<style scoped>\n",
       "    .dataframe tbody tr th:only-of-type {\n",
       "        vertical-align: middle;\n",
       "    }\n",
       "\n",
       "    .dataframe tbody tr th {\n",
       "        vertical-align: top;\n",
       "    }\n",
       "\n",
       "    .dataframe thead th {\n",
       "        text-align: right;\n",
       "    }\n",
       "</style>\n",
       "<table border=\"1\" class=\"dataframe\">\n",
       "  <thead>\n",
       "    <tr style=\"text-align: right;\">\n",
       "      <th></th>\n",
       "      <th>Natureza</th>\n",
       "      <th>Frequencia Absoluta</th>\n",
       "      <th>Frequencia Relativa(%)</th>\n",
       "    </tr>\n",
       "  </thead>\n",
       "  <tbody>\n",
       "    <tr>\n",
       "      <th>0</th>\n",
       "      <td>FO</td>\n",
       "      <td>1251</td>\n",
       "      <td>91.45</td>\n",
       "    </tr>\n",
       "    <tr>\n",
       "      <th>1</th>\n",
       "      <td>FV</td>\n",
       "      <td>117</td>\n",
       "      <td>8.55</td>\n",
       "    </tr>\n",
       "  </tbody>\n",
       "</table>\n",
       "</div>"
      ],
      "text/plain": [
       "  Natureza  Frequencia Absoluta Frequencia Relativa(%)\n",
       "0       FO                 1251                  91.45\n",
       "1       FV                  117                   8.55"
      ]
     },
     "metadata": {},
     "output_type": "display_data"
    },
    {
     "data": {
      "image/png": "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\n",
      "text/plain": [
       "<Figure size 432x288 with 1 Axes>"
      ]
     },
     "metadata": {
      "needs_background": "light"
     },
     "output_type": "display_data"
    },
    {
     "data": {
      "image/png": "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\n",
      "text/plain": [
       "<Figure size 432x288 with 1 Axes>"
      ]
     },
     "metadata": {
      "needs_background": "light"
     },
     "output_type": "display_data"
    },
    {
     "data": {
      "image/png": "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\n",
      "text/plain": [
       "<Figure size 432x288 with 1 Axes>"
      ]
     },
     "metadata": {
      "needs_background": "light"
     },
     "output_type": "display_data"
    }
   ],
   "source": [
    "Facade.furtos()"
   ]
  },
  {
   "cell_type": "markdown",
   "metadata": {},
   "source": [
    "__conclusões__\n",
    "\n",
    "* Houve um queda(10%) de furtos entre 2017 e 2018.\n",
    "---\n",
    "* Furto de outros é a maior ocorrencia de furtos.\n",
    "---\n",
    "* 4 furtos são registrados diariamente.\n",
    "\n",
    "---\n",
    "---\n",
    "### Conclusão Geral das Ocorrencias\n",
    "---\n",
    "\n",
    "* Em 2017 :\n",
    "    * Diariamente, foram registrados 4 casos de furtos(objetos) e 1 roubo.\n",
    "    * Mensalmente 9 veiculos eram furtados e 2 roubados.\n",
    "    * 38 registro de estupros no ano todo.\n",
    "    * Maior lesão corporal foi registrada em acidente de transito, 14 registro de homicídios.\n",
    "    * 22 registro de homicídios doloso.\n",
    "---\n",
    "* Em 2018 :\n",
    "    * Furtos continua sendo o maior registro, porem com uma queda de 2 furtos diariamente.\n",
    "    * Mensalmente 6 veiculos eram furtados e 5 roubados.\n",
    "    * 19 registro de estupros no ano todo.\n",
    "    * Maior lesão corporal foi registrada em acidente de transito,9 registro de homicídios.\n",
    "    * 38 registro de homicídios doloso."
   ]
  },
  {
   "cell_type": "markdown",
   "metadata": {},
   "source": [
    "# Análise de Departamentos\n",
    "---\n",
    "\n",
    "### Homicídios\n",
    "\n",
    "---\n",
    "- Análise Geral de Homicidios por Departamento\n",
    "\n"
   ]
  },
  {
   "cell_type": "code",
   "execution_count": 111,
   "metadata": {},
   "outputs": [
    {
     "name": "stdout",
     "output_type": "stream",
     "text": [
      " ---------------------------------------------------------------\n",
      " Departamento 1 \n",
      " ---------------------------------------------------------------\n"
     ]
    },
    {
     "data": {
      "text/html": [
       "<div>\n",
       "<style scoped>\n",
       "    .dataframe tbody tr th:only-of-type {\n",
       "        vertical-align: middle;\n",
       "    }\n",
       "\n",
       "    .dataframe tbody tr th {\n",
       "        vertical-align: top;\n",
       "    }\n",
       "\n",
       "    .dataframe thead th {\n",
       "        text-align: right;\n",
       "    }\n",
       "</style>\n",
       "<table border=\"1\" class=\"dataframe\">\n",
       "  <thead>\n",
       "    <tr style=\"text-align: right;\">\n",
       "      <th></th>\n",
       "      <th>HD</th>\n",
       "      <th>HDAT</th>\n",
       "      <th>HCAT</th>\n",
       "      <th>HCO</th>\n",
       "      <th>TH</th>\n",
       "    </tr>\n",
       "  </thead>\n",
       "  <tbody>\n",
       "    <tr>\n",
       "      <th>2017</th>\n",
       "      <td>3</td>\n",
       "      <td>0</td>\n",
       "      <td>5</td>\n",
       "      <td>0</td>\n",
       "      <td>11</td>\n",
       "    </tr>\n",
       "    <tr>\n",
       "      <th>2018</th>\n",
       "      <td>14</td>\n",
       "      <td>0</td>\n",
       "      <td>4</td>\n",
       "      <td>1</td>\n",
       "      <td>9</td>\n",
       "    </tr>\n",
       "    <tr>\n",
       "      <th>2019</th>\n",
       "      <td>3</td>\n",
       "      <td>0</td>\n",
       "      <td>2</td>\n",
       "      <td>1</td>\n",
       "      <td>5</td>\n",
       "    </tr>\n",
       "  </tbody>\n",
       "</table>\n",
       "</div>"
      ],
      "text/plain": [
       "      HD  HDAT  HCAT  HCO  TH\n",
       "2017   3     0     5    0  11\n",
       "2018  14     0     4    1   9\n",
       "2019   3     0     2    1   5"
      ]
     },
     "metadata": {},
     "output_type": "display_data"
    },
    {
     "name": "stdout",
     "output_type": "stream",
     "text": [
      "- 2017\n"
     ]
    },
    {
     "data": {
      "text/html": [
       "<div>\n",
       "<style scoped>\n",
       "    .dataframe tbody tr th:only-of-type {\n",
       "        vertical-align: middle;\n",
       "    }\n",
       "\n",
       "    .dataframe tbody tr th {\n",
       "        vertical-align: top;\n",
       "    }\n",
       "\n",
       "    .dataframe thead th {\n",
       "        text-align: right;\n",
       "    }\n",
       "</style>\n",
       "<table border=\"1\" class=\"dataframe\">\n",
       "  <thead>\n",
       "    <tr style=\"text-align: right;\">\n",
       "      <th></th>\n",
       "      <th>Natureza</th>\n",
       "      <th>Frequencia Absoluta</th>\n",
       "      <th>Frequencia Relativa(%)</th>\n",
       "    </tr>\n",
       "  </thead>\n",
       "  <tbody>\n",
       "    <tr>\n",
       "      <th>0</th>\n",
       "      <td>HD</td>\n",
       "      <td>3</td>\n",
       "      <td>15.79</td>\n",
       "    </tr>\n",
       "    <tr>\n",
       "      <th>1</th>\n",
       "      <td>HDAT</td>\n",
       "      <td>0</td>\n",
       "      <td>0.0</td>\n",
       "    </tr>\n",
       "    <tr>\n",
       "      <th>2</th>\n",
       "      <td>HCAT</td>\n",
       "      <td>5</td>\n",
       "      <td>26.32</td>\n",
       "    </tr>\n",
       "    <tr>\n",
       "      <th>3</th>\n",
       "      <td>HCO</td>\n",
       "      <td>0</td>\n",
       "      <td>0.0</td>\n",
       "    </tr>\n",
       "    <tr>\n",
       "      <th>4</th>\n",
       "      <td>TH</td>\n",
       "      <td>11</td>\n",
       "      <td>57.89</td>\n",
       "    </tr>\n",
       "  </tbody>\n",
       "</table>\n",
       "</div>"
      ],
      "text/plain": [
       "  Natureza  Frequencia Absoluta Frequencia Relativa(%)\n",
       "0       HD                    3                  15.79\n",
       "1     HDAT                    0                    0.0\n",
       "2     HCAT                    5                  26.32\n",
       "3      HCO                    0                    0.0\n",
       "4       TH                   11                  57.89"
      ]
     },
     "metadata": {},
     "output_type": "display_data"
    },
    {
     "name": "stdout",
     "output_type": "stream",
     "text": [
      "- 2018\n"
     ]
    },
    {
     "data": {
      "text/html": [
       "<div>\n",
       "<style scoped>\n",
       "    .dataframe tbody tr th:only-of-type {\n",
       "        vertical-align: middle;\n",
       "    }\n",
       "\n",
       "    .dataframe tbody tr th {\n",
       "        vertical-align: top;\n",
       "    }\n",
       "\n",
       "    .dataframe thead th {\n",
       "        text-align: right;\n",
       "    }\n",
       "</style>\n",
       "<table border=\"1\" class=\"dataframe\">\n",
       "  <thead>\n",
       "    <tr style=\"text-align: right;\">\n",
       "      <th></th>\n",
       "      <th>Natureza</th>\n",
       "      <th>Frequencia Absoluta</th>\n",
       "      <th>Frequencia Relativa(%)</th>\n",
       "    </tr>\n",
       "  </thead>\n",
       "  <tbody>\n",
       "    <tr>\n",
       "      <th>0</th>\n",
       "      <td>HD</td>\n",
       "      <td>14</td>\n",
       "      <td>50.0</td>\n",
       "    </tr>\n",
       "    <tr>\n",
       "      <th>1</th>\n",
       "      <td>HDAT</td>\n",
       "      <td>0</td>\n",
       "      <td>0.0</td>\n",
       "    </tr>\n",
       "    <tr>\n",
       "      <th>2</th>\n",
       "      <td>HCAT</td>\n",
       "      <td>4</td>\n",
       "      <td>14.29</td>\n",
       "    </tr>\n",
       "    <tr>\n",
       "      <th>3</th>\n",
       "      <td>HCO</td>\n",
       "      <td>1</td>\n",
       "      <td>3.57</td>\n",
       "    </tr>\n",
       "    <tr>\n",
       "      <th>4</th>\n",
       "      <td>TH</td>\n",
       "      <td>9</td>\n",
       "      <td>32.14</td>\n",
       "    </tr>\n",
       "  </tbody>\n",
       "</table>\n",
       "</div>"
      ],
      "text/plain": [
       "  Natureza  Frequencia Absoluta Frequencia Relativa(%)\n",
       "0       HD                   14                   50.0\n",
       "1     HDAT                    0                    0.0\n",
       "2     HCAT                    4                  14.29\n",
       "3      HCO                    1                   3.57\n",
       "4       TH                    9                  32.14"
      ]
     },
     "metadata": {},
     "output_type": "display_data"
    },
    {
     "name": "stdout",
     "output_type": "stream",
     "text": [
      "- 2019\n"
     ]
    },
    {
     "data": {
      "text/html": [
       "<div>\n",
       "<style scoped>\n",
       "    .dataframe tbody tr th:only-of-type {\n",
       "        vertical-align: middle;\n",
       "    }\n",
       "\n",
       "    .dataframe tbody tr th {\n",
       "        vertical-align: top;\n",
       "    }\n",
       "\n",
       "    .dataframe thead th {\n",
       "        text-align: right;\n",
       "    }\n",
       "</style>\n",
       "<table border=\"1\" class=\"dataframe\">\n",
       "  <thead>\n",
       "    <tr style=\"text-align: right;\">\n",
       "      <th></th>\n",
       "      <th>Natureza</th>\n",
       "      <th>Frequencia Absoluta</th>\n",
       "      <th>Frequencia Relativa(%)</th>\n",
       "    </tr>\n",
       "  </thead>\n",
       "  <tbody>\n",
       "    <tr>\n",
       "      <th>0</th>\n",
       "      <td>HD</td>\n",
       "      <td>14</td>\n",
       "      <td>50.0</td>\n",
       "    </tr>\n",
       "    <tr>\n",
       "      <th>1</th>\n",
       "      <td>HDAT</td>\n",
       "      <td>0</td>\n",
       "      <td>0.0</td>\n",
       "    </tr>\n",
       "    <tr>\n",
       "      <th>2</th>\n",
       "      <td>HCAT</td>\n",
       "      <td>4</td>\n",
       "      <td>14.29</td>\n",
       "    </tr>\n",
       "    <tr>\n",
       "      <th>3</th>\n",
       "      <td>HCO</td>\n",
       "      <td>1</td>\n",
       "      <td>3.57</td>\n",
       "    </tr>\n",
       "    <tr>\n",
       "      <th>4</th>\n",
       "      <td>TH</td>\n",
       "      <td>9</td>\n",
       "      <td>32.14</td>\n",
       "    </tr>\n",
       "  </tbody>\n",
       "</table>\n",
       "</div>"
      ],
      "text/plain": [
       "  Natureza  Frequencia Absoluta Frequencia Relativa(%)\n",
       "0       HD                   14                   50.0\n",
       "1     HDAT                    0                    0.0\n",
       "2     HCAT                    4                  14.29\n",
       "3      HCO                    1                   3.57\n",
       "4       TH                    9                  32.14"
      ]
     },
     "metadata": {},
     "output_type": "display_data"
    },
    {
     "data": {
      "image/png": "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\n",
      "text/plain": [
       "<Figure size 432x288 with 1 Axes>"
      ]
     },
     "metadata": {
      "needs_background": "light"
     },
     "output_type": "display_data"
    }
   ],
   "source": [
    "Facade.homicidiosDP(0)"
   ]
  },
  {
   "cell_type": "code",
   "execution_count": 112,
   "metadata": {},
   "outputs": [
    {
     "name": "stdout",
     "output_type": "stream",
     "text": [
      " ---------------------------------------------------------------\n",
      " Departamento 2 \n",
      " ---------------------------------------------------------------\n"
     ]
    },
    {
     "data": {
      "text/html": [
       "<div>\n",
       "<style scoped>\n",
       "    .dataframe tbody tr th:only-of-type {\n",
       "        vertical-align: middle;\n",
       "    }\n",
       "\n",
       "    .dataframe tbody tr th {\n",
       "        vertical-align: top;\n",
       "    }\n",
       "\n",
       "    .dataframe thead th {\n",
       "        text-align: right;\n",
       "    }\n",
       "</style>\n",
       "<table border=\"1\" class=\"dataframe\">\n",
       "  <thead>\n",
       "    <tr style=\"text-align: right;\">\n",
       "      <th></th>\n",
       "      <th>HD</th>\n",
       "      <th>HDAT</th>\n",
       "      <th>HCAT</th>\n",
       "      <th>HCO</th>\n",
       "      <th>TH</th>\n",
       "    </tr>\n",
       "  </thead>\n",
       "  <tbody>\n",
       "    <tr>\n",
       "      <th>2017</th>\n",
       "      <td>12</td>\n",
       "      <td>0</td>\n",
       "      <td>5</td>\n",
       "      <td>0</td>\n",
       "      <td>22</td>\n",
       "    </tr>\n",
       "    <tr>\n",
       "      <th>2018</th>\n",
       "      <td>19</td>\n",
       "      <td>0</td>\n",
       "      <td>4</td>\n",
       "      <td>0</td>\n",
       "      <td>15</td>\n",
       "    </tr>\n",
       "    <tr>\n",
       "      <th>2019</th>\n",
       "      <td>1</td>\n",
       "      <td>0</td>\n",
       "      <td>1</td>\n",
       "      <td>7</td>\n",
       "      <td>1</td>\n",
       "    </tr>\n",
       "  </tbody>\n",
       "</table>\n",
       "</div>"
      ],
      "text/plain": [
       "      HD  HDAT  HCAT  HCO  TH\n",
       "2017  12     0     5    0  22\n",
       "2018  19     0     4    0  15\n",
       "2019   1     0     1    7   1"
      ]
     },
     "metadata": {},
     "output_type": "display_data"
    },
    {
     "name": "stdout",
     "output_type": "stream",
     "text": [
      "- 2017\n"
     ]
    },
    {
     "data": {
      "text/html": [
       "<div>\n",
       "<style scoped>\n",
       "    .dataframe tbody tr th:only-of-type {\n",
       "        vertical-align: middle;\n",
       "    }\n",
       "\n",
       "    .dataframe tbody tr th {\n",
       "        vertical-align: top;\n",
       "    }\n",
       "\n",
       "    .dataframe thead th {\n",
       "        text-align: right;\n",
       "    }\n",
       "</style>\n",
       "<table border=\"1\" class=\"dataframe\">\n",
       "  <thead>\n",
       "    <tr style=\"text-align: right;\">\n",
       "      <th></th>\n",
       "      <th>Natureza</th>\n",
       "      <th>Frequencia Absoluta</th>\n",
       "      <th>Frequencia Relativa(%)</th>\n",
       "    </tr>\n",
       "  </thead>\n",
       "  <tbody>\n",
       "    <tr>\n",
       "      <th>0</th>\n",
       "      <td>HD</td>\n",
       "      <td>12</td>\n",
       "      <td>30.77</td>\n",
       "    </tr>\n",
       "    <tr>\n",
       "      <th>1</th>\n",
       "      <td>HDAT</td>\n",
       "      <td>0</td>\n",
       "      <td>0.0</td>\n",
       "    </tr>\n",
       "    <tr>\n",
       "      <th>2</th>\n",
       "      <td>HCAT</td>\n",
       "      <td>5</td>\n",
       "      <td>12.82</td>\n",
       "    </tr>\n",
       "    <tr>\n",
       "      <th>3</th>\n",
       "      <td>HCO</td>\n",
       "      <td>0</td>\n",
       "      <td>0.0</td>\n",
       "    </tr>\n",
       "    <tr>\n",
       "      <th>4</th>\n",
       "      <td>TH</td>\n",
       "      <td>22</td>\n",
       "      <td>56.41</td>\n",
       "    </tr>\n",
       "  </tbody>\n",
       "</table>\n",
       "</div>"
      ],
      "text/plain": [
       "  Natureza  Frequencia Absoluta Frequencia Relativa(%)\n",
       "0       HD                   12                  30.77\n",
       "1     HDAT                    0                    0.0\n",
       "2     HCAT                    5                  12.82\n",
       "3      HCO                    0                    0.0\n",
       "4       TH                   22                  56.41"
      ]
     },
     "metadata": {},
     "output_type": "display_data"
    },
    {
     "name": "stdout",
     "output_type": "stream",
     "text": [
      "- 2018\n"
     ]
    },
    {
     "data": {
      "text/html": [
       "<div>\n",
       "<style scoped>\n",
       "    .dataframe tbody tr th:only-of-type {\n",
       "        vertical-align: middle;\n",
       "    }\n",
       "\n",
       "    .dataframe tbody tr th {\n",
       "        vertical-align: top;\n",
       "    }\n",
       "\n",
       "    .dataframe thead th {\n",
       "        text-align: right;\n",
       "    }\n",
       "</style>\n",
       "<table border=\"1\" class=\"dataframe\">\n",
       "  <thead>\n",
       "    <tr style=\"text-align: right;\">\n",
       "      <th></th>\n",
       "      <th>Natureza</th>\n",
       "      <th>Frequencia Absoluta</th>\n",
       "      <th>Frequencia Relativa(%)</th>\n",
       "    </tr>\n",
       "  </thead>\n",
       "  <tbody>\n",
       "    <tr>\n",
       "      <th>0</th>\n",
       "      <td>HD</td>\n",
       "      <td>19</td>\n",
       "      <td>50.0</td>\n",
       "    </tr>\n",
       "    <tr>\n",
       "      <th>1</th>\n",
       "      <td>HDAT</td>\n",
       "      <td>0</td>\n",
       "      <td>0.0</td>\n",
       "    </tr>\n",
       "    <tr>\n",
       "      <th>2</th>\n",
       "      <td>HCAT</td>\n",
       "      <td>4</td>\n",
       "      <td>10.53</td>\n",
       "    </tr>\n",
       "    <tr>\n",
       "      <th>3</th>\n",
       "      <td>HCO</td>\n",
       "      <td>0</td>\n",
       "      <td>0.0</td>\n",
       "    </tr>\n",
       "    <tr>\n",
       "      <th>4</th>\n",
       "      <td>TH</td>\n",
       "      <td>15</td>\n",
       "      <td>39.47</td>\n",
       "    </tr>\n",
       "  </tbody>\n",
       "</table>\n",
       "</div>"
      ],
      "text/plain": [
       "  Natureza  Frequencia Absoluta Frequencia Relativa(%)\n",
       "0       HD                   19                   50.0\n",
       "1     HDAT                    0                    0.0\n",
       "2     HCAT                    4                  10.53\n",
       "3      HCO                    0                    0.0\n",
       "4       TH                   15                  39.47"
      ]
     },
     "metadata": {},
     "output_type": "display_data"
    },
    {
     "name": "stdout",
     "output_type": "stream",
     "text": [
      "- 2019\n"
     ]
    },
    {
     "data": {
      "text/html": [
       "<div>\n",
       "<style scoped>\n",
       "    .dataframe tbody tr th:only-of-type {\n",
       "        vertical-align: middle;\n",
       "    }\n",
       "\n",
       "    .dataframe tbody tr th {\n",
       "        vertical-align: top;\n",
       "    }\n",
       "\n",
       "    .dataframe thead th {\n",
       "        text-align: right;\n",
       "    }\n",
       "</style>\n",
       "<table border=\"1\" class=\"dataframe\">\n",
       "  <thead>\n",
       "    <tr style=\"text-align: right;\">\n",
       "      <th></th>\n",
       "      <th>Natureza</th>\n",
       "      <th>Frequencia Absoluta</th>\n",
       "      <th>Frequencia Relativa(%)</th>\n",
       "    </tr>\n",
       "  </thead>\n",
       "  <tbody>\n",
       "    <tr>\n",
       "      <th>0</th>\n",
       "      <td>HD</td>\n",
       "      <td>19</td>\n",
       "      <td>50.0</td>\n",
       "    </tr>\n",
       "    <tr>\n",
       "      <th>1</th>\n",
       "      <td>HDAT</td>\n",
       "      <td>0</td>\n",
       "      <td>0.0</td>\n",
       "    </tr>\n",
       "    <tr>\n",
       "      <th>2</th>\n",
       "      <td>HCAT</td>\n",
       "      <td>4</td>\n",
       "      <td>10.53</td>\n",
       "    </tr>\n",
       "    <tr>\n",
       "      <th>3</th>\n",
       "      <td>HCO</td>\n",
       "      <td>0</td>\n",
       "      <td>0.0</td>\n",
       "    </tr>\n",
       "    <tr>\n",
       "      <th>4</th>\n",
       "      <td>TH</td>\n",
       "      <td>15</td>\n",
       "      <td>39.47</td>\n",
       "    </tr>\n",
       "  </tbody>\n",
       "</table>\n",
       "</div>"
      ],
      "text/plain": [
       "  Natureza  Frequencia Absoluta Frequencia Relativa(%)\n",
       "0       HD                   19                   50.0\n",
       "1     HDAT                    0                    0.0\n",
       "2     HCAT                    4                  10.53\n",
       "3      HCO                    0                    0.0\n",
       "4       TH                   15                  39.47"
      ]
     },
     "metadata": {},
     "output_type": "display_data"
    },
    {
     "data": {
      "image/png": "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\n",
      "text/plain": [
       "<Figure size 432x288 with 1 Axes>"
      ]
     },
     "metadata": {
      "needs_background": "light"
     },
     "output_type": "display_data"
    }
   ],
   "source": [
    "Facade.homicidiosDP(1)"
   ]
  },
  {
   "cell_type": "code",
   "execution_count": 2,
   "metadata": {},
   "outputs": [
    {
     "name": "stdout",
     "output_type": "stream",
     "text": [
      " ---------------------------------------------------------------\n",
      " Departamento 3 \n",
      " ---------------------------------------------------------------\n"
     ]
    },
    {
     "data": {
      "text/html": [
       "<div>\n",
       "<style scoped>\n",
       "    .dataframe tbody tr th:only-of-type {\n",
       "        vertical-align: middle;\n",
       "    }\n",
       "\n",
       "    .dataframe tbody tr th {\n",
       "        vertical-align: top;\n",
       "    }\n",
       "\n",
       "    .dataframe thead th {\n",
       "        text-align: right;\n",
       "    }\n",
       "</style>\n",
       "<table border=\"1\" class=\"dataframe\">\n",
       "  <thead>\n",
       "    <tr style=\"text-align: right;\">\n",
       "      <th></th>\n",
       "      <th>HD</th>\n",
       "      <th>HDAT</th>\n",
       "      <th>HCAT</th>\n",
       "      <th>HCO</th>\n",
       "      <th>TH</th>\n",
       "    </tr>\n",
       "  </thead>\n",
       "  <tbody>\n",
       "    <tr>\n",
       "      <th>2017</th>\n",
       "      <td>5</td>\n",
       "      <td>0</td>\n",
       "      <td>4</td>\n",
       "      <td>0</td>\n",
       "      <td>6</td>\n",
       "    </tr>\n",
       "    <tr>\n",
       "      <th>2018</th>\n",
       "      <td>5</td>\n",
       "      <td>0</td>\n",
       "      <td>1</td>\n",
       "      <td>0</td>\n",
       "      <td>17</td>\n",
       "    </tr>\n",
       "    <tr>\n",
       "      <th>2019</th>\n",
       "      <td>1</td>\n",
       "      <td>0</td>\n",
       "      <td>0</td>\n",
       "      <td>0</td>\n",
       "      <td>2</td>\n",
       "    </tr>\n",
       "  </tbody>\n",
       "</table>\n",
       "</div>"
      ],
      "text/plain": [
       "      HD  HDAT  HCAT  HCO  TH\n",
       "2017   5     0     4    0   6\n",
       "2018   5     0     1    0  17\n",
       "2019   1     0     0    0   2"
      ]
     },
     "metadata": {},
     "output_type": "display_data"
    },
    {
     "name": "stdout",
     "output_type": "stream",
     "text": [
      "- 2017\n"
     ]
    },
    {
     "data": {
      "text/html": [
       "<div>\n",
       "<style scoped>\n",
       "    .dataframe tbody tr th:only-of-type {\n",
       "        vertical-align: middle;\n",
       "    }\n",
       "\n",
       "    .dataframe tbody tr th {\n",
       "        vertical-align: top;\n",
       "    }\n",
       "\n",
       "    .dataframe thead th {\n",
       "        text-align: right;\n",
       "    }\n",
       "</style>\n",
       "<table border=\"1\" class=\"dataframe\">\n",
       "  <thead>\n",
       "    <tr style=\"text-align: right;\">\n",
       "      <th></th>\n",
       "      <th>Natureza</th>\n",
       "      <th>Frequencia Absoluta</th>\n",
       "      <th>Frequencia Relativa(%)</th>\n",
       "    </tr>\n",
       "  </thead>\n",
       "  <tbody>\n",
       "    <tr>\n",
       "      <th>0</th>\n",
       "      <td>HD</td>\n",
       "      <td>5</td>\n",
       "      <td>33.33</td>\n",
       "    </tr>\n",
       "    <tr>\n",
       "      <th>1</th>\n",
       "      <td>HDAT</td>\n",
       "      <td>0</td>\n",
       "      <td>0.0</td>\n",
       "    </tr>\n",
       "    <tr>\n",
       "      <th>2</th>\n",
       "      <td>HCAT</td>\n",
       "      <td>4</td>\n",
       "      <td>26.67</td>\n",
       "    </tr>\n",
       "    <tr>\n",
       "      <th>3</th>\n",
       "      <td>HCO</td>\n",
       "      <td>0</td>\n",
       "      <td>0.0</td>\n",
       "    </tr>\n",
       "    <tr>\n",
       "      <th>4</th>\n",
       "      <td>TH</td>\n",
       "      <td>6</td>\n",
       "      <td>40.0</td>\n",
       "    </tr>\n",
       "  </tbody>\n",
       "</table>\n",
       "</div>"
      ],
      "text/plain": [
       "  Natureza  Frequencia Absoluta Frequencia Relativa(%)\n",
       "0       HD                    5                  33.33\n",
       "1     HDAT                    0                    0.0\n",
       "2     HCAT                    4                  26.67\n",
       "3      HCO                    0                    0.0\n",
       "4       TH                    6                   40.0"
      ]
     },
     "metadata": {},
     "output_type": "display_data"
    },
    {
     "name": "stdout",
     "output_type": "stream",
     "text": [
      "- 2018\n"
     ]
    },
    {
     "data": {
      "text/html": [
       "<div>\n",
       "<style scoped>\n",
       "    .dataframe tbody tr th:only-of-type {\n",
       "        vertical-align: middle;\n",
       "    }\n",
       "\n",
       "    .dataframe tbody tr th {\n",
       "        vertical-align: top;\n",
       "    }\n",
       "\n",
       "    .dataframe thead th {\n",
       "        text-align: right;\n",
       "    }\n",
       "</style>\n",
       "<table border=\"1\" class=\"dataframe\">\n",
       "  <thead>\n",
       "    <tr style=\"text-align: right;\">\n",
       "      <th></th>\n",
       "      <th>Natureza</th>\n",
       "      <th>Frequencia Absoluta</th>\n",
       "      <th>Frequencia Relativa(%)</th>\n",
       "    </tr>\n",
       "  </thead>\n",
       "  <tbody>\n",
       "    <tr>\n",
       "      <th>0</th>\n",
       "      <td>HD</td>\n",
       "      <td>5</td>\n",
       "      <td>21.74</td>\n",
       "    </tr>\n",
       "    <tr>\n",
       "      <th>1</th>\n",
       "      <td>HDAT</td>\n",
       "      <td>0</td>\n",
       "      <td>0.0</td>\n",
       "    </tr>\n",
       "    <tr>\n",
       "      <th>2</th>\n",
       "      <td>HCAT</td>\n",
       "      <td>1</td>\n",
       "      <td>4.35</td>\n",
       "    </tr>\n",
       "    <tr>\n",
       "      <th>3</th>\n",
       "      <td>HCO</td>\n",
       "      <td>0</td>\n",
       "      <td>0.0</td>\n",
       "    </tr>\n",
       "    <tr>\n",
       "      <th>4</th>\n",
       "      <td>TH</td>\n",
       "      <td>17</td>\n",
       "      <td>73.91</td>\n",
       "    </tr>\n",
       "  </tbody>\n",
       "</table>\n",
       "</div>"
      ],
      "text/plain": [
       "  Natureza  Frequencia Absoluta Frequencia Relativa(%)\n",
       "0       HD                    5                  21.74\n",
       "1     HDAT                    0                    0.0\n",
       "2     HCAT                    1                   4.35\n",
       "3      HCO                    0                    0.0\n",
       "4       TH                   17                  73.91"
      ]
     },
     "metadata": {},
     "output_type": "display_data"
    },
    {
     "name": "stdout",
     "output_type": "stream",
     "text": [
      "- 2019\n"
     ]
    },
    {
     "data": {
      "text/html": [
       "<div>\n",
       "<style scoped>\n",
       "    .dataframe tbody tr th:only-of-type {\n",
       "        vertical-align: middle;\n",
       "    }\n",
       "\n",
       "    .dataframe tbody tr th {\n",
       "        vertical-align: top;\n",
       "    }\n",
       "\n",
       "    .dataframe thead th {\n",
       "        text-align: right;\n",
       "    }\n",
       "</style>\n",
       "<table border=\"1\" class=\"dataframe\">\n",
       "  <thead>\n",
       "    <tr style=\"text-align: right;\">\n",
       "      <th></th>\n",
       "      <th>Natureza</th>\n",
       "      <th>Frequencia Absoluta</th>\n",
       "      <th>Frequencia Relativa(%)</th>\n",
       "    </tr>\n",
       "  </thead>\n",
       "  <tbody>\n",
       "    <tr>\n",
       "      <th>0</th>\n",
       "      <td>HD</td>\n",
       "      <td>5</td>\n",
       "      <td>21.74</td>\n",
       "    </tr>\n",
       "    <tr>\n",
       "      <th>1</th>\n",
       "      <td>HDAT</td>\n",
       "      <td>0</td>\n",
       "      <td>0.0</td>\n",
       "    </tr>\n",
       "    <tr>\n",
       "      <th>2</th>\n",
       "      <td>HCAT</td>\n",
       "      <td>1</td>\n",
       "      <td>4.35</td>\n",
       "    </tr>\n",
       "    <tr>\n",
       "      <th>3</th>\n",
       "      <td>HCO</td>\n",
       "      <td>0</td>\n",
       "      <td>0.0</td>\n",
       "    </tr>\n",
       "    <tr>\n",
       "      <th>4</th>\n",
       "      <td>TH</td>\n",
       "      <td>17</td>\n",
       "      <td>73.91</td>\n",
       "    </tr>\n",
       "  </tbody>\n",
       "</table>\n",
       "</div>"
      ],
      "text/plain": [
       "  Natureza  Frequencia Absoluta Frequencia Relativa(%)\n",
       "0       HD                    5                  21.74\n",
       "1     HDAT                    0                    0.0\n",
       "2     HCAT                    1                   4.35\n",
       "3      HCO                    0                    0.0\n",
       "4       TH                   17                  73.91"
      ]
     },
     "metadata": {},
     "output_type": "display_data"
    },
    {
     "data": {
      "image/png": "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\n",
      "text/plain": [
       "<Figure size 432x288 with 1 Axes>"
      ]
     },
     "metadata": {
      "needs_background": "light"
     },
     "output_type": "display_data"
    }
   ],
   "source": [
    "Facade.homicidiosDP(2)"
   ]
  },
  {
   "cell_type": "markdown",
   "metadata": {},
   "source": [
    "__Conclusões__\n",
    "\n",
    "- Departamento 1 e 2 - Entre o ano de 2017 e 2018 houve um aumento de homicídios dolosos e a diminuição de tentativas de homicídios.\n",
    "---\n",
    "- Departamento 3 - Entre o ano de 2017 e 2018 houve um aumento de tentativas de homicídios.\n",
    "--- "
   ]
  },
  {
   "cell_type": "markdown",
   "metadata": {},
   "source": [
    "### Análise de Lesões Corporais\n",
    "---\n",
    "- Análise Geral de Lesões Corporais"
   ]
  },
  {
   "cell_type": "code",
   "execution_count": 114,
   "metadata": {},
   "outputs": [
    {
     "name": "stdout",
     "output_type": "stream",
     "text": [
      " ---------------------------------------------------------------\n",
      " Departamento 1 \n",
      " ---------------------------------------------------------------\n"
     ]
    },
    {
     "data": {
      "text/html": [
       "<div>\n",
       "<style scoped>\n",
       "    .dataframe tbody tr th:only-of-type {\n",
       "        vertical-align: middle;\n",
       "    }\n",
       "\n",
       "    .dataframe tbody tr th {\n",
       "        vertical-align: top;\n",
       "    }\n",
       "\n",
       "    .dataframe thead th {\n",
       "        text-align: right;\n",
       "    }\n",
       "</style>\n",
       "<table border=\"1\" class=\"dataframe\">\n",
       "  <thead>\n",
       "    <tr style=\"text-align: right;\">\n",
       "      <th></th>\n",
       "      <th>LCSM</th>\n",
       "      <th>LCD</th>\n",
       "      <th>LCCAT</th>\n",
       "      <th>LCCO</th>\n",
       "    </tr>\n",
       "  </thead>\n",
       "  <tbody>\n",
       "    <tr>\n",
       "      <th>2017</th>\n",
       "      <td>0</td>\n",
       "      <td>82</td>\n",
       "      <td>71</td>\n",
       "      <td>1</td>\n",
       "    </tr>\n",
       "    <tr>\n",
       "      <th>2018</th>\n",
       "      <td>0</td>\n",
       "      <td>77</td>\n",
       "      <td>73</td>\n",
       "      <td>1</td>\n",
       "    </tr>\n",
       "    <tr>\n",
       "      <th>2019</th>\n",
       "      <td>0</td>\n",
       "      <td>28</td>\n",
       "      <td>11</td>\n",
       "      <td>4</td>\n",
       "    </tr>\n",
       "  </tbody>\n",
       "</table>\n",
       "</div>"
      ],
      "text/plain": [
       "      LCSM  LCD  LCCAT  LCCO\n",
       "2017     0   82     71     1\n",
       "2018     0   77     73     1\n",
       "2019     0   28     11     4"
      ]
     },
     "metadata": {},
     "output_type": "display_data"
    },
    {
     "name": "stdout",
     "output_type": "stream",
     "text": [
      "- 2017\n"
     ]
    },
    {
     "data": {
      "text/html": [
       "<div>\n",
       "<style scoped>\n",
       "    .dataframe tbody tr th:only-of-type {\n",
       "        vertical-align: middle;\n",
       "    }\n",
       "\n",
       "    .dataframe tbody tr th {\n",
       "        vertical-align: top;\n",
       "    }\n",
       "\n",
       "    .dataframe thead th {\n",
       "        text-align: right;\n",
       "    }\n",
       "</style>\n",
       "<table border=\"1\" class=\"dataframe\">\n",
       "  <thead>\n",
       "    <tr style=\"text-align: right;\">\n",
       "      <th></th>\n",
       "      <th>Natureza</th>\n",
       "      <th>Frequencia Absoluta</th>\n",
       "      <th>Frequencia Relativa(%)</th>\n",
       "    </tr>\n",
       "  </thead>\n",
       "  <tbody>\n",
       "    <tr>\n",
       "      <th>0</th>\n",
       "      <td>LCSM</td>\n",
       "      <td>0</td>\n",
       "      <td>0.0</td>\n",
       "    </tr>\n",
       "    <tr>\n",
       "      <th>1</th>\n",
       "      <td>LCD</td>\n",
       "      <td>82</td>\n",
       "      <td>53.25</td>\n",
       "    </tr>\n",
       "    <tr>\n",
       "      <th>2</th>\n",
       "      <td>LCCAT</td>\n",
       "      <td>71</td>\n",
       "      <td>46.1</td>\n",
       "    </tr>\n",
       "    <tr>\n",
       "      <th>3</th>\n",
       "      <td>LCCO</td>\n",
       "      <td>1</td>\n",
       "      <td>0.65</td>\n",
       "    </tr>\n",
       "  </tbody>\n",
       "</table>\n",
       "</div>"
      ],
      "text/plain": [
       "  Natureza  Frequencia Absoluta Frequencia Relativa(%)\n",
       "0     LCSM                    0                    0.0\n",
       "1      LCD                   82                  53.25\n",
       "2    LCCAT                   71                   46.1\n",
       "3     LCCO                    1                   0.65"
      ]
     },
     "metadata": {},
     "output_type": "display_data"
    },
    {
     "name": "stdout",
     "output_type": "stream",
     "text": [
      "- 2018\n"
     ]
    },
    {
     "data": {
      "text/html": [
       "<div>\n",
       "<style scoped>\n",
       "    .dataframe tbody tr th:only-of-type {\n",
       "        vertical-align: middle;\n",
       "    }\n",
       "\n",
       "    .dataframe tbody tr th {\n",
       "        vertical-align: top;\n",
       "    }\n",
       "\n",
       "    .dataframe thead th {\n",
       "        text-align: right;\n",
       "    }\n",
       "</style>\n",
       "<table border=\"1\" class=\"dataframe\">\n",
       "  <thead>\n",
       "    <tr style=\"text-align: right;\">\n",
       "      <th></th>\n",
       "      <th>Natureza</th>\n",
       "      <th>Frequencia Absoluta</th>\n",
       "      <th>Frequencia Relativa(%)</th>\n",
       "    </tr>\n",
       "  </thead>\n",
       "  <tbody>\n",
       "    <tr>\n",
       "      <th>0</th>\n",
       "      <td>LCSM</td>\n",
       "      <td>0</td>\n",
       "      <td>0.0</td>\n",
       "    </tr>\n",
       "    <tr>\n",
       "      <th>1</th>\n",
       "      <td>LCD</td>\n",
       "      <td>77</td>\n",
       "      <td>50.99</td>\n",
       "    </tr>\n",
       "    <tr>\n",
       "      <th>2</th>\n",
       "      <td>LCCAT</td>\n",
       "      <td>73</td>\n",
       "      <td>48.34</td>\n",
       "    </tr>\n",
       "    <tr>\n",
       "      <th>3</th>\n",
       "      <td>LCCO</td>\n",
       "      <td>1</td>\n",
       "      <td>0.66</td>\n",
       "    </tr>\n",
       "  </tbody>\n",
       "</table>\n",
       "</div>"
      ],
      "text/plain": [
       "  Natureza  Frequencia Absoluta Frequencia Relativa(%)\n",
       "0     LCSM                    0                    0.0\n",
       "1      LCD                   77                  50.99\n",
       "2    LCCAT                   73                  48.34\n",
       "3     LCCO                    1                   0.66"
      ]
     },
     "metadata": {},
     "output_type": "display_data"
    },
    {
     "name": "stdout",
     "output_type": "stream",
     "text": [
      "- 2019\n"
     ]
    },
    {
     "data": {
      "text/html": [
       "<div>\n",
       "<style scoped>\n",
       "    .dataframe tbody tr th:only-of-type {\n",
       "        vertical-align: middle;\n",
       "    }\n",
       "\n",
       "    .dataframe tbody tr th {\n",
       "        vertical-align: top;\n",
       "    }\n",
       "\n",
       "    .dataframe thead th {\n",
       "        text-align: right;\n",
       "    }\n",
       "</style>\n",
       "<table border=\"1\" class=\"dataframe\">\n",
       "  <thead>\n",
       "    <tr style=\"text-align: right;\">\n",
       "      <th></th>\n",
       "      <th>Natureza</th>\n",
       "      <th>Frequencia Absoluta</th>\n",
       "      <th>Frequencia Relativa(%)</th>\n",
       "    </tr>\n",
       "  </thead>\n",
       "  <tbody>\n",
       "    <tr>\n",
       "      <th>0</th>\n",
       "      <td>LCSM</td>\n",
       "      <td>0</td>\n",
       "      <td>0.0</td>\n",
       "    </tr>\n",
       "    <tr>\n",
       "      <th>1</th>\n",
       "      <td>LCD</td>\n",
       "      <td>77</td>\n",
       "      <td>50.99</td>\n",
       "    </tr>\n",
       "    <tr>\n",
       "      <th>2</th>\n",
       "      <td>LCCAT</td>\n",
       "      <td>73</td>\n",
       "      <td>48.34</td>\n",
       "    </tr>\n",
       "    <tr>\n",
       "      <th>3</th>\n",
       "      <td>LCCO</td>\n",
       "      <td>1</td>\n",
       "      <td>0.66</td>\n",
       "    </tr>\n",
       "  </tbody>\n",
       "</table>\n",
       "</div>"
      ],
      "text/plain": [
       "  Natureza  Frequencia Absoluta Frequencia Relativa(%)\n",
       "0     LCSM                    0                    0.0\n",
       "1      LCD                   77                  50.99\n",
       "2    LCCAT                   73                  48.34\n",
       "3     LCCO                    1                   0.66"
      ]
     },
     "metadata": {},
     "output_type": "display_data"
    },
    {
     "data": {
      "image/png": "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\n",
      "text/plain": [
       "<Figure size 432x288 with 1 Axes>"
      ]
     },
     "metadata": {
      "needs_background": "light"
     },
     "output_type": "display_data"
    }
   ],
   "source": [
    "Facade.lesoesDP(0)"
   ]
  },
  {
   "cell_type": "code",
   "execution_count": 109,
   "metadata": {},
   "outputs": [
    {
     "name": "stdout",
     "output_type": "stream",
     "text": [
      " ---------------------------------------------------------------\n",
      " Departamento 2 \n",
      " ---------------------------------------------------------------\n"
     ]
    },
    {
     "data": {
      "text/html": [
       "<div>\n",
       "<style scoped>\n",
       "    .dataframe tbody tr th:only-of-type {\n",
       "        vertical-align: middle;\n",
       "    }\n",
       "\n",
       "    .dataframe tbody tr th {\n",
       "        vertical-align: top;\n",
       "    }\n",
       "\n",
       "    .dataframe thead th {\n",
       "        text-align: right;\n",
       "    }\n",
       "</style>\n",
       "<table border=\"1\" class=\"dataframe\">\n",
       "  <thead>\n",
       "    <tr style=\"text-align: right;\">\n",
       "      <th></th>\n",
       "      <th>LCSM</th>\n",
       "      <th>LCD</th>\n",
       "      <th>LCCAT</th>\n",
       "      <th>LCCO</th>\n",
       "    </tr>\n",
       "  </thead>\n",
       "  <tbody>\n",
       "    <tr>\n",
       "      <th>2017</th>\n",
       "      <td>0</td>\n",
       "      <td>55</td>\n",
       "      <td>184</td>\n",
       "      <td>4</td>\n",
       "    </tr>\n",
       "    <tr>\n",
       "      <th>2018</th>\n",
       "      <td>0</td>\n",
       "      <td>67</td>\n",
       "      <td>164</td>\n",
       "      <td>6</td>\n",
       "    </tr>\n",
       "    <tr>\n",
       "      <th>2019</th>\n",
       "      <td>0</td>\n",
       "      <td>7</td>\n",
       "      <td>5</td>\n",
       "      <td>12</td>\n",
       "    </tr>\n",
       "  </tbody>\n",
       "</table>\n",
       "</div>"
      ],
      "text/plain": [
       "      LCSM  LCD  LCCAT  LCCO\n",
       "2017     0   55    184     4\n",
       "2018     0   67    164     6\n",
       "2019     0    7      5    12"
      ]
     },
     "metadata": {},
     "output_type": "display_data"
    },
    {
     "name": "stdout",
     "output_type": "stream",
     "text": [
      "- 2017\n"
     ]
    },
    {
     "data": {
      "text/html": [
       "<div>\n",
       "<style scoped>\n",
       "    .dataframe tbody tr th:only-of-type {\n",
       "        vertical-align: middle;\n",
       "    }\n",
       "\n",
       "    .dataframe tbody tr th {\n",
       "        vertical-align: top;\n",
       "    }\n",
       "\n",
       "    .dataframe thead th {\n",
       "        text-align: right;\n",
       "    }\n",
       "</style>\n",
       "<table border=\"1\" class=\"dataframe\">\n",
       "  <thead>\n",
       "    <tr style=\"text-align: right;\">\n",
       "      <th></th>\n",
       "      <th>Natureza</th>\n",
       "      <th>Frequencia Absoluta</th>\n",
       "      <th>Frequencia Relativa(%)</th>\n",
       "    </tr>\n",
       "  </thead>\n",
       "  <tbody>\n",
       "    <tr>\n",
       "      <th>0</th>\n",
       "      <td>LCSM</td>\n",
       "      <td>0</td>\n",
       "      <td>0.0</td>\n",
       "    </tr>\n",
       "    <tr>\n",
       "      <th>1</th>\n",
       "      <td>LCD</td>\n",
       "      <td>55</td>\n",
       "      <td>22.63</td>\n",
       "    </tr>\n",
       "    <tr>\n",
       "      <th>2</th>\n",
       "      <td>LCCAT</td>\n",
       "      <td>184</td>\n",
       "      <td>75.72</td>\n",
       "    </tr>\n",
       "    <tr>\n",
       "      <th>3</th>\n",
       "      <td>LCCO</td>\n",
       "      <td>4</td>\n",
       "      <td>1.65</td>\n",
       "    </tr>\n",
       "  </tbody>\n",
       "</table>\n",
       "</div>"
      ],
      "text/plain": [
       "  Natureza  Frequencia Absoluta Frequencia Relativa(%)\n",
       "0     LCSM                    0                    0.0\n",
       "1      LCD                   55                  22.63\n",
       "2    LCCAT                  184                  75.72\n",
       "3     LCCO                    4                   1.65"
      ]
     },
     "metadata": {},
     "output_type": "display_data"
    },
    {
     "name": "stdout",
     "output_type": "stream",
     "text": [
      "- 2018\n"
     ]
    },
    {
     "data": {
      "text/html": [
       "<div>\n",
       "<style scoped>\n",
       "    .dataframe tbody tr th:only-of-type {\n",
       "        vertical-align: middle;\n",
       "    }\n",
       "\n",
       "    .dataframe tbody tr th {\n",
       "        vertical-align: top;\n",
       "    }\n",
       "\n",
       "    .dataframe thead th {\n",
       "        text-align: right;\n",
       "    }\n",
       "</style>\n",
       "<table border=\"1\" class=\"dataframe\">\n",
       "  <thead>\n",
       "    <tr style=\"text-align: right;\">\n",
       "      <th></th>\n",
       "      <th>Natureza</th>\n",
       "      <th>Frequencia Absoluta</th>\n",
       "      <th>Frequencia Relativa(%)</th>\n",
       "    </tr>\n",
       "  </thead>\n",
       "  <tbody>\n",
       "    <tr>\n",
       "      <th>0</th>\n",
       "      <td>LCSM</td>\n",
       "      <td>0</td>\n",
       "      <td>0.0</td>\n",
       "    </tr>\n",
       "    <tr>\n",
       "      <th>1</th>\n",
       "      <td>LCD</td>\n",
       "      <td>67</td>\n",
       "      <td>28.27</td>\n",
       "    </tr>\n",
       "    <tr>\n",
       "      <th>2</th>\n",
       "      <td>LCCAT</td>\n",
       "      <td>164</td>\n",
       "      <td>69.2</td>\n",
       "    </tr>\n",
       "    <tr>\n",
       "      <th>3</th>\n",
       "      <td>LCCO</td>\n",
       "      <td>6</td>\n",
       "      <td>2.53</td>\n",
       "    </tr>\n",
       "  </tbody>\n",
       "</table>\n",
       "</div>"
      ],
      "text/plain": [
       "  Natureza  Frequencia Absoluta Frequencia Relativa(%)\n",
       "0     LCSM                    0                    0.0\n",
       "1      LCD                   67                  28.27\n",
       "2    LCCAT                  164                   69.2\n",
       "3     LCCO                    6                   2.53"
      ]
     },
     "metadata": {},
     "output_type": "display_data"
    },
    {
     "name": "stdout",
     "output_type": "stream",
     "text": [
      "- 2019\n"
     ]
    },
    {
     "data": {
      "text/html": [
       "<div>\n",
       "<style scoped>\n",
       "    .dataframe tbody tr th:only-of-type {\n",
       "        vertical-align: middle;\n",
       "    }\n",
       "\n",
       "    .dataframe tbody tr th {\n",
       "        vertical-align: top;\n",
       "    }\n",
       "\n",
       "    .dataframe thead th {\n",
       "        text-align: right;\n",
       "    }\n",
       "</style>\n",
       "<table border=\"1\" class=\"dataframe\">\n",
       "  <thead>\n",
       "    <tr style=\"text-align: right;\">\n",
       "      <th></th>\n",
       "      <th>Natureza</th>\n",
       "      <th>Frequencia Absoluta</th>\n",
       "      <th>Frequencia Relativa(%)</th>\n",
       "    </tr>\n",
       "  </thead>\n",
       "  <tbody>\n",
       "    <tr>\n",
       "      <th>0</th>\n",
       "      <td>LCSM</td>\n",
       "      <td>0</td>\n",
       "      <td>0.0</td>\n",
       "    </tr>\n",
       "    <tr>\n",
       "      <th>1</th>\n",
       "      <td>LCD</td>\n",
       "      <td>67</td>\n",
       "      <td>28.27</td>\n",
       "    </tr>\n",
       "    <tr>\n",
       "      <th>2</th>\n",
       "      <td>LCCAT</td>\n",
       "      <td>164</td>\n",
       "      <td>69.2</td>\n",
       "    </tr>\n",
       "    <tr>\n",
       "      <th>3</th>\n",
       "      <td>LCCO</td>\n",
       "      <td>6</td>\n",
       "      <td>2.53</td>\n",
       "    </tr>\n",
       "  </tbody>\n",
       "</table>\n",
       "</div>"
      ],
      "text/plain": [
       "  Natureza  Frequencia Absoluta Frequencia Relativa(%)\n",
       "0     LCSM                    0                    0.0\n",
       "1      LCD                   67                  28.27\n",
       "2    LCCAT                  164                   69.2\n",
       "3     LCCO                    6                   2.53"
      ]
     },
     "metadata": {},
     "output_type": "display_data"
    },
    {
     "data": {
      "image/png": "iVBORw0KGgoAAAANSUhEUgAAAX8AAAEYCAYAAAC0tfaFAAAABHNCSVQICAgIfAhkiAAAAAlwSFlzAAALEgAACxIB0t1+/AAAADh0RVh0U29mdHdhcmUAbWF0cGxvdGxpYiB2ZXJzaW9uMy4xLjAsIGh0dHA6Ly9tYXRwbG90bGliLm9yZy+17YcXAAAgAElEQVR4nO3deZxcVZ338c+XJBBZQiA0SAghMRAgBNJKWEYHBUGGTZioE5NxJKKyjTzzsLiFedS4gTMGUR5EiSMEEDpssswAAoPAPOMImLAZDLuBNIQQAmQhrOH3/HFOY6VS1d1VXZ3q5n7fr1e9uuquv3vPrd8999zTtxQRmJlZsWzQ7ADMzGz9c/I3MysgJ38zswJy8jczKyAnfzOzAnLyNzMrICf/9UDS1yVdXjZsoaSD8vvTJf1bL8ewv6T23lxHLSQdKekFSZ+QNEvS+5odU18i6TOSbml2HPbutV6Tf054r0paKellSf8j6QRJG5RMM1vSG5JWSXpR0q2SdikZf4qk5yQtl3SBpI3y8K0ltUl6No/7naR9GhDzaElvSzqvzvnHAp8GvlBtmog4IyK+WG+MvS2XyfcavNgDgP2BvwOGRsSTDV4+kraV9EtJi/Mx97Ckb0vapNHrarSIuDQiDm52HKUkzZT0WMm+PLpsfKukeZJW57+tJeMOkHR7/m4uLJtvZP6+l75C0mlV4viKpPk5jj9L+krZ+FF5XatznAeVjBsv6eZc8Vjnn5zyvDdKeinnmXMlDaxzl5Uut8v8JOnvJT0l6RVJ10rasmTcSZLmSnpd0uwKy/+ipMfzvvuNpOFdxdSMmv/HI2IzYAfgB8DXgF+WTfOvEbEpMAJ4HpgNIOlvgK8DBwKjgPcB387zbAr8AdgT2BK4CLhB0qY9jPdo4CVgSseJpkY7A1MjYlUP43hXiYhTImJ+REyNiMmNXn7+4vweeA/wV/mY+xgwFBhT47JUWkFpQGw9TiZN8grwcWBzYBrwE0kfBJC0IXAd8CtgC9L377o8vGPeC4CvlC80Ip6OiE07XsDuwNvA1VXiEOl7uQVwCHCSpCkl49uA+4BhwD8DV0lqyePeBK6gemXsPFLO2RZoBT4C/GO1HVKDTvOTpN2A84HPAtsAq3MsHZ4Fvkfah2uR9BHgDOCovOw/k/ZB5yJivb2AhcBBZcP2JhX0+Px5NvC9kvGHA6vy+8uAM0rGHQg818n6VgB79jDmJ4ATgSXAp8rGBXAC8BjpBPFTQHncGOC3wDLgBeBSUg13nX0BzAB+ld8PJn2BlgEvkw6YbfK4zUknysXAM/lgGFAl7vfkffkS8CfSl669ZPxw0pdraT5Y/qmTfbBWmZSN2wW4FXgReASYXDLusLzulTneL5eMOxZ4PM93PTC8p8ssi+t7wB+BDTrZrg/m/bs8//1gybg7gO8DvwNeBXbMw84E7snzXAdsWTLPkcBDudzuAHYtK++vAQ8CrwMDSRWZJ/K2/AmYVDL954D/zu8FnE1KSsvzMsZX2aaqx0he5u/ysl4Gnsz74HPAorz8aTV8N64HTsvvD87rU8n4p4FDyuY5CFjYxXK/BdxeQxznAP83vx+b9+9mJeP/H3BC2Tw7AlFhWQuAw0o+/xA4v5N1HwHcn/fn/wB71BD3O/mJlLwvKxk3BnijdDtKjuvZZcNmAj8t+24HMKaz9Te9zT8i7gHagf3Kx+Wz4mdIZ3GA3YAHSiZ5ANhG0rAK87YCG5ISTF0k7Ue6+phDqi0cXWGyI4C9gAnAZOBv8vANSFc2w4Fdge1JSb4r00hf4O1JNZcTSMkHUm3hLdKB+37SF65ac9G3SAfQmBzTtJLt2gD4d9L+2450Ej05X1l1W24+uZV0Ut4amAqcl2sxkJLQ8ZFq3eNJJ0MkfZSURCeTalhPkfZx3cus4CDg1xHxdpXYtwRuICWOYcCPSDWx0mPps8BxwGY5RkjHwOdJ5fpWnr+jea8NOBloAW4E/r2k5kvelsNJlYC3SIl/P1J5fxv4laRtK4R7MPBhUmIbSmpGXFZlu7s6RvYhnTyGkfbxHNLxuyPwD8C53blalvSePN9DedBuwIORs0/2YB5eq6PzdnRJkkj7sDSOJyNiZclkD9QQx09IV/kbS9oOOBT4TZV1f4BUEz+etD/PB67vTgtBhfy0Vm6LiCdIyX9sN2JWfpV+hvT9qKrpyT97lnS50uHLkl4m7ZhNSTUT8vvlJdN1vN+sdGGShgCXAN+OiNLpazUNuCkiXiJ9UQ6VtHXZND+IiJcj4mngdtKlIhHxWETcEhGvR8RSUnL5SDfW+SbpQNoxItZExLyIWCFpG9KBeHJEvBIRz5NqcFOqLGcy8P2IeDEiFpGTVLYX0BIR34mINyK1t/+ik2VVcwSpFndhRLwVEfeSriY+VbIt4yQNiYiX8nhIJ/QLIuLeiHgdmA78laRRPVhmuWGk2m81hwOPRcQleT1twMOkZo0OsyPioTz+zTzskkjNVa8A3wAmSxpASsg3RMStedqZpKuvD5Ys75yIWBQRrwJExJUR8WxEvB0Rl5OuIPeuEOubpGN8F1LNekFErLNt3TxG/pz37RrgclIl4zv5OL2FlHB27GS/dfg5KVndnD+XfzfJnzejBrnCtQ1wVTdnmUHKYxc2KI47SYl4BalSOhe4tsq0x5KuCu7O39WLSFcd+3a2gir5qSdx30g6DvfIJ+Vvkmr+G3c2U19J/tuRLvE7zIyIoRHx3og4Mp8FAVYBQ0qm63j/zlk+b/y/A3dFxJnVVlh2c2lkhfHvId2MvBQgIn5Puoz9+7JJnyt5v5pUiEgapnSj9DFJi0hflq2qxVPiEtIXak6+OfSvkgaR7pEMAhYr3Sx/mVTTKD8ZdRhOupTv8FTJ+x2A4R3Lycs6nfSlq8UOwD5ly/kM8N48/pOkZpqnJN0p6a9KYnsnnkj3Q5aRjoN6l1luGemqopq1YsieyjF0WMS6yvfpIFK5lm/T23naqsuTdLSk+0u2czwVjpGI+C1wLqlZcYlS76gh5dPRvWNkScn7jpNQ+bBOa/6SfphjnVxS0y//bpI/r6Q204Croxv3yCSdRLpKODxXInoUR74ivhn4NbAJqSy2AP6lyiw7AKeVHavbk46Fauuolp/qjjsibiNd6V9NOgYX5vk67d3X9OQvaS/SF+S/uzH5Q6TmlQ4TgCURsSwvayPSWfoZ0qVYVVFygynX2stNIu3885Tu+j+X46zU9FPJD4ABwPsjYnvSfQN1PgtExJsR8e2IGEeqNR6R17mIVKvYKp8Yh0bEkIiodjm7mHQgdig9wS0i1QCHlrw2i4jDurltpcu5s2w5m0bEiXlb/hARR5GSz7WkpjNIV3o7dCwkN/UMI5Vbvcss95/ApE5u1K4VQzYyx9Ch0iNvy/fpm6R7OuXbpDxtxeVJ2oF0tXUSMCwihgLzqXKMRMQ5EbEnqVY6lgo3Tqn9GKmZpG+Tri4OjogVJaMeAvbI291hD/7SHNOdZXdUuLps8pH0eXLnj4goTXIPAe+TVFpjntDNOLYkldm5+UpoGemKotr3YhHp6rr0WN04X0VWirmz/LRWblPq+rwR8Gg34iYifhoRO0XE1qSTwEDS8VRV05K/pCGSjiC1Of4qIv7YjdkuBr4gaZykLYD/w196Ag0iXSq+ChwdVdp6azCN1J63O6kppxX4ENAqafduzD+UdAn9Wm47rPRlXYdSl7jdc1PCClJyWZMv828Bzsr7bgNJY/Kd/kquAKZL2kLSCOB/lYy7B1gh6WuS3iNpgFIXuL06CW2ApMElrw2B/wDGSvqspEH5tZekXSVtqNRXffPcDLICWJOXdRlwjFLXwI1IN7vujoiFPVhmuR+RTt4X5USLpO0k/UjSHqRL5bFK3esGSvo0MC6vvzP/kI+/jYHvAFflJpQrgMMlHZiPxdNIifh/qixnE9LJYGmO7RiqtNHm7d8nL/cV4LVK213HMVITSdNJV74f66hwlbgjx/RPkjbKtXL4y32eDSQNJl2ZqOQYKjWJdOP09rL1jlLq+jkqf/4M6Zj5WJR1EY6IR0k3YL+V1zGJdBK6Os+rHMeG+fPgfAwSES+QOj+cmI+JoaQ8UHqfsdQvgBNy2UjSJpIOLzvxdGxDV/npUuDjkvbLlaHvkO5ZrczzD8xxD+Av38WBJdswPscwEpgF/CRSc3V10c070414kS5HXiVdkiwndcX7EiU9VuikZ0kefyrp0nUF6ay8UR7+EdKXaTXpEqrjtV8dcW5Humm2e4VxN5Kapcjr27FS7KQa2rwcw/2kZNBeti8q9faZSurh8kreznOAgXnc5sDPSJdzy0k3wqdU2YaNSSfLl6ne26eN1Gz1EnAXZT2xyrYryl4dPVF2Jt04XUpqavkt6US5IelG2Uu5rP4A/HXJMk8g3fB8kZRwR5SMq2uZFeIeTjqBP5ePuYdJl8cb5/F/nctoef5bGt8dwBfLlncHf+nts4J0+b5VyfhJeV8vJ7cdVyrvkmHfz9v/AulkdWfHOlm7t8+BpJunq/hLz7FNq2xz1WOkdJn58zo9XvJ8FfdpLvfXWfv7dXrJ+Pfn/fgqcC/pqrdj3P4VjqE7ypZ/M/DdCuvdL++/Qfnzn0mVotI4fl4y/ahcVq+SvksHlY0rj2NhyfjWPO9LeV9fCWzdyTF2COk4fJl0tX0lZT10upufSCfWp0nf/fKeZDMqxD0jjxuaj49XSMf6mVTpBVj66uiWaGZdkHQH6STdq/+NbWuT9H+ApRFxfrNjeTfpr/9sYmYFERGN/u9yow/c8DUzs/XPzT5mZgXkmr+ZWQE5+ZuZFVCfuOG71VZbxahRo5odhplZvzJv3rwXIqKl6ynX1SeS/6hRo5g7d26zwzAz61cklT+ipNvc7GNmVkBO/mZmBeTkb2ZWQH2izd/MrNybb75Je3s7r732WrNDabrBgwczYsQIBg0a1LBlOvmbWZ/U3t7OZpttxqhRo1j7SdHFEhEsW7aM9vZ2Ro8e3bDlutnHzPqk1157jWHDhhU68QNIYtiwYQ2/AnLyN7M+q+iJv0Nv7AcnfzOzKjbdtPIvWl588cWMHz+e3XbbjXHjxjFz5kwA7rrrLvbZZx9aW1vZddddmTFjBgCzZ89GErfddts7y7jmmmuQxFVXdffnihvLbf7rwe4XdeeHv9b1x2nd+XEzs2IY9fUbGrq8hT84vK75brrpJn784x9zyy23MHz4cF577TUuueQSAKZNm8YVV1zBhAkTWLNmDY888sg78+2+++60tbVx4IEHAjBnzhwmTJhQcR3rg2v+ZmY1OPPMM5k5cybDh6ffaR88eDDHHnssAM8//zzbbrstAAMGDGDcuHHvzLfffvtxzz338Oabb7Jq1Soef/xxWltb1/8GZE7+ZmY1mD9/PnvuuWfFcaeccgo777wzkyZN4vzzz1/rJq0kDjroIG6++Wauu+46jjzyyPUVckVO/mZmDfLNb36TuXPncvDBB3PZZZdxyCGHrDV+ypQpzJkzhzlz5jB16tQmRZk4+ZuZ1WC33XZj3rx5VcePGTOGE088kdtuu40HHniAZcuWvTNu7733Zv78+bzwwguMHTt2fYRblZO/mVkNpk+fzle/+lWee+45AF5//XXOOeccAG644QY6fh3xscceY8CAAQwdOnSt+c8880zOOOOM9Rt0Be7tY2ZWxerVqxkxYsQ7n0899VROPfVUlixZwkEHHUREIInPf/7zAFxyySWccsopbLzxxgwcOJBLL72UAQMGrLXMQw89dL1uQzVd/oavpAuAI4DnI2J8HnY5sHOeZCjwckS0ShoFLAA6+jfdFREndBXExIkT4938PH939TSr3YIFC9h1112bHUafUWl/SJoXERPrWV53av6zgXOBizsGRMSnS1Z+FrC8ZPonIqJ5/ZfMzKxLXSb/iPivXKNfh9L/HE8GPtrYsMzMrDf19IbvfsCSiHisZNhoSfdJulPSftVmlHScpLmS5i5durSHYZiZWS16mvynAm0lnxcDIyPi/cCpwGWShlSaMSJmRcTEiJjY0lLX7w+bmVmd6k7+kgYCnwAu7xgWEa9HxLL8fh7wBNDczqxmZraOntT8DwIejoj2jgGSWiQNyO/fB+wEPNmzEM3MrNG6TP6S2oDfAztLapf0hTxqCms3+QB8GHhQ0gPAVcAJEfFiIwM2M1tfan2k8+c+9zlGjx7NhAkTGDt2LEcffTTPPPPM+gy527rT26fiAygi4nMVhl0NXN3zsMzMyszYvMHLW971NBV09khngB/+8Id86lOfIiL48Y9/zAEHHMD8+fPZcMMNGxV5Q/jxDmZmNejskc6lJHHKKafw3ve+l5tuuml9h9klJ38zsxp09kjnSj7wgQ/w8MMP92JE9XHyNzPrRV09QqdZnPzNzGrQ1SOdy91333198hlFTv5mZjXo7JHOpSKCc845h8WLF6/zoy59gR/pbGZWRa2PdAb4yle+wne/+11Wr17Nvvvuy+23397nevqAk7+Z9Rd1ds3sibfffrvi8GOOOYZjjjlmneGzZ8/u5Ygax8nfrAv+PQZ7N3Kbv5lZATn5m5kVkJO/mVkBOfmbmRWQk7+ZWQE5+ZuZVVHrI50BZs6cyS677ML48eOZMGECF1988Tvjli5dyqBBgzj//PPfGbbPPvvQ2trKyJEjaWlpobW1ldbWVhYuXNhr2wXu6mlm/US9XW6rqbcrbmePdP75z3/Orbfeyj333MOQIUNYvnw511577TvzXnnlley77760tbVx/PHHA3D33XcD6X8E5s6dy7nnntvDLese1/zNzGrQ2SOdzzjjDM477zyGDEk/Xb755pszbdq0d+Zta2vjrLPOor29vek/8uLkb2ZWg2qPdF65ciUrV65kzJgxFedbtGgRzz33HHvvvTeTJ0/m8ssvrzjd+uLkb2bWAB3P+almzpw5TJ48GYApU6bQ1lb+K7jrl5O/mVkNqj3SeciQIWyyySY8+eSTFedra2tj9uzZjBo1iiOPPJIHHniAxx57rLfDrao7P+B+gaTnJc0vGTZD0jOS7s+vw0rGTZf0uKRHJP1NbwVuZtYMnT3Sefr06XzpS19ixYoVAKxYsYJZs2bxyCOP8Morr/DMM8+wcOFCFi5cyPTp05kzZ07TtqM7vX1mA+cCF5cNPzsiZpYOkDQOmALsBgwH/lPS2IhY04BYzczWq1of6XziiSeyatUq9tprLwYNGsSgQYM47bTTaGtrY9KkSWst+5Of/CRTpkzhG9/4xnrdpg7qzk+MSRoF/EdEjM+fZwCrKiT/6QARcWb+fDMwIyJ+39nyJ06cGHPnzq0j/P7BT4Xs31x+zbFgwYI++QtYzVJpf0iaFxET61leT9r8T5L0YG4W2iIP2w5YVDJNex5mZmZ9SL3J/2fAGKAVWAyclYdXutVd8dJC0nGS5kqau3Tp0jrDMDOzetSV/CNiSUSsiYi3gV8Ae+dR7cD2JZOOAJ6tsoxZETExIia2tLTUE4aZmdWpruQvaduSj5OAjp5A1wNTJG0kaTSwE3BPz0I0M7NG67K3j6Q2YH9gK0ntwLeA/SW1kpp0FgLHA0TEQ5KuAP4EvAV8yT19zMz6ni6Tf0RMrTD4l51M/33g+z0JyszMepf/w9fMrIpGPtL5jTfe4OSTT2bMmDHstNNOHHXUUbS3t6+X7ajEj3Q2s35hwS6N7fO/68ML6pqv3kc6n3766axcuZJHH32UAQMGcOGFF/KJT3yCu+++u9NnAvUW1/zNzGpQzyOdV69ezYUXXsjZZ5/NgAEDADjmmGPYaKON+O1vf9uU7XDyNzOrQT2PdH788ccZOXLkOyeFDhMnTuShhx7qtVg74+RvZtYAnT3Sudq4rh4D3Zuc/M3MalDPI5133HFHnnrqKVauXLnW8HvvvZdx48b1WqydcfI3M6tBPY903mSTTZg2bRqnnnoqa9akf326+OKLWb16NR/96Eebsh3u7WNmVkWjHukM6Ubxl7/8ZcaOHcsGG2zALrvswjXXXNO0Zp9uPdK5t/mRzpX5kcB9g8uvOfxI57X1pUc6m5lZP+Xkb2ZWQE7+ZmYF5ORvZn1WX7gn2Rf0xn5w8jezPmnw4MEsW7as8CeAiGDZsmUMHjy4oct1V08z65NGjBhBe3s7/pnXdCIs7XLaCE7+ZtYnDRo0iNGjRzc7jHctN/uYmRWQk7+ZWQE5+ZuZFVCXyV/SBZKelzS/ZNgPJT0s6UFJ10gamoePkvSqpPvz6+e9GbyZmdWnOzX/2cAhZcNuBcZHxB7Ao8D0knFPRERrfp3QmDDNzKyRukz+EfFfwItlw26JiLfyx7uAxvZBMjOzXtWINv/PAzeVfB4t6T5Jd0rarwHLNzOzButRP39J/wy8BVyaBy0GRkbEMkl7AtdK2i0iVlSY9zjgOICRI0f2JAwzM6tR3TV/SdOAI4DPRP7/64h4PSKW5ffzgCeAsZXmj4hZETExIia2tLTUG4aZmdWhruQv6RDga8CREbG6ZHiLpAH5/fuAnYB1f9DSzMyaqstmH0ltwP7AVpLagW+RevdsBNyaf4Lsrtyz58PAdyS9BawBToiIFysu2MzMmqbL5B8RUysM/mWVaa8Gru5pUGZm1rv8H75mZgXk5G9mVkBO/mZmBeTkb2ZWQE7+ZmYF5ORvZlZATv5mZgXk5G9mVkBO/mZmBeTkb2ZWQE7+ZmYF5ORvZlZATv5mZgXk5G9mVkBO/mZmBeTkb2ZWQE7+ZmYF5ORvZlZATv5mZgXUreQv6QJJz0uaXzJsS0m3Snos/90iD5ekcyQ9LulBSR/oreDNzKw+3a35zwYOKRv2deC2iNgJuC1/BjgU2Cm/jgN+1vMwzcyskbqV/CPiv4AXywYfBVyU318E/G3J8IsjuQsYKmnbRgRrZmaN0ZM2/20iYjFA/rt1Hr4dsKhkuvY8zMzM+ojeuOGrCsNinYmk4yTNlTR36dKlvRCGmZlV05Pkv6SjOSf/fT4Pbwe2L5luBPBs+cwRMSsiJkbExJaWlh6EYWZmtepJ8r8emJbfTwOuKxl+dO71sy+wvKN5yMzM+oaB3ZlIUhuwP7CVpHbgW8APgCskfQF4Gvi7PPmNwGHA48Bq4JgGx2xmZj3UreQfEVOrjDqwwrQBfKknQZmZWe/yf/iamRWQk7+ZWQE5+ZuZFZCTv5lZATn5m5kVkJO/mVkBOfmbmRWQk7+ZWQE5+ZuZFZCTv5lZATn5m5kVkJO/mVkBOfmbmRWQk7+ZWQE5+ZuZFZCTv5lZATn5m5kVkJO/mVkBOfmbmRVQt37DtxJJOwOXlwx6H/BNYChwLLA0Dz89Im6sO0IzM2u4upN/RDwCtAJIGgA8A1wDHAOcHREzGxKhmZk1XKOafQ4EnoiIpxq0PDMz60WNSv5TgLaSzydJelDSBZK2aNA6zMysQXqc/CVtCBwJXJkH/QwYQ2oSWgycVWW+4yTNlTR36dKllSYxM7Ne0oia/6HAvRGxBCAilkTEmoh4G/gFsHelmSJiVkRMjIiJLS0tDQjDzMy6qxHJfyolTT6Sti0ZNwmY34B1mJlZA9Xd2wdA0sbAx4DjSwb/q6RWIICFZePMzKwP6FHyj4jVwLCyYZ/tUURmZtbr/B++ZmYF5ORvZlZATv5mZgXk5G9mVkA9uuFr1q/M2Ly++UaPbGwcZn2Aa/5mZgXk5G9mVkBO/mZmBeTkb2ZWQE7+ZmYF5ORvZlZATv5mZgXk5G9mVkBO/mZmBeTkb2ZWQE7+ZmYF5ORvZlZATv5mZgXkp3rWwk+FNLN3iR4nf0kLgZXAGuCtiJgoaUvgcmAU6UfcJ0fESz1dl5mZNUajmn0OiIjWiJiYP38duC0idgJuy5/NzKyP6K02/6OAi/L7i4C/7aX1mJlZHRqR/AO4RdI8ScflYdtExGKA/HfrBqzHzMwapBE3fD8UEc9K2hq4VdLD3ZkpnyiOAxg50jdEzczWpx7X/CPi2fz3eeAaYG9giaRtAfLf5yvMNysiJkbExJaWlp6GYWZmNehR8pe0iaTNOt4DBwPzgeuBaXmyacB1PVmPmZk1Vk+bfbYBrpHUsazLIuI3kv4AXCHpC8DTwN/1cD1mZtZAPUr+EfEkMKHC8GXAgT1ZtpmZ9R4/3sHMrICc/M3MCsjJ38ysgJz8zcwKyMnfzKyAnPzNzArIyd/MrICc/M3MCsjJ38ysgJz8zcwKyMnfzKyAnPzNzArIyd/MrICc/M3MCsjJ38ysgJz8zcwKyMnfzKyAnPzNzArIyd/MrICc/M3MCqju5C9pe0m3S1og6SFJ/zsPnyHpGUn359dhjQvXzMwaYWAP5n0LOC0i7pW0GTBP0q153NkRMbPn4ZmZWW+oO/lHxGJgcX6/UtICYLtGBWZmZr2nIW3+kkYB7wfuzoNOkvSgpAskbVFlnuMkzZU0d+nSpY0Iw8zMuqnHyV/SpsDVwMkRsQL4GTAGaCVdGZxVab6ImBUREyNiYktLS0/DMDOzGvQo+UsaREr8l0bErwEiYklErImIt4FfAHv3PEwzM2uknvT2EfBLYEFE/Khk+LYlk00C5tcfnpmZ9Yae9Pb5EPBZ4I+S7s/DTgemSmoFAlgIHN+jCM3MrOF60tvnvwFVGHVj/eGYmdn64P/wNTMrICd/M7MCcvI3MysgJ38zswJy8jczKyAnfzOzAnLyNzMrICd/M7MCcvI3MyugnjzewczsXWnBLrvWNd+uDy9ocCS9xzV/M7MCcvI3MysgJ38zswJy8jczKyAnfzOzAnJvHzPr+2ZsXud8yxsbx7uIk79ZLylCd0Hrv5z8zexda/eLdq9rvisaHEdf5OTfh7nmaGa9pddu+Eo6RNIjkh6X9PXeWo+ZmdWuV5K/pAHAT4FDgXHAVEnjemNdZmZWu96q+e8NPB4RT0bEG8Ac4KheWpeZmdWot9r8twMWlXxuB/YpnUDSccBx+eMqSY/0Uix9wPytgBdqnavuSyWp3jmtIpdf//WuL7sd6p2xt5J/pT0Qa32ImAXM6qX19ymS5kbExGbHYfVx+fVfLrvqeqvZpx3YvuTzCODZXlqXmZnVqLeS/x+AnSSNlrQhMAW4vpfWZWZmNeqVZp+IeEvSScDNwADggoh4qDfW1U8UonnrXXjygHAAAAOGSURBVMzl13+57KpQRHQ9lZmZvav4qZ5mZgXk5G9mVkBO/mZmBeTkb2ZWQH6qZ4NJ+ifgmohY1OXE1qeUdEt+NiL+U9LfAx8EFgCzIuLNpgZoXZI0BphE+j+jt4DHgLaI8K+6lHFvnwaTtBx4BXgCaAOujIilzY3KukPSpaQK0cbAy8CmwK+BA0nflWlNDM+6kCteHwfuBA4D7gdeIp0M/jEi7mhedH2Pk3+DSboP2BM4CPg0cCQwj3Qi+HVErGxieNYJSQ9GxB6SBgLPAMMjYo0kAQ9ExB5NDtE6IemPQGsus42BGyNif0kjgesi4v1NDrFPcZt/40VEvB0Rt0TEF4DhwHnAIcCTzQ3NurBBbvrZjFT77/jh2I2AQU2LymrR0ZS9EakciYincfmtw23+jbfWQ+1yO/H1wPWS3tOckKybfgk8TPqv9H8GrpT0JLAv6bHk1rf9G/AHSXcBHwb+BUBSC/BiMwPri9zs02CSxkbEo82Ow+ojaThARDwraSip+e7piLinuZFZd0jaDdgVmB8RDzc7nr7MyX89krRpRKxqdhxWO5dd/+byW5fb/NevPzU7AKuby65/c/mVcZt/g0k6tdooUtdB66Ncdv2by682rvk33hnAFqSeBqWvTfH+7utcdv2by68Grvk33r3AtRExr3yEpC82IR7rPpdd/+byq4Fv+DaYpJ2BFyv9V6+kbSJiSRPCsm5w2fVvLr/aOPmbmRWQ28EaTNLmkn4g6WFJy/JrQR42tNnxWXUuu/7N5VcbJ//Gu4L0MKn9I2JYRAwDDsjDrmxqZNYVl13/5vKrgZt9GkzSIxGxc63jrPlcdv2by682rvk33lOSvippm44BkraR9DXAz/jv21x2/ZvLrwZO/o33aWAYcKeklyS9CNwBbAlMbmZg1iWXXf/m8quBm316gaRdgBHAXaXPE5F0SET8pnmRWVdcdv2by6/7XPNvsPxrQtcBJwHzJR1VMvqM5kRl3eGy699cfrXxf/g23rHAnhGxStIo4CpJoyLiJ5Q969/6HJdd/+byq4GTf+MN6LjcjIiFkvYnHYQ74AOwr3PZ9W8uvxq42afxnpPU2vEhH4xHAFsBuzctKusOl13/5vKrgW/4NpikEcBbEfFchXEfiojfNSEs6waXXf/m8quNk7+ZWQG52cfMrICc/M3MCsjJ38ysgJz8zcwKyMnfzKyA/j8P5dHMOJH6zwAAAABJRU5ErkJggg==\n",
      "text/plain": [
       "<Figure size 432x288 with 1 Axes>"
      ]
     },
     "metadata": {
      "needs_background": "light"
     },
     "output_type": "display_data"
    }
   ],
   "source": [
    "Facade.lesoesDP(1)"
   ]
  },
  {
   "cell_type": "code",
   "execution_count": 110,
   "metadata": {},
   "outputs": [
    {
     "name": "stdout",
     "output_type": "stream",
     "text": [
      " ---------------------------------------------------------------\n",
      " Departamento 3 \n",
      " ---------------------------------------------------------------\n"
     ]
    },
    {
     "data": {
      "text/html": [
       "<div>\n",
       "<style scoped>\n",
       "    .dataframe tbody tr th:only-of-type {\n",
       "        vertical-align: middle;\n",
       "    }\n",
       "\n",
       "    .dataframe tbody tr th {\n",
       "        vertical-align: top;\n",
       "    }\n",
       "\n",
       "    .dataframe thead th {\n",
       "        text-align: right;\n",
       "    }\n",
       "</style>\n",
       "<table border=\"1\" class=\"dataframe\">\n",
       "  <thead>\n",
       "    <tr style=\"text-align: right;\">\n",
       "      <th></th>\n",
       "      <th>LCSM</th>\n",
       "      <th>LCD</th>\n",
       "      <th>LCCAT</th>\n",
       "      <th>LCCO</th>\n",
       "    </tr>\n",
       "  </thead>\n",
       "  <tbody>\n",
       "    <tr>\n",
       "      <th>2017</th>\n",
       "      <td>0</td>\n",
       "      <td>82</td>\n",
       "      <td>74</td>\n",
       "      <td>3</td>\n",
       "    </tr>\n",
       "    <tr>\n",
       "      <th>2018</th>\n",
       "      <td>0</td>\n",
       "      <td>82</td>\n",
       "      <td>99</td>\n",
       "      <td>3</td>\n",
       "    </tr>\n",
       "    <tr>\n",
       "      <th>2019</th>\n",
       "      <td>0</td>\n",
       "      <td>33</td>\n",
       "      <td>27</td>\n",
       "      <td>1</td>\n",
       "    </tr>\n",
       "  </tbody>\n",
       "</table>\n",
       "</div>"
      ],
      "text/plain": [
       "      LCSM  LCD  LCCAT  LCCO\n",
       "2017     0   82     74     3\n",
       "2018     0   82     99     3\n",
       "2019     0   33     27     1"
      ]
     },
     "metadata": {},
     "output_type": "display_data"
    },
    {
     "name": "stdout",
     "output_type": "stream",
     "text": [
      "- 2017\n"
     ]
    },
    {
     "data": {
      "text/html": [
       "<div>\n",
       "<style scoped>\n",
       "    .dataframe tbody tr th:only-of-type {\n",
       "        vertical-align: middle;\n",
       "    }\n",
       "\n",
       "    .dataframe tbody tr th {\n",
       "        vertical-align: top;\n",
       "    }\n",
       "\n",
       "    .dataframe thead th {\n",
       "        text-align: right;\n",
       "    }\n",
       "</style>\n",
       "<table border=\"1\" class=\"dataframe\">\n",
       "  <thead>\n",
       "    <tr style=\"text-align: right;\">\n",
       "      <th></th>\n",
       "      <th>Natureza</th>\n",
       "      <th>Frequencia Absoluta</th>\n",
       "      <th>Frequencia Relativa(%)</th>\n",
       "    </tr>\n",
       "  </thead>\n",
       "  <tbody>\n",
       "    <tr>\n",
       "      <th>0</th>\n",
       "      <td>LCSM</td>\n",
       "      <td>0</td>\n",
       "      <td>0.0</td>\n",
       "    </tr>\n",
       "    <tr>\n",
       "      <th>1</th>\n",
       "      <td>LCD</td>\n",
       "      <td>82</td>\n",
       "      <td>51.57</td>\n",
       "    </tr>\n",
       "    <tr>\n",
       "      <th>2</th>\n",
       "      <td>LCCAT</td>\n",
       "      <td>74</td>\n",
       "      <td>46.54</td>\n",
       "    </tr>\n",
       "    <tr>\n",
       "      <th>3</th>\n",
       "      <td>LCCO</td>\n",
       "      <td>3</td>\n",
       "      <td>1.89</td>\n",
       "    </tr>\n",
       "  </tbody>\n",
       "</table>\n",
       "</div>"
      ],
      "text/plain": [
       "  Natureza  Frequencia Absoluta Frequencia Relativa(%)\n",
       "0     LCSM                    0                    0.0\n",
       "1      LCD                   82                  51.57\n",
       "2    LCCAT                   74                  46.54\n",
       "3     LCCO                    3                   1.89"
      ]
     },
     "metadata": {},
     "output_type": "display_data"
    },
    {
     "name": "stdout",
     "output_type": "stream",
     "text": [
      "- 2018\n"
     ]
    },
    {
     "data": {
      "text/html": [
       "<div>\n",
       "<style scoped>\n",
       "    .dataframe tbody tr th:only-of-type {\n",
       "        vertical-align: middle;\n",
       "    }\n",
       "\n",
       "    .dataframe tbody tr th {\n",
       "        vertical-align: top;\n",
       "    }\n",
       "\n",
       "    .dataframe thead th {\n",
       "        text-align: right;\n",
       "    }\n",
       "</style>\n",
       "<table border=\"1\" class=\"dataframe\">\n",
       "  <thead>\n",
       "    <tr style=\"text-align: right;\">\n",
       "      <th></th>\n",
       "      <th>Natureza</th>\n",
       "      <th>Frequencia Absoluta</th>\n",
       "      <th>Frequencia Relativa(%)</th>\n",
       "    </tr>\n",
       "  </thead>\n",
       "  <tbody>\n",
       "    <tr>\n",
       "      <th>0</th>\n",
       "      <td>LCSM</td>\n",
       "      <td>0</td>\n",
       "      <td>0.0</td>\n",
       "    </tr>\n",
       "    <tr>\n",
       "      <th>1</th>\n",
       "      <td>LCD</td>\n",
       "      <td>82</td>\n",
       "      <td>44.57</td>\n",
       "    </tr>\n",
       "    <tr>\n",
       "      <th>2</th>\n",
       "      <td>LCCAT</td>\n",
       "      <td>99</td>\n",
       "      <td>53.8</td>\n",
       "    </tr>\n",
       "    <tr>\n",
       "      <th>3</th>\n",
       "      <td>LCCO</td>\n",
       "      <td>3</td>\n",
       "      <td>1.63</td>\n",
       "    </tr>\n",
       "  </tbody>\n",
       "</table>\n",
       "</div>"
      ],
      "text/plain": [
       "  Natureza  Frequencia Absoluta Frequencia Relativa(%)\n",
       "0     LCSM                    0                    0.0\n",
       "1      LCD                   82                  44.57\n",
       "2    LCCAT                   99                   53.8\n",
       "3     LCCO                    3                   1.63"
      ]
     },
     "metadata": {},
     "output_type": "display_data"
    },
    {
     "name": "stdout",
     "output_type": "stream",
     "text": [
      "- 2019\n"
     ]
    },
    {
     "data": {
      "text/html": [
       "<div>\n",
       "<style scoped>\n",
       "    .dataframe tbody tr th:only-of-type {\n",
       "        vertical-align: middle;\n",
       "    }\n",
       "\n",
       "    .dataframe tbody tr th {\n",
       "        vertical-align: top;\n",
       "    }\n",
       "\n",
       "    .dataframe thead th {\n",
       "        text-align: right;\n",
       "    }\n",
       "</style>\n",
       "<table border=\"1\" class=\"dataframe\">\n",
       "  <thead>\n",
       "    <tr style=\"text-align: right;\">\n",
       "      <th></th>\n",
       "      <th>Natureza</th>\n",
       "      <th>Frequencia Absoluta</th>\n",
       "      <th>Frequencia Relativa(%)</th>\n",
       "    </tr>\n",
       "  </thead>\n",
       "  <tbody>\n",
       "    <tr>\n",
       "      <th>0</th>\n",
       "      <td>LCSM</td>\n",
       "      <td>0</td>\n",
       "      <td>0.0</td>\n",
       "    </tr>\n",
       "    <tr>\n",
       "      <th>1</th>\n",
       "      <td>LCD</td>\n",
       "      <td>82</td>\n",
       "      <td>44.57</td>\n",
       "    </tr>\n",
       "    <tr>\n",
       "      <th>2</th>\n",
       "      <td>LCCAT</td>\n",
       "      <td>99</td>\n",
       "      <td>53.8</td>\n",
       "    </tr>\n",
       "    <tr>\n",
       "      <th>3</th>\n",
       "      <td>LCCO</td>\n",
       "      <td>3</td>\n",
       "      <td>1.63</td>\n",
       "    </tr>\n",
       "  </tbody>\n",
       "</table>\n",
       "</div>"
      ],
      "text/plain": [
       "  Natureza  Frequencia Absoluta Frequencia Relativa(%)\n",
       "0     LCSM                    0                    0.0\n",
       "1      LCD                   82                  44.57\n",
       "2    LCCAT                   99                   53.8\n",
       "3     LCCO                    3                   1.63"
      ]
     },
     "metadata": {},
     "output_type": "display_data"
    },
    {
     "data": {
      "image/png": "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\n",
      "text/plain": [
       "<Figure size 432x288 with 1 Axes>"
      ]
     },
     "metadata": {
      "needs_background": "light"
     },
     "output_type": "display_data"
    }
   ],
   "source": [
    "Facade.lesoesDP(2)"
   ]
  },
  {
<<<<<<< HEAD
   "cell_type": "code",
   "execution_count": 1,
=======
   "cell_type": "markdown",
>>>>>>> 3128bc9bfcf9a73ad63409e1d2b9f5420995f50e
   "metadata": {},
   "source": [
<<<<<<< HEAD
    "import numpy as np\n",
    "import matplotlib.pyplot as plt\n",
    "import pandas as pd\n",
    "import csv\n",
    "\n",
    "%matplotlib inline\n",
    "\n",
    "###########################################################\n",
    "## Class Facade\n",
    "## This class process the datas and build the graphs and tables || its a middleware\n",
    "###########################################################\n",
    "class Facade:\n",
    "    \n",
    "\n",
    "    @staticmethod\n",
    "    def furtos():\n",
    "        #Table.showFurtosSigla()\n",
    "        a, a1 = Data.getFurtos('2017')\n",
    "        b, b1 = Data.getFurtos('2018')\n",
    "\n",
    "        \n",
    "        Facade.mensagem('Análise Geral de Furtos')\n",
    "        titulo = 'Análise de Furtos em 2017 e 2018'\n",
    "        columns = ['FO','FV']\n",
    "        index = ['2017','2018']\n",
    "        Facade.graficoGeral([a,b], titulo, columns, index)\n",
    "        Facade.estatistica(a, columns)\n",
    "        Facade.estatistica(b, columns)\n",
    "        Facade.graficoPorMes(a1, columns,['-b','-g'] ,'Furtos registrados em 2017','meses', 'quantidade')\n",
    "        Facade.graficoPorMes(b1, columns,['-b','-g'] ,'Furtos registrados em 2018','meses', 'quantidade')\n",
    "\n",
    "        \n",
    "    @staticmethod\n",
    "    def estupros():\n",
    "        Table.showEstuprosSigla()\n",
    "        \n",
    "        a, a1 = Data.getEstupros('2017')\n",
    "        b, b1 = Data.getEstupros('2018')\n",
    "        \n",
    "        columns = ['ES','ESV']\n",
    "        index = ['2017','2018']\n",
    "        titulo = 'Análise de Estupros em 2017 e 2018'\n",
    "        \n",
    "        Facade.mensagem('Análise Geral de Estupros') \n",
    "        Facade.graficoGeral([a,b], titulo, columns, index)\n",
    "        Facade.estatistica(a, columns)\n",
    "        Facade.estatistica(b, columns)\n",
    "        Facade.graficoPorMes(a1, ['Es','ESV'],['-b','-g'] ,'Estupros registrados em 2017','meses', 'quantidade')\n",
    "        Facade.graficoPorMes(b1, ['Es','ESV'],['-b','-g'] ,'Estupros registrados em 2018','meses', 'quantidade')\n",
    "\n",
    "    @staticmethod\n",
    "    def roubos():\n",
    "        Table.showRoubosSigla()\n",
    "        \n",
    "        a, a1 = Data.getRoubos('2017')\n",
    "        b, b1 = Data.getRoubos('2018')\n",
    "        columns = ['RO','RV','RB','RC']\n",
    "        index = ['2017','2018']\n",
    "        titulo = 'Análise de Roubos em 2017 e 2018'\n",
    "          \n",
    "        Facade.mensagem('Análise Geral de Roubos')\n",
    "        Facade.graficoGeral([a,b], titulo, columns, index)\n",
    "        Facade.estatistica(a, columns)\n",
    "        Facade.estatistica(b, columns)\n",
    "        Facade.graficoPorMes(a1, columns,['-b','-g','-y','-r'] ,'Roubos registrados em 2017','meses', 'quantidade')\n",
    "        Facade.graficoPorMes(b1, columns,['-b','-g','-y','-r'] ,'Roubos registrados em 2018','meses', 'quantidade')\n",
    "\n",
    "    @staticmethod \n",
    "    def lesoes():\n",
    "        Table.showLesoesSigla()\n",
    "        \n",
    "        a, a1 = Data.getLesoes('2017')\n",
    "        b, b1 = Data.getLesoes('2018')\n",
    "        c, c1 = Data.getLesoes('2019')\n",
    "        titulo= 'Análise de Lesões Corporais em 2017 e 2018'\n",
    "        columns = ['LCSM','LCD','LCCAT','LCCO']\n",
    "        index = ['2017','2018','2019']\n",
    "        \n",
    "        Facade.mensagem('Análise Geral de Lesões')\n",
    "        Facade.graficoGeral([a,b,c], titulo, columns, index)\n",
    "        Facade.estatistica(a, columns)\n",
    "        Facade.estatistica(b, columns)\n",
    "        Facade.graficoPorMes(a1, columns,['-b','-g','-y','-r'] ,'Lesoes registrados em 2017','meses', 'quantidade')\n",
    "        Facade.graficoPorMes(b1, columns,['-b','-g','-y','-r'] ,'Lesoes registrados em 2018','meses', 'quantidade')\n",
    " \n",
    "    @staticmethod\n",
    "    def homicidios():\n",
    "        Table.showHomicidiosSigla()\n",
    "\n",
    "        a,a1 = Data.getHomicidios('2017')\n",
    "        b,b1 = Data.getHomicidios('2018')\n",
    "        c,c1 = Data.getHomicidios('2019')\n",
    "        titulo = 'Análise de Homicidios em 2017 e 2018'\n",
    "        index = ['2017','2018','2019']\n",
    "        columns = ['HD','HDAT','HCAT','HCO','TH']\n",
    "        \n",
    "        Facade.mensagem('Análise Geral de Homicidios')\n",
    "        Facade.graficoGeral([a,b,c], titulo, columns, index)\n",
    "        Facade.estatistica(a, columns)\n",
    "        Facade.estatistica(b, columns)\n",
    "        Facade.graficoPorMes(a1, columns,['-b','-g','-y','-r','-o'] ,'Homicídios registrados em 2017','meses', 'quantidade')\n",
    "        Facade.graficoPorMes(b1, columns,['-b','-g','-y','-r','-o'] ,'Homicídios registrados em 2018','meses', 'quantidade')\n",
    "\n",
    "        \n",
    "    @staticmethod \n",
    "    def homicidiosDP(dp):\n",
    "        a = Data.getHomicidiosDP('2017', dp)\n",
    "        b = Data.getHomicidiosDP('2018', dp)\n",
    "        c = Data.getHomicidiosDP('2019', dp)\n",
    "        index = ['2017','2018', '2019']\n",
    "        titulo = 'DP0'+str(dp+1)+' - Análise de Homicidios em 2017,2018 e 2019'\n",
    "        columns = ['HD','HDAT','HCAT','HCO','TH']\n",
    "        Facade.mensagem('Departamento ' + str(dp+1))\n",
    "        Facade.graficoGeral([a,b,c], titulo, columns, index)\n",
    "        print('- 2017')\n",
    "        Facade.estatistica(a, columns)\n",
    "        print('- 2018')\n",
    "        Facade.estatistica(b, columns)\n",
    "        print('- 2019')\n",
    "        Facade.estatistica(b, columns)\n",
    "        \n",
    "    @staticmethod \n",
    "    def lesoesDP(dp):\n",
    "        \n",
    "        a = Data.getLesoesDP('2017',dp)\n",
    "        b = Data.getLesoesDP('2018', dp)\n",
    "        c = Data.getLesoesDP('2019',dp)\n",
    "        titulo= 'DP0'+str(dp+1)+' - Análise de Lesões Corporais em 2017,2018 e 2019'\n",
    "        columns = ['LCSM','LCD','LCCAT','LCCO']\n",
    "        index = ['2017','2018','2019']\n",
    "        \n",
    "        Facade.mensagem('Departamento '+ str(dp+1))\n",
    "        Facade.graficoGeral([a,b,c], titulo, columns, index)\n",
    "        print('- 2017')\n",
    "        Facade.estatistica(a, columns)\n",
    "        print('- 2018')\n",
    "        Facade.estatistica(b, columns)\n",
    "        print('- 2019')\n",
    "        Facade.estatistica(b, columns)\n",
    "    \n",
    "    ##################### UTILS\n",
    "\n",
    "    @staticmethod\n",
    "    def static(a):\n",
    "        sa = sum(a)\n",
    "        return [str(round(((a[x] * 100)/ sa), 2)) for x in range(len(a))]\n",
    "        \n",
    "\n",
    "    @staticmethod\n",
    "    def graficoGeral(data, titulo,columns, index):\n",
    "        fig, (ax) = plt.subplots(nrows = 1,ncols = 1)\n",
    "        ax.set_title(titulo)\n",
    "        df = pd.DataFrame(data, columns = columns, index = index)\n",
    "        df.plot.bar(ax = ax)\n",
    "        display(df)\n",
    "    \n",
    "    @staticmethod\n",
    "    def estatistica(data, columns):\n",
    "        ax = Facade.static(data)\n",
    "        columns =  columns\n",
    "        df = Table.create(['Natureza','Frequencia Absoluta','Frequencia Relativa(%)'],[columns, data, ax])\n",
    "        display(df)\n",
    "\n",
    "        \n",
    "    @staticmethod\n",
    "    def graficoPorMes(data, label, color,title, ylabel = None, xlabel = None):\n",
    "        fig, (ax) = plt.subplots(nrows = 1,ncols = 1)\n",
    "        meses = ['Jan','Fev','Mar','Abr','Maio','Jun','Jul','Ago','Set','Out','Nov','Dez']\n",
    "        for i in range(len(data)):\n",
    "            plt.plot(meses, data[i], color[i], label= label[i])\n",
    "        plt.legend(loc = 'upper right')\n",
    "        plt.xlabel(ylabel)\n",
    "        plt.ylabel(xlabel)\n",
    "        plt.title(title)\n",
    "    \n",
    "    @staticmethod\n",
    "    def mensagem(mensagem):\n",
    "        print(' ---------------------------------------------------------------')\n",
    "        print(' {0} '. format(mensagem))\n",
    "        print(' ---------------------------------------------------------------')\n",
    "    \n",
    "    \n",
    "###########################################################\n",
    "## This class call the CSV Files and convert to a matrix\n",
    "###########################################################\n",
    "class CsvI:\n",
    "    \n",
    "    @staticmethod\n",
    "    def read(file):\n",
    "        matrix = []\n",
    "        \n",
    "        with open(file, encoding=\"utf8\") as csvFile:\n",
    "            reader = csv.reader(csvFile)\n",
    "            for row in reader:\n",
    "                matrix.append(row)\n",
    "            csvFile.close()\n",
    "        \n",
    "        return matrix\n",
    "###########################################################\n",
    "## This class build tables\n",
    "###########################################################\n",
    "class Table:\n",
=======
    "__Conclusões__\n",
>>>>>>> 3128bc9bfcf9a73ad63409e1d2b9f5420995f50e
    "\n",
    "- Departamento 3 - Entre o ano de 2017 e 2018 houve uma diminuição de aproximadamente 2,5 % no crime de lesão corporal dolosa e um aumento de 2,2% no crime de Lesão corporal culposa por acidente. \n",
    "---\n",
    "- Departamento 2 - Entre o ano de 2017 e 2018 houve um aumento em crimes de lesão corporal dolosa e uma diminuição de aproximadamente de 4,5% no crime de Lesão corporal culposa por acidente.\n",
    "--- "
   ]
  },
  {
   "cell_type": "markdown",
   "metadata": {},
   "source": [
    "### Análise de Estupros\n",
    "---\n",
    "- Análise Geral de Estupros"
   ]
  },
  {
   "cell_type": "code",
   "execution_count": 3,
   "metadata": {},
   "outputs": [
    {
     "name": "stdout",
     "output_type": "stream",
     "text": [
      " ---------------------------------------------------------------\n",
      " Departamento 1 \n",
      " ---------------------------------------------------------------\n"
     ]
    },
    {
     "data": {
      "text/html": [
       "<div>\n",
       "<style scoped>\n",
       "    .dataframe tbody tr th:only-of-type {\n",
       "        vertical-align: middle;\n",
       "    }\n",
       "\n",
       "    .dataframe tbody tr th {\n",
       "        vertical-align: top;\n",
       "    }\n",
       "\n",
       "    .dataframe thead th {\n",
       "        text-align: right;\n",
       "    }\n",
       "</style>\n",
       "<table border=\"1\" class=\"dataframe\">\n",
       "  <thead>\n",
       "    <tr style=\"text-align: right;\">\n",
       "      <th></th>\n",
       "      <th>ES</th>\n",
       "      <th>ESV</th>\n",
       "    </tr>\n",
       "  </thead>\n",
       "  <tbody>\n",
       "    <tr>\n",
       "      <th>2017</th>\n",
       "      <td>10</td>\n",
       "      <td>5</td>\n",
       "    </tr>\n",
       "    <tr>\n",
       "      <th>2018</th>\n",
       "      <td>2</td>\n",
       "      <td>3</td>\n",
       "    </tr>\n",
       "  </tbody>\n",
       "</table>\n",
       "</div>"
      ],
      "text/plain": [
       "      ES  ESV\n",
       "2017  10    5\n",
       "2018   2    3"
      ]
     },
     "metadata": {},
     "output_type": "display_data"
    },
    {
     "name": "stdout",
     "output_type": "stream",
     "text": [
      "- 2017\n"
     ]
    },
    {
     "data": {
      "text/html": [
       "<div>\n",
       "<style scoped>\n",
       "    .dataframe tbody tr th:only-of-type {\n",
       "        vertical-align: middle;\n",
       "    }\n",
       "\n",
       "    .dataframe tbody tr th {\n",
       "        vertical-align: top;\n",
       "    }\n",
       "\n",
       "    .dataframe thead th {\n",
       "        text-align: right;\n",
       "    }\n",
       "</style>\n",
       "<table border=\"1\" class=\"dataframe\">\n",
       "  <thead>\n",
       "    <tr style=\"text-align: right;\">\n",
       "      <th></th>\n",
       "      <th>Natureza</th>\n",
       "      <th>Frequencia Absoluta</th>\n",
       "      <th>Frequencia Relativa(%)</th>\n",
       "    </tr>\n",
       "  </thead>\n",
       "  <tbody>\n",
       "    <tr>\n",
       "      <th>0</th>\n",
       "      <td>ES</td>\n",
       "      <td>10</td>\n",
       "      <td>66.67</td>\n",
       "    </tr>\n",
       "    <tr>\n",
       "      <th>1</th>\n",
       "      <td>ESV</td>\n",
       "      <td>5</td>\n",
       "      <td>33.33</td>\n",
       "    </tr>\n",
       "  </tbody>\n",
       "</table>\n",
       "</div>"
      ],
      "text/plain": [
       "  Natureza  Frequencia Absoluta Frequencia Relativa(%)\n",
       "0       ES                   10                  66.67\n",
       "1      ESV                    5                  33.33"
      ]
     },
     "metadata": {},
     "output_type": "display_data"
    },
    {
     "name": "stdout",
     "output_type": "stream",
     "text": [
      "- 2018\n"
     ]
    },
    {
     "data": {
      "text/html": [
       "<div>\n",
       "<style scoped>\n",
       "    .dataframe tbody tr th:only-of-type {\n",
       "        vertical-align: middle;\n",
       "    }\n",
       "\n",
       "    .dataframe tbody tr th {\n",
       "        vertical-align: top;\n",
       "    }\n",
       "\n",
       "    .dataframe thead th {\n",
       "        text-align: right;\n",
       "    }\n",
       "</style>\n",
       "<table border=\"1\" class=\"dataframe\">\n",
       "  <thead>\n",
       "    <tr style=\"text-align: right;\">\n",
       "      <th></th>\n",
       "      <th>Natureza</th>\n",
       "      <th>Frequencia Absoluta</th>\n",
       "      <th>Frequencia Relativa(%)</th>\n",
       "    </tr>\n",
       "  </thead>\n",
       "  <tbody>\n",
       "    <tr>\n",
       "      <th>0</th>\n",
       "      <td>ES</td>\n",
       "      <td>2</td>\n",
       "      <td>40.0</td>\n",
       "    </tr>\n",
       "    <tr>\n",
       "      <th>1</th>\n",
       "      <td>ESV</td>\n",
       "      <td>3</td>\n",
       "      <td>60.0</td>\n",
       "    </tr>\n",
       "  </tbody>\n",
       "</table>\n",
       "</div>"
      ],
      "text/plain": [
       "  Natureza  Frequencia Absoluta Frequencia Relativa(%)\n",
       "0       ES                    2                   40.0\n",
       "1      ESV                    3                   60.0"
      ]
     },
     "metadata": {},
     "output_type": "display_data"
    },
    {
     "data": {
      "image/png": "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\n",
      "text/plain": [
       "<Figure size 432x288 with 1 Axes>"
      ]
     },
     "metadata": {
      "needs_background": "light"
     },
     "output_type": "display_data"
    },
    {
     "data": {
      "image/png": "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\n",
      "text/plain": [
       "<Figure size 432x288 with 1 Axes>"
      ]
     },
     "metadata": {
      "needs_background": "light"
     },
     "output_type": "display_data"
    },
    {
     "data": {
      "image/png": "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\n",
      "text/plain": [
       "<Figure size 432x288 with 1 Axes>"
      ]
     },
     "metadata": {
      "needs_background": "light"
     },
     "output_type": "display_data"
    }
   ],
   "source": [
    "Facade.estuprosDP(0)"
   ]
  },
  {
   "cell_type": "code",
   "execution_count": 4,
   "metadata": {},
   "outputs": [
    {
     "name": "stdout",
     "output_type": "stream",
     "text": [
      " ---------------------------------------------------------------\n",
      " Departamento 2 \n",
      " ---------------------------------------------------------------\n"
     ]
    },
    {
     "data": {
      "text/html": [
       "<div>\n",
       "<style scoped>\n",
       "    .dataframe tbody tr th:only-of-type {\n",
       "        vertical-align: middle;\n",
       "    }\n",
       "\n",
       "    .dataframe tbody tr th {\n",
       "        vertical-align: top;\n",
       "    }\n",
       "\n",
       "    .dataframe thead th {\n",
       "        text-align: right;\n",
       "    }\n",
       "</style>\n",
       "<table border=\"1\" class=\"dataframe\">\n",
       "  <thead>\n",
       "    <tr style=\"text-align: right;\">\n",
       "      <th></th>\n",
       "      <th>ES</th>\n",
       "      <th>ESV</th>\n",
       "    </tr>\n",
       "  </thead>\n",
       "  <tbody>\n",
       "    <tr>\n",
       "      <th>2017</th>\n",
       "      <td>5</td>\n",
       "      <td>9</td>\n",
       "    </tr>\n",
       "    <tr>\n",
       "      <th>2018</th>\n",
       "      <td>2</td>\n",
       "      <td>3</td>\n",
       "    </tr>\n",
       "  </tbody>\n",
       "</table>\n",
       "</div>"
      ],
      "text/plain": [
       "      ES  ESV\n",
       "2017   5    9\n",
       "2018   2    3"
      ]
     },
     "metadata": {},
     "output_type": "display_data"
    },
    {
     "name": "stdout",
     "output_type": "stream",
     "text": [
      "- 2017\n"
     ]
    },
    {
     "data": {
      "text/html": [
       "<div>\n",
       "<style scoped>\n",
       "    .dataframe tbody tr th:only-of-type {\n",
       "        vertical-align: middle;\n",
       "    }\n",
       "\n",
       "    .dataframe tbody tr th {\n",
       "        vertical-align: top;\n",
       "    }\n",
       "\n",
       "    .dataframe thead th {\n",
       "        text-align: right;\n",
       "    }\n",
       "</style>\n",
       "<table border=\"1\" class=\"dataframe\">\n",
       "  <thead>\n",
       "    <tr style=\"text-align: right;\">\n",
       "      <th></th>\n",
       "      <th>Natureza</th>\n",
       "      <th>Frequencia Absoluta</th>\n",
       "      <th>Frequencia Relativa(%)</th>\n",
       "    </tr>\n",
       "  </thead>\n",
       "  <tbody>\n",
       "    <tr>\n",
       "      <th>0</th>\n",
       "      <td>ES</td>\n",
       "      <td>5</td>\n",
       "      <td>35.71</td>\n",
       "    </tr>\n",
       "    <tr>\n",
       "      <th>1</th>\n",
       "      <td>ESV</td>\n",
       "      <td>9</td>\n",
       "      <td>64.29</td>\n",
       "    </tr>\n",
       "  </tbody>\n",
       "</table>\n",
       "</div>"
      ],
      "text/plain": [
       "  Natureza  Frequencia Absoluta Frequencia Relativa(%)\n",
       "0       ES                    5                  35.71\n",
       "1      ESV                    9                  64.29"
      ]
     },
     "metadata": {},
     "output_type": "display_data"
    },
    {
     "name": "stdout",
     "output_type": "stream",
     "text": [
      "- 2018\n"
     ]
    },
    {
     "data": {
      "text/html": [
       "<div>\n",
       "<style scoped>\n",
       "    .dataframe tbody tr th:only-of-type {\n",
       "        vertical-align: middle;\n",
       "    }\n",
       "\n",
       "    .dataframe tbody tr th {\n",
       "        vertical-align: top;\n",
       "    }\n",
       "\n",
       "    .dataframe thead th {\n",
       "        text-align: right;\n",
       "    }\n",
       "</style>\n",
       "<table border=\"1\" class=\"dataframe\">\n",
       "  <thead>\n",
       "    <tr style=\"text-align: right;\">\n",
       "      <th></th>\n",
       "      <th>Natureza</th>\n",
       "      <th>Frequencia Absoluta</th>\n",
       "      <th>Frequencia Relativa(%)</th>\n",
       "    </tr>\n",
       "  </thead>\n",
       "  <tbody>\n",
       "    <tr>\n",
       "      <th>0</th>\n",
       "      <td>ES</td>\n",
       "      <td>2</td>\n",
       "      <td>40.0</td>\n",
       "    </tr>\n",
       "    <tr>\n",
       "      <th>1</th>\n",
       "      <td>ESV</td>\n",
       "      <td>3</td>\n",
       "      <td>60.0</td>\n",
       "    </tr>\n",
       "  </tbody>\n",
       "</table>\n",
       "</div>"
      ],
      "text/plain": [
       "  Natureza  Frequencia Absoluta Frequencia Relativa(%)\n",
       "0       ES                    2                   40.0\n",
       "1      ESV                    3                   60.0"
      ]
     },
     "metadata": {},
     "output_type": "display_data"
    },
    {
     "data": {
      "image/png": "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\n",
      "text/plain": [
       "<Figure size 432x288 with 1 Axes>"
      ]
     },
     "metadata": {
      "needs_background": "light"
     },
     "output_type": "display_data"
    },
    {
     "data": {
      "image/png": "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\n",
      "text/plain": [
       "<Figure size 432x288 with 1 Axes>"
      ]
     },
     "metadata": {
      "needs_background": "light"
     },
     "output_type": "display_data"
    },
    {
     "data": {
      "image/png": "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\n",
      "text/plain": [
       "<Figure size 432x288 with 1 Axes>"
      ]
     },
     "metadata": {
      "needs_background": "light"
     },
     "output_type": "display_data"
    }
   ],
   "source": [
    "Facade.estuprosDP(1)"
   ]
  },
  {
   "cell_type": "code",
   "execution_count": 5,
   "metadata": {},
   "outputs": [
    {
     "name": "stdout",
     "output_type": "stream",
     "text": [
      " ---------------------------------------------------------------\n",
      " Departamento 3 \n",
      " ---------------------------------------------------------------\n"
     ]
    },
    {
     "data": {
      "text/html": [
       "<div>\n",
       "<style scoped>\n",
       "    .dataframe tbody tr th:only-of-type {\n",
       "        vertical-align: middle;\n",
       "    }\n",
       "\n",
       "    .dataframe tbody tr th {\n",
       "        vertical-align: top;\n",
       "    }\n",
       "\n",
       "    .dataframe thead th {\n",
       "        text-align: right;\n",
       "    }\n",
       "</style>\n",
       "<table border=\"1\" class=\"dataframe\">\n",
       "  <thead>\n",
       "    <tr style=\"text-align: right;\">\n",
       "      <th></th>\n",
       "      <th>ES</th>\n",
       "      <th>ESV</th>\n",
       "    </tr>\n",
       "  </thead>\n",
       "  <tbody>\n",
       "    <tr>\n",
       "      <th>2017</th>\n",
       "      <td>1</td>\n",
       "      <td>8</td>\n",
       "    </tr>\n",
       "    <tr>\n",
       "      <th>2018</th>\n",
       "      <td>2</td>\n",
       "      <td>7</td>\n",
       "    </tr>\n",
       "  </tbody>\n",
       "</table>\n",
       "</div>"
      ],
      "text/plain": [
       "      ES  ESV\n",
       "2017   1    8\n",
       "2018   2    7"
      ]
     },
     "metadata": {},
     "output_type": "display_data"
    },
    {
     "name": "stdout",
     "output_type": "stream",
     "text": [
      "- 2017\n"
     ]
    },
    {
     "data": {
      "text/html": [
       "<div>\n",
       "<style scoped>\n",
       "    .dataframe tbody tr th:only-of-type {\n",
       "        vertical-align: middle;\n",
       "    }\n",
       "\n",
       "    .dataframe tbody tr th {\n",
       "        vertical-align: top;\n",
       "    }\n",
       "\n",
       "    .dataframe thead th {\n",
       "        text-align: right;\n",
       "    }\n",
       "</style>\n",
       "<table border=\"1\" class=\"dataframe\">\n",
       "  <thead>\n",
       "    <tr style=\"text-align: right;\">\n",
       "      <th></th>\n",
       "      <th>Natureza</th>\n",
       "      <th>Frequencia Absoluta</th>\n",
       "      <th>Frequencia Relativa(%)</th>\n",
       "    </tr>\n",
       "  </thead>\n",
       "  <tbody>\n",
       "    <tr>\n",
       "      <th>0</th>\n",
       "      <td>ES</td>\n",
       "      <td>1</td>\n",
       "      <td>11.11</td>\n",
       "    </tr>\n",
       "    <tr>\n",
       "      <th>1</th>\n",
       "      <td>ESV</td>\n",
       "      <td>8</td>\n",
       "      <td>88.89</td>\n",
       "    </tr>\n",
       "  </tbody>\n",
       "</table>\n",
       "</div>"
      ],
      "text/plain": [
       "  Natureza  Frequencia Absoluta Frequencia Relativa(%)\n",
       "0       ES                    1                  11.11\n",
       "1      ESV                    8                  88.89"
      ]
     },
     "metadata": {},
     "output_type": "display_data"
    },
    {
     "name": "stdout",
     "output_type": "stream",
     "text": [
      "- 2018\n"
     ]
    },
    {
     "data": {
      "text/html": [
       "<div>\n",
       "<style scoped>\n",
       "    .dataframe tbody tr th:only-of-type {\n",
       "        vertical-align: middle;\n",
       "    }\n",
       "\n",
       "    .dataframe tbody tr th {\n",
       "        vertical-align: top;\n",
       "    }\n",
       "\n",
       "    .dataframe thead th {\n",
       "        text-align: right;\n",
       "    }\n",
       "</style>\n",
       "<table border=\"1\" class=\"dataframe\">\n",
       "  <thead>\n",
       "    <tr style=\"text-align: right;\">\n",
       "      <th></th>\n",
       "      <th>Natureza</th>\n",
       "      <th>Frequencia Absoluta</th>\n",
       "      <th>Frequencia Relativa(%)</th>\n",
       "    </tr>\n",
       "  </thead>\n",
       "  <tbody>\n",
       "    <tr>\n",
       "      <th>0</th>\n",
       "      <td>ES</td>\n",
       "      <td>2</td>\n",
       "      <td>22.22</td>\n",
       "    </tr>\n",
       "    <tr>\n",
       "      <th>1</th>\n",
       "      <td>ESV</td>\n",
       "      <td>7</td>\n",
       "      <td>77.78</td>\n",
       "    </tr>\n",
       "  </tbody>\n",
       "</table>\n",
       "</div>"
      ],
      "text/plain": [
       "  Natureza  Frequencia Absoluta Frequencia Relativa(%)\n",
       "0       ES                    2                  22.22\n",
       "1      ESV                    7                  77.78"
      ]
     },
     "metadata": {},
     "output_type": "display_data"
    },
    {
     "data": {
      "image/png": "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\n",
      "text/plain": [
       "<Figure size 432x288 with 1 Axes>"
      ]
     },
     "metadata": {
      "needs_background": "light"
     },
     "output_type": "display_data"
    },
    {
     "data": {
      "image/png": "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\n",
      "text/plain": [
       "<Figure size 432x288 with 1 Axes>"
      ]
     },
     "metadata": {
      "needs_background": "light"
     },
     "output_type": "display_data"
    },
    {
     "data": {
      "image/png": "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\n",
      "text/plain": [
       "<Figure size 432x288 with 1 Axes>"
      ]
     },
     "metadata": {
      "needs_background": "light"
     },
     "output_type": "display_data"
    }
   ],
   "source": [
    "Facade.estuprosDP(2)"
   ]
  },
  {
   "cell_type": "markdown",
   "metadata": {},
   "source": [
    "### Análise de Roubos\n",
    "---\n",
    "- Análise Geral de Roubos"
   ]
  },
  {
   "cell_type": "code",
   "execution_count": 6,
   "metadata": {},
   "outputs": [
    {
     "name": "stdout",
     "output_type": "stream",
     "text": [
      " ---------------------------------------------------------------\n",
      " Departamento 1 \n",
      " ---------------------------------------------------------------\n"
     ]
    },
    {
     "data": {
      "text/html": [
       "<div>\n",
       "<style scoped>\n",
       "    .dataframe tbody tr th:only-of-type {\n",
       "        vertical-align: middle;\n",
       "    }\n",
       "\n",
       "    .dataframe tbody tr th {\n",
       "        vertical-align: top;\n",
       "    }\n",
       "\n",
       "    .dataframe thead th {\n",
       "        text-align: right;\n",
       "    }\n",
       "</style>\n",
       "<table border=\"1\" class=\"dataframe\">\n",
       "  <thead>\n",
       "    <tr style=\"text-align: right;\">\n",
       "      <th></th>\n",
       "      <th>RO</th>\n",
       "      <th>RV</th>\n",
       "      <th>RB</th>\n",
       "      <th>RC</th>\n",
       "    </tr>\n",
       "  </thead>\n",
       "  <tbody>\n",
       "    <tr>\n",
       "      <th>2017</th>\n",
       "      <td>182</td>\n",
       "      <td>7</td>\n",
       "      <td>0</td>\n",
       "      <td>2</td>\n",
       "    </tr>\n",
       "    <tr>\n",
       "      <th>2018</th>\n",
       "      <td>148</td>\n",
       "      <td>14</td>\n",
       "      <td>0</td>\n",
       "      <td>0</td>\n",
       "    </tr>\n",
       "  </tbody>\n",
       "</table>\n",
       "</div>"
      ],
      "text/plain": [
       "       RO  RV  RB  RC\n",
       "2017  182   7   0   2\n",
       "2018  148  14   0   0"
      ]
     },
     "metadata": {},
     "output_type": "display_data"
    },
    {
     "name": "stdout",
     "output_type": "stream",
     "text": [
      "- 2017\n"
     ]
    },
    {
     "data": {
      "text/html": [
       "<div>\n",
       "<style scoped>\n",
       "    .dataframe tbody tr th:only-of-type {\n",
       "        vertical-align: middle;\n",
       "    }\n",
       "\n",
       "    .dataframe tbody tr th {\n",
       "        vertical-align: top;\n",
       "    }\n",
       "\n",
       "    .dataframe thead th {\n",
       "        text-align: right;\n",
       "    }\n",
       "</style>\n",
       "<table border=\"1\" class=\"dataframe\">\n",
       "  <thead>\n",
       "    <tr style=\"text-align: right;\">\n",
       "      <th></th>\n",
       "      <th>Natureza</th>\n",
       "      <th>Frequencia Absoluta</th>\n",
       "      <th>Frequencia Relativa(%)</th>\n",
       "    </tr>\n",
       "  </thead>\n",
       "  <tbody>\n",
       "    <tr>\n",
       "      <th>0</th>\n",
       "      <td>RO</td>\n",
       "      <td>182</td>\n",
       "      <td>95.29</td>\n",
       "    </tr>\n",
       "    <tr>\n",
       "      <th>1</th>\n",
       "      <td>RV</td>\n",
       "      <td>7</td>\n",
       "      <td>3.66</td>\n",
       "    </tr>\n",
       "    <tr>\n",
       "      <th>2</th>\n",
       "      <td>RB</td>\n",
       "      <td>0</td>\n",
       "      <td>0.0</td>\n",
       "    </tr>\n",
       "    <tr>\n",
       "      <th>3</th>\n",
       "      <td>RC</td>\n",
       "      <td>2</td>\n",
       "      <td>1.05</td>\n",
       "    </tr>\n",
       "  </tbody>\n",
       "</table>\n",
       "</div>"
      ],
      "text/plain": [
       "  Natureza  Frequencia Absoluta Frequencia Relativa(%)\n",
       "0       RO                  182                  95.29\n",
       "1       RV                    7                   3.66\n",
       "2       RB                    0                    0.0\n",
       "3       RC                    2                   1.05"
      ]
     },
     "metadata": {},
     "output_type": "display_data"
    },
    {
     "name": "stdout",
     "output_type": "stream",
     "text": [
      "- 2018\n"
     ]
    },
    {
     "data": {
      "text/html": [
       "<div>\n",
       "<style scoped>\n",
       "    .dataframe tbody tr th:only-of-type {\n",
       "        vertical-align: middle;\n",
       "    }\n",
       "\n",
       "    .dataframe tbody tr th {\n",
       "        vertical-align: top;\n",
       "    }\n",
       "\n",
       "    .dataframe thead th {\n",
       "        text-align: right;\n",
       "    }\n",
       "</style>\n",
       "<table border=\"1\" class=\"dataframe\">\n",
       "  <thead>\n",
       "    <tr style=\"text-align: right;\">\n",
       "      <th></th>\n",
       "      <th>Natureza</th>\n",
       "      <th>Frequencia Absoluta</th>\n",
       "      <th>Frequencia Relativa(%)</th>\n",
       "    </tr>\n",
       "  </thead>\n",
       "  <tbody>\n",
       "    <tr>\n",
       "      <th>0</th>\n",
       "      <td>RO</td>\n",
       "      <td>148</td>\n",
       "      <td>91.36</td>\n",
       "    </tr>\n",
       "    <tr>\n",
       "      <th>1</th>\n",
       "      <td>RV</td>\n",
       "      <td>14</td>\n",
       "      <td>8.64</td>\n",
       "    </tr>\n",
       "    <tr>\n",
       "      <th>2</th>\n",
       "      <td>RB</td>\n",
       "      <td>0</td>\n",
       "      <td>0.0</td>\n",
       "    </tr>\n",
       "    <tr>\n",
       "      <th>3</th>\n",
       "      <td>RC</td>\n",
       "      <td>0</td>\n",
       "      <td>0.0</td>\n",
       "    </tr>\n",
       "  </tbody>\n",
       "</table>\n",
       "</div>"
      ],
      "text/plain": [
       "  Natureza  Frequencia Absoluta Frequencia Relativa(%)\n",
       "0       RO                  148                  91.36\n",
       "1       RV                   14                   8.64\n",
       "2       RB                    0                    0.0\n",
       "3       RC                    0                    0.0"
      ]
     },
     "metadata": {},
     "output_type": "display_data"
    },
    {
     "data": {
      "image/png": "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\n",
      "text/plain": [
       "<Figure size 432x288 with 1 Axes>"
      ]
     },
     "metadata": {
      "needs_background": "light"
     },
     "output_type": "display_data"
    },
    {
     "data": {
      "image/png": "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\n",
      "text/plain": [
       "<Figure size 432x288 with 1 Axes>"
      ]
     },
     "metadata": {
      "needs_background": "light"
     },
     "output_type": "display_data"
    },
    {
     "data": {
      "image/png": "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\n",
      "text/plain": [
       "<Figure size 432x288 with 1 Axes>"
      ]
     },
     "metadata": {
      "needs_background": "light"
     },
     "output_type": "display_data"
    }
   ],
   "source": [
    "Facade.roubosDP(0)"
   ]
  },
  {
   "cell_type": "code",
   "execution_count": 7,
   "metadata": {},
   "outputs": [
    {
     "name": "stdout",
     "output_type": "stream",
     "text": [
      " ---------------------------------------------------------------\n",
      " Departamento 2 \n",
      " ---------------------------------------------------------------\n"
     ]
    },
    {
     "data": {
      "text/html": [
       "<div>\n",
       "<style scoped>\n",
       "    .dataframe tbody tr th:only-of-type {\n",
       "        vertical-align: middle;\n",
       "    }\n",
       "\n",
       "    .dataframe tbody tr th {\n",
       "        vertical-align: top;\n",
       "    }\n",
       "\n",
       "    .dataframe thead th {\n",
       "        text-align: right;\n",
       "    }\n",
       "</style>\n",
       "<table border=\"1\" class=\"dataframe\">\n",
       "  <thead>\n",
       "    <tr style=\"text-align: right;\">\n",
       "      <th></th>\n",
       "      <th>RO</th>\n",
       "      <th>RV</th>\n",
       "      <th>RB</th>\n",
       "      <th>RC</th>\n",
       "    </tr>\n",
       "  </thead>\n",
       "  <tbody>\n",
       "    <tr>\n",
       "      <th>2017</th>\n",
       "      <td>179</td>\n",
       "      <td>18</td>\n",
       "      <td>0</td>\n",
       "      <td>0</td>\n",
       "    </tr>\n",
       "    <tr>\n",
       "      <th>2018</th>\n",
       "      <td>101</td>\n",
       "      <td>24</td>\n",
       "      <td>0</td>\n",
       "      <td>0</td>\n",
       "    </tr>\n",
       "  </tbody>\n",
       "</table>\n",
       "</div>"
      ],
      "text/plain": [
       "       RO  RV  RB  RC\n",
       "2017  179  18   0   0\n",
       "2018  101  24   0   0"
      ]
     },
     "metadata": {},
     "output_type": "display_data"
    },
    {
     "name": "stdout",
     "output_type": "stream",
     "text": [
      "- 2017\n"
     ]
    },
    {
     "data": {
      "text/html": [
       "<div>\n",
       "<style scoped>\n",
       "    .dataframe tbody tr th:only-of-type {\n",
       "        vertical-align: middle;\n",
       "    }\n",
       "\n",
       "    .dataframe tbody tr th {\n",
       "        vertical-align: top;\n",
       "    }\n",
       "\n",
       "    .dataframe thead th {\n",
       "        text-align: right;\n",
       "    }\n",
       "</style>\n",
       "<table border=\"1\" class=\"dataframe\">\n",
       "  <thead>\n",
       "    <tr style=\"text-align: right;\">\n",
       "      <th></th>\n",
       "      <th>Natureza</th>\n",
       "      <th>Frequencia Absoluta</th>\n",
       "      <th>Frequencia Relativa(%)</th>\n",
       "    </tr>\n",
       "  </thead>\n",
       "  <tbody>\n",
       "    <tr>\n",
       "      <th>0</th>\n",
       "      <td>RO</td>\n",
       "      <td>179</td>\n",
       "      <td>90.86</td>\n",
       "    </tr>\n",
       "    <tr>\n",
       "      <th>1</th>\n",
       "      <td>RV</td>\n",
       "      <td>18</td>\n",
       "      <td>9.14</td>\n",
       "    </tr>\n",
       "    <tr>\n",
       "      <th>2</th>\n",
       "      <td>RB</td>\n",
       "      <td>0</td>\n",
       "      <td>0.0</td>\n",
       "    </tr>\n",
       "    <tr>\n",
       "      <th>3</th>\n",
       "      <td>RC</td>\n",
       "      <td>0</td>\n",
       "      <td>0.0</td>\n",
       "    </tr>\n",
       "  </tbody>\n",
       "</table>\n",
       "</div>"
      ],
      "text/plain": [
       "  Natureza  Frequencia Absoluta Frequencia Relativa(%)\n",
       "0       RO                  179                  90.86\n",
       "1       RV                   18                   9.14\n",
       "2       RB                    0                    0.0\n",
       "3       RC                    0                    0.0"
      ]
     },
     "metadata": {},
     "output_type": "display_data"
    },
    {
     "name": "stdout",
     "output_type": "stream",
     "text": [
      "- 2018\n"
     ]
    },
    {
     "data": {
      "text/html": [
       "<div>\n",
       "<style scoped>\n",
       "    .dataframe tbody tr th:only-of-type {\n",
       "        vertical-align: middle;\n",
       "    }\n",
       "\n",
       "    .dataframe tbody tr th {\n",
       "        vertical-align: top;\n",
       "    }\n",
       "\n",
       "    .dataframe thead th {\n",
       "        text-align: right;\n",
       "    }\n",
       "</style>\n",
       "<table border=\"1\" class=\"dataframe\">\n",
       "  <thead>\n",
       "    <tr style=\"text-align: right;\">\n",
       "      <th></th>\n",
       "      <th>Natureza</th>\n",
       "      <th>Frequencia Absoluta</th>\n",
       "      <th>Frequencia Relativa(%)</th>\n",
       "    </tr>\n",
       "  </thead>\n",
       "  <tbody>\n",
       "    <tr>\n",
       "      <th>0</th>\n",
       "      <td>RO</td>\n",
       "      <td>101</td>\n",
       "      <td>80.8</td>\n",
       "    </tr>\n",
       "    <tr>\n",
       "      <th>1</th>\n",
       "      <td>RV</td>\n",
       "      <td>24</td>\n",
       "      <td>19.2</td>\n",
       "    </tr>\n",
       "    <tr>\n",
       "      <th>2</th>\n",
       "      <td>RB</td>\n",
       "      <td>0</td>\n",
       "      <td>0.0</td>\n",
       "    </tr>\n",
       "    <tr>\n",
       "      <th>3</th>\n",
       "      <td>RC</td>\n",
       "      <td>0</td>\n",
       "      <td>0.0</td>\n",
       "    </tr>\n",
       "  </tbody>\n",
       "</table>\n",
       "</div>"
      ],
      "text/plain": [
       "  Natureza  Frequencia Absoluta Frequencia Relativa(%)\n",
       "0       RO                  101                   80.8\n",
       "1       RV                   24                   19.2\n",
       "2       RB                    0                    0.0\n",
       "3       RC                    0                    0.0"
      ]
     },
     "metadata": {},
     "output_type": "display_data"
    },
    {
     "data": {
      "image/png": "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\n",
      "text/plain": [
       "<Figure size 432x288 with 1 Axes>"
      ]
     },
     "metadata": {
      "needs_background": "light"
     },
     "output_type": "display_data"
    },
    {
     "data": {
      "image/png": "iVBORw0KGgoAAAANSUhEUgAAAX4AAAEWCAYAAABhffzLAAAABHNCSVQICAgIfAhkiAAAAAlwSFlzAAALEgAACxIB0t1+/AAAADh0RVh0U29mdHdhcmUAbWF0cGxvdGxpYiB2ZXJzaW9uMy4xLjAsIGh0dHA6Ly9tYXRwbG90bGliLm9yZy+17YcXAAAgAElEQVR4nOydd3hU1daH30UIEHpHQQSkSxdEUTABpEhAsCIXFcECCteu1+tVv2CXIqCigooFRFBUQHoQARUVAyJIL6KASO8SSFnfH/sMjiFlkszMmZns93nOMzOn7PU7Z2bW2WftvdcWVcVisVgsBYdCbguwWCwWS3Cxjt9isVgKGNbxWywWSwHDOn6LxWIpYFjHb7FYLAUM6/gtFoulgGEdvyXfiMhiEbnDbR25QUTeFJEnXbJ9m4h844ZtiwWs4y8wiMh2ETkpIsdF5E8ReU9ESrqtyy1UdZCqPpPTfs51uzIYmkIVEeknIitE5KiI7BSRYSJS2Gt7eRH5XEROiMhvIvIvr23nishMEflDRFREamYoe63zm/QsqSLyRfDOrmBiHX/BooeqlgSaAy2A/7qsJ8+ISJTbGgC8HWAEUxy4H6gIXAJ0BB722j4WOA1UAfoCb4hII2dbOjAPuC6zglW1kaqWdH6XpYDfgU8CcRKWv7GOvwCiqn8C8zE3AABEpIyIfCAi+5xa2xMiUsjZliAik7z2renU3rydXm0RWS4iR0RkhoiU99r/aqdmd9gJCzX02vYfEdklIsdEZKOIdMxMs/OE8oaIzBGRE0B7ESkqIiNE5HcR2eOEb2K8jnlURHY7tc07HM11vMp71nlfUURmOfoOisjXIlJIRCYC5wNfOLXRR73O/XYR+R1Y5JTxifMkdURElno5PkSkglPrPSoiy4HaGc7tMhH50Tn2RxG5zGvbbSKyzbk+v4pI3yyuTyEReUxEtorIARH52PMdeGnuLyI7ROSQiAwSkYtFZLVz3q9lVi6Aqr6hql+r6mlV3QV8CFzulF0C49SfVNXjqvoNMBO4xTl2j6q+DvyYVfleXAFUBj71YV9LPrCOvwAiIucBVwFbvFa/CpQBLgBigVuB/rko9lZgAFAVSAVecWzVAz7C1BgrAXMwjrSIiNQHhgAXq2opoAuwPRsb/wKew9QMvwFeAuphbmB1gGrAU47drsCDwJXOtthsyn0I2OnoqwI8Dqiq3oKpgfZwaqXDvI6JBRo6mgHmAnUxjmslxjl6GAskA+c612iAZ4PjnGc716sC8DIw27lZlHDWX+Vcn8uAVVmcw71AL0dXVeCQY9ebSxyNvYHRwP+c69MIuFFEsrtG3lwBrHXe1wPSVHWT1/afnTJzSz9gmqqeyMOxltygqnYpAAvGoR4HjgEKfAmUdbZFAaeAC732Hwgsdt4nAJO8ttV0yijsfF4MvOi1/ULMo38U8CTwsde2QsAuIA7jkPdinE90DvrfAz7w+izACaC217o2wK/O+wnAC17b6jia63iV96zz/mlghmdbJtftykzO/YJstJZ19injXIMUoIHX9ueBb5z3twDLMxz/HXAbUAI4jKlRx+RwfdYDHb0+n+vYLeyluZrX9gNAb6/PnwL3+/A76o+5SVZ0PrcD/sywz52e347XusKOhppZlFscOArEuf1fKQiLrfEXLHqpqTnGAQ0wMVuc1yLAb177/oapQfvKjgzHRjvlVvUuV1XTnX2rqeoWzJNAArBXRKaISFUfbVTCOIsVTqjiMCaWXMnZXjXD/t7vMzIc8/SzwAmrPJbNvmeVJyJRIvKiE2Y5yt9PLRUdPYU5+/p4qJrhs2d7NTU1397AIGC3iMwWkQZZ6KkBfO51LdYDaZgnGA97vN6fzORzto39ItILeBHzBLLfWX0cKJ1h19KYCkZuuBY4CCzJ5XGWPGAdfwFEVZdgarwjnFX7MbXDGl67nY+pmYOpWRf32nZOJsVWz3BsilPuH97liog4++5ytExW1bbOPooJ32Qp3ev9foyzaqSqZZ2ljJpGQoDdwHlZ6PtnoarHVPUhVb0A6AE86NXWkFX6Wu/1/wJ6Yp5cymBq2GCeSvZhQl8Zr4+Hf1wfr+2e6zNfVTthavAbgLey0LMD45DLei3F1MTk840TOnsLE/Za47VpE1BYROp6rWvG36EgX+mHeaKz6YKDgHX8BZfRQCcRaa6qacDHwHMiUkpEamDi454G3VXAFSJyvoiUIfPeQDeLyIUiUhwTOpnmVW68iHQUkWhMPP0UsExE6otIBxEpiomBn8TUUnPEeXJ4CxglIpUBRKSaiHhi7h8D/UWkoaPpqazKEpHuIlLHuSkddTR4dOzBtHtkRynnnA5gbpDPe+lMAz4DEkSkuIhciHFyHuYA9UTkXyJSWER6Y0Jls0SkipiG8RJO+cfJ+vq8ifn+ajjnVElEeuag2ydEpAOmzeI6VV3uvc15KvkMeFpESojI5Zib4ESv44sBRZ2PRZ3P3uWfB7QH3veHXkvOWMdfQFHVfcAHmBg8wL8xNfttmIbTyZg4OaqaCEwFVgMrgFmZFDkR8xTxJ1AM09iIqm4EbsY0Hu/H1Kh7qOppjDN40Vn/J6Zh9PFcnMZ/MCGa750Qy0KgvmN3LqZh9Ctnn++cY05lUk5d59jjzn6vq+piZ9sLwBNOCOXhTI4Fcx1/w9TS1wHfZ9g+BBNG+RNzjd71bFDVA0B3zA3xAPAo0N0JpRRy1v+BCYPEAvdkoWEMpjfNAhE55mi4JIt9c8uTmCeZOfJ3f/u5XtvvAWIw7TUfAXerqneN/yTm2oJ5ajmZofxbgO9Udauf9FpyQOyTlaUgIKYL6S9AUVVNdVuPxeImtsZviVhE5Bqn22g5TNvBF9bpWyzW8Vsim4GYxtWtmNj43e7KsVhCAxvqsVgslgKGrfFbLBZLASMsEkxVrFhRa9as6bYMi8ViCStWrFixX1UrZVwfFo6/Zs2aJCUluS3DYrFYwgoRyTgqHLChHovFYilwWMdvsVgsBQzr+C0Wi6WAERYxfovFYgkEKSkp7Ny5k+TkZLel5ItixYpx3nnnER0d7dP+1vFbLJYCy86dOylVqhQ1a9bE5OgLP1SVAwcOsHPnTmrVquXTMTbUY7FYCizJyclUqFAhbJ0+gIhQoUKFXD21WMdvsVgKNOHs9D3k9hwi2vEnJsKLL7qtIjCcPg0TJsCRI24rsVgs4UZEO/4FC+CJJ2D3breV+J8JE+D226FDB9i3z201Foslr0RFRdG8eXMaN25Mjx49OHz48Jlta9eupUOHDtSrV4+6devyzDPP4I/8ahHt+O+6C9LSjJOMJFRh3DioXh3Wr4d27eD3391WZbFY8kJMTAyrVq3il19+oXz58owdOxaAkydPcvXVV/PYY4+xadMmfv75Z5YtW8brr7+eb5sR7fjr1jU14rfeMjeASOHHH2HVKvjvf81TzZ9/Qtu2sGmT28osFkt+aNOmDbt2mWmSJ0+ezOWXX07nzp0BKF68OK+99hov+iF+HfHdOQcOhN69jYO86iq31fiHceOgRAno2xdKl4bFi6FLF+P858+HFi3cVmixhB/3328qVP6keXMYPdq3fdPS0vjyyy+5/fbbARPmadmy5T/2qV27NsePH+fo0aOULl06z7oiusYP0KsXVK5snGUkcOQITJkCffoYpw/mx/X11xATA3Fx5r3FYgkPTp48SfPmzalQoQIHDx6kU6dOgOmfn1Vvnfz2RIr4Gn+RItC/P4wYAbt2QbVqbivKH5MmwV9/mScZb+rVg2++gc6dzfLpp9CtmzsaLZZwxNeaub/xxPiPHDlC9+7dGTt2LPfeey+NGjVi6dKl/9h327ZtlCxZklKlSuXLZsTX+AHuvNPE+N95x20l+cPTqHvRRdCq1dnbq1eHpUuhUSPo2dM8GVgslvCgTJkyvPLKK4wYMYKUlBT69u3LN998w8KFCwHzZHDvvffy6KOP5ttWgXD8tWtDp07w9tvh3cj7/fewZs3ZtX1vKlWCRYvgssvgX/+CN98Mnj6LxZI/WrRoQbNmzZgyZQoxMTHMmDGDZ599lvr169OkSRMuvvhihgwZkm87ER/q8TBwIFx/PcydC927u60mb4wbB6VKmfh+dpQuDfPmwY03wt13w6FD8NhjEAEDFC2WiOP48eP/+PzFF1+ced+kSRMWL17sd5sFosYPcPXVcM454dvIe+gQTJ1qevL4Et6LiYHPPjP7P/44/Oc/JlRksVgsBcbxR0fDgAEwZw7s2OG2mtwzcSIkJ2cf5slIdDR88AEMHgzDh/89oM1isRRsCozjB9PIq2pi/eGEp1G3dWvTdTM3FCoEr75qUle8/bYJE506FRidFoslPChQjr9mTTPQ6e23ITXVbTW+8803sG5d7mr73ojAM8/AyJHwyScm7HXihH81WiyW8KFAOX4wzvOPP2D2bLeV+M64cabBtnfv/JXz4IOmS+vChaav/6FD/tFnsVjCiwLn+Lt3h6pVw6eR98ABmDYNbrnFpGnILwMGwMcfQ1KSGeX755/5L9NisYQXBc7xFy4Md9xhujtu3+62mpx5/30Tk89rmCczrrsOZs2CrVtNZs9wuA4WS6SSVVrmWrVqsXHjxn/se//99zNs2LB82yxwjh+M4xcJ/UZeVRg/Htq0gSZN/Ft2p04m5HPgAFx+uWlDCBVSU2H5chuKshQMskrLfNNNNzHFa/h9eno606ZNo3d+Y74UUMdfvbrJY/POO5CS4raarFmyBDZu9G9t35tLLzU20tPhiitMume3OHECPv8c+vWDKlXgkktMltHNm93TZLEEG++0zH369PmH41+6dCk1a9akRo0a+bZTYEbuZmTgQBPu+OILuPZat9VkzrhxULasGYEbKJo0Mb2GOnUycxfMnAnt2wfOnjd795rrP2OGmSYzORnKlTPtMJdfbrqgtmtnUk03axYcTZaCy/3z7mfVn/7Ny9z8nOaM7upb9reMaZmbNm1KoUKF+Pnnn8+kceiT07B9HymQNX4wufmrVw/dRt59+0yGzVtvNaNwA0nt2sb516hhrsvMmYGztXmzyZTatq0ZSX3HHbB6tRlctmgR7NljBp0NHGjSSxcpArGx8O23gdNksbhJVmmZ4e9af2pqKjNmzOCGG27wj1FVDfmlZcuWGgiGDlUF1a1bA1J8vhg2zGhbuzZ4NvfvV23dWjUqSvWDD/xTZlqa6g8/qD7+uOqFF5pzAtXmzVUTElR/+kk1PT3r43/7TbVePdWYGNW5c/2jyWLxsG7dOrclaIkSJVRV9fDhw9q2bVsdM2bMmW1btmzRCy64QOfOnaudO3fOtpzMzgVI0kx8qutO3ZclUI5/507j5B57LCDF55m0NNU6dVTbtg2+7aNHVTt0ML+MV17JWxmnTqnOm6c6aJBq1aqmrKgoU+6YMarbt+euvD17zI0iOlp16tS8abJYMiOUHL+q6sqVK7V69ep6+vTpM+suvvhibdasmb777rvZlmMdfy7o2VO1cmXjrEKFhQvNNzNxojv2T55U7dXLaBg6NPsauYfDh1UnT1bt3Vu1VClzbIkSqtddZ87jwIH8aTp82NwIRVTHj89fWRaLh1Bz/Kqq3bt31w+8HrlffvllLVq0qB4+fDjbckLC8QPVga+A9cBa4D5nfXkgEdjsvJbLqaxAOv45c8xV+PjjgJnINTfcoFq+vHHAbpGSotqvn7k2991nnkIysmOH6tixqp07m9o4mJvonXeqzprlf/0nTqhedZWx89JL/i3bUjAJBcfvL3Lj+APZqycVeEhVV4pIKWCFiCQCtwFfquqLIvIY8BjwnwDqyJbOnU2j5rhx4K92k/ywZ4/p1vjvf0OxYu7pKFwYJkwwvYrGjDFz/b71FmzYYHrhTJ9uRv+CmfbxgQfM/MaXXGISwwWC4sWN3X79TJrpgwfhhRfsPAMWS24JmONX1d3Abuf9MRFZD1QDegJxzm7vA4tx0fFHRZmsnU88AVu2QJ06bikxvPuuGcB0113u6gDjwEeNggoV4KmnjMP3DKq69FJ48UUzxWODBsHTVKSImXe4bFl46SU4fBjGjjXfo8Vi8Y2g9OMXkZpAC+AHoIpzU0BVd4tI5SyOuQu4C+D8888PqL4BAyAhwYyS9cNo6DyTnm5q1bGxwXWm2SECTz5pJqmfO9f09+/RA8491z1NUVHw+uumz/8LLxjn/8EH5qZgsVhyJuD9+EWkJPApcL+qHvX1OFUdr6qtVLVVpUqVAicQ48SuvtrUtt3MVb9wIWzbFriRuvlhwACT0vmuu9x1+h5E4PnnzY166lQTZvrrL7dVWSzhQUAdv4hEY5z+h6r6mbN6j4ic62w/F9gbSA2+MnAg7N9v4utuMW4cVKwYuiOJQ5FHHjFPavPmmfYaJ7+VxWLJhoA5fhER4B1gvaq+7LVpJtDPed8PmBEoDbnhyivhggvcG8m7e7eJod92GxQt6o6GcOXOO02tf/lyk25izx63FVksoU0ga/yXA7cAHURklbN0A14EOonIZqCT89l1ChUyDmTxYpMYLdhMmGDmww2FRt1w5IYbTN6fjRtNfp/ffnNbkcXiG1mlZd6+fTsxMTE0b96cZs2acdlll52VpjmvBMzxq+o3qiqq2lRVmzvLHFU9oKodVbWu83owUBpyS//+phvj+PHBtZuWZhp1O3SAunWDazuS6NLFJHvbu9fkAtqwwW1FFkvOZJWWGaB27dqsWrWKn3/+mX79+vH888/7xWaBTdKWGVWqwDXXwHvvmUyRwWLBAlNDDcVG3XDj8stNqumUFFPzX7HCbUUWi+94p2XOyNGjRylXrpxf7BTYtMxZMXCg6b0ybRrcfHNwbI4bB5Urm54plvzTrJnJ7Nmpk4n5f/GF6SJrsWTH5s33c/y4f9MylyzZnLp185aWGWDr1q00b96cY8eO8ddff/HDDz/4RZet8WegfXsziCtYjby7dpl5Afr3t/3Q/UnduiaV83nnQdeu5hpbLKFIdmmZPaGerVu3Mnr0aO7yUyOgrfFnoFAh08D66KOwdi00ahRYe++8Y2L8d94ZWDsFkWrVYOlSM8dAr15m/uK+fd1WZQlVfK2Z+xtPjP/IkSN0796dsWPHcu+9956139VXX03//v39YtPW+DPhtttM7TvQjbxpaWbe306dzGQoFv9TsSJ8+aWJ9998s0nvYLGEImXKlOGVV15hxIgRpGQyJ+w333xDbT85Cuv4M6FSJTOI6oMP4OTJwNmZOxd27LCNuoGmdGlzra++GoYMgWefNdPBWCyhRosWLc5Mswh/x/ibNWvG448/zttvv+0XOzbUkwUDB8KUKfDxxyYbZCAYN85MP3j11YEp3/I3xYqZBvsBA0zuoUOHzBSQNrOnxW2OHz/+j89ffPHFmfcnA1TztDX+LIiNhfr1A9fIu2MHzJljHFF0dGBsWP5JdLSJ8//73/Dyy3D77SYTqsVS0LCOPwtETCPvd9/BmjX+L//tt024wTbqBpdChcz8Ak89ZZLy9e7tbmI+i8UNrOPPhn79TN4cf9f6U1ON4+/SBWrW9G/ZlpwRgaFDzVwDn30G3btDhqdtiyWisY4/GypUgOuvh4kT4cQJ/5U7ezb88Ydt1HWb++83tf5Fi0ySPuv8LQUF6/hzYOBAOHrUZH/0F2++CVWrmpqmxV1uuw0mT4YffjAjti2WgoB1/DnQti00bOi/cM/27TB/vmlYLGz7VIUEN95oBnvNnu22EoslOFjHnwMipta/fDms8kMaj7feMmXecUf+y7L4BxHo1s0kyzt92m01loJGVmmZATZt2kS3bt2oU6cODRs25MYbb2SPHyacsI7fB2691fQDz2+tPyXF5N2/6ioI8DTCllzSrRscOwbffOO2EktBI6u0zMnJycTHx3P33XezZcsW1q9fz913382+ffvybdM6fh8oV86EAz78MH8NgDNnwp9/2kbdUOTKK02aDhvusbiJd1rmyZMn06ZNG3r06HFme/v27WncuHG+7dgos48MHGhSOHz0Ud773o8bZ7JFXnWVf7VZ8k/JkmbQ3uzZMHKk22osrnD//f6J53rTvDmMzlta5l9++YWWLVv6V4+DrfH7SJs20Lhx3sM9W7ea2aHuuMM26oYq8fFm6satW91WYilIZJeWOVBYF+Qjnkbef//bzOqU2xvxW2+ZUaNecyxYQoz4eFPpmz0bMsmKa4l0fKyZ+5us0jI3atSIJUuWBMSmrfHngptvhpiY3Nf6T582A4W6dzehHktoUqcO1KtncihZLMEmY1rmf/3rXyxbtozZXg1P8+bNY40fcshYx58LypaFm24yA36OHvX9uOnTzQTgtlE39ImPh8WL/TtS22LxFe+0zDExMcyaNYtXX32VunXrcuGFF/Lee+9RuXLlfNsRDYPE5K1atdKkpCS3ZQBmhOell8Ibb8CgQb4d07EjbNkC27ZBVFRg9Vnyx5dfmh4+M2bYdNkFgfXr19OwYUO3ZfiFzM5FRFaoaquM+9oafy5p3dpM5j1unG+TeWzebHLB3HmndfrhQLt2UKqU7dZpiWys488lnkbeVavgxx9z3n/8eOPwBwwIvDZL/ilSxEyFOWeOnaXLErlYx58H+vaFEiVybuQ9dQree8+EDKpWDYo0ix+Ij4edO2H1areVWIJBOIS7cyK352Adfx4oXRr69DFTMx45kvV+n30G+/fbRt1wo1s382rDPZFPsWLFOHDgQFg7f1XlwIEDFCtWzOdjbONuHklKgosvhtdeg8GDM98nLg5+/9007Bayt9iwolUrMwnPt9+6rcQSSFJSUti5cyfJycluS8kXxYoV47zzziM6wzyuWTXu2gFceaRVK7joIhPuueeesyft3rABliyB55+3Tj8ciY+HZ5+FAwfMhDyWyCQ6OppatWq5LSPoWJeUDwYONPPxfv/92dvGjzepGfr3D74uS/7p1g3S02HePLeVWCz+xzr+fNCnj0nulbGRNzkZ3n8fevWCc85xR5slf1x8MVSqZOP8lsjEOv58UKqU6eEzdSocOvT3+mnT4OBB26gbzhQqZLKozpsHqaluq7FY/It1/Plk4EBTw5848e9148ZB7drQoYN7uiz5Jz7e3NAzC+VZLOGMdfz5pEULExbwjORdu9bM4nTXXbZRN9zp3NkMvrNJ2yyRhnVNfmDgQFi3znT9Gz8eoqPhttvcVmXJL2XLQtu2Ns5viTwC5vhFZIKI7BWRX7zWJYjILhFZ5SzdAmU/mNx0kxnUNXq0maXr2mvBDwn0LCFAfLwZwbtjh9tKLBb/Ecga/3tA10zWj1LV5s4SEQ/RJUrALbfAp5/C4cO+Z+20hD7x8ebVhnsskUTAHL+qLgUOBqr8UMPTg6d+fTN3qyUyaNgQata04R5LZOFGjH+IiKx2QkHlstpJRO4SkSQRSdq3b18w9eWJJk3gscdg2LCzR/FawhcRU+v/8kvTe8tiiQSC7fjfAGoDzYHdwMisdlTV8araSlVbVapUKVj68sULL9jJOyKR+Hj46y8zM5fFEgkE1fGr6h5VTVPVdOAtoHUw7VsseSEuzsy1bMM9lkghqI5fRM71+ngN8EtW+1osoUJMjJk+c/ZsOzmLJTLw2fGLSFsR6e+8ryQi2aa0E5GPgO+A+iKyU0RuB4aJyBoRWQ20Bx7Ih3aLJWjEx8Ovv5qsqxZLuONTWmYR+T+gFVAfeBeIBiYBl2d1jKr2yWT1O3nQaLG4jvfkLBEyN7elAONrjf8a4GrgBICq/gGUCpQoiyXUOP98aNzYxvktkYGvjv+0mqm6FEBESgROksUSmsTHmzxM2U23GYocPw4pKW6rsIQSvjr+j0VkHFBWRO4EFmJ65VgsBYb4eJOiOTHRbSW+k5wMjRrBI4+4rcQSSvjk+FV1BDAN+BQT539KVV8NpDCLJdRo0wbKlQuvcM+kSWbeZ5tywuKNz3PuqmoiEEZ1HYvFvxQuDF26GCeanh76abfT02H4cDP6ePNm2L0bzj035+MskU+2P10ROSYiR7NagiXSYgkV4uNh715YscJtJTkzcyZs2gQPPWQ+L1nirh5L6JCt41fVUqpaGhgNPAZUA84D/gM8G3h5Fkto0bWrqUGHQ7hn+HCTYO7ZZ03acJtywuLB14fVLqr6uqoeU9WjqvoGcF0ghVksoUjFinDppaHv+L/9FpYtM7X9okXNhDK2xm/x4KvjTxORviISJSKFRKQvkBZIYRZLqBIfD0lJ8OefbivJmmHDoEIF6N/ffI6LM6OOQ1mzJXj46vj/BdwI7HGWG5x1FkuBwzM5y9y57urIivXrTXx/yBAzSRD8PUfE0qXu6bKEDr5259yuqj1VtaKqVlLVXqq6PcDaLJaQpFkzqFYtdMM9I0dCsWIwePDf6y66CEqWjLxwz/r18PrrkTlXws6d5ontwAH/l+2T4xeRYiIyWERedyZQmSAiE/wvx2IJfURM7p4FC+D0abfV/JM//oCJE2HAAPCexqJwYRPnj7QG3iefNDe4Jk1g4UK31fiH1FQzf3fDhjB1Kixf7n8bvoZ6JgLnAF2AJZiePcf8L8diCQ/i4+HYMZPCIZR45RXjOB588OxtsbGwbp3pjhoJpKXBokXmhgbQqRP07Qt79rirKz8kJcEll8ADD0C7drB2LVx1lf/t+Or466jqk8AJVX0fiAea+F+OxRIedOwIRYqEVrjn6FF44w24/nqoXfvs7XFx5jVS4vwrV8KhQ3DPPbBmjan9f/IJNGgA48aZAWzhwtGjcO+9xunv3g0ff2x+W7WyTX6fd3x1/J4UT4dFpDFQBqgZEEUWSxhQsqRxpKHk+N96yziQrPLytGxpGnsjJc7vyZnUsaNp03j6aVi9Gpo3h0GDzJPAmjXuaswJVZg2zYR1XnvN3MTWr4cbbgjs3N2+Ov7xzsToTwIzgXXAsICpsljCgG7dYONG2LrVbSWmrWHUKGjfHlq1ynyf6Gi47LLIcfwLF5qG9sqV/17XoIEJ/7z/vklT0aIFPPoonDjhns6s2L4dunc3Tr5KFfjhB3j1VShTJvC2fe3V87aqHlLVJap6gapWVtU3Ay3OYgllPN06QyEB2kcfwa5dxsllR1ycqQXv3x8UWQHjr7/MILVOnc7eJgK33mrGLfTrZ0YwN/br9ioAACAASURBVGoEs2YFX2dmpKTASy/BhReam/CoUaYB9+KLg6chp1w9D2a3BEukxRKK1KkD9eq5H+5RNc6tSROTRC47PP35v/468LoCydKl5innyiuz3qdCBXjnHbNv8eLQo4dp/9i1K3g6M/Ltt+Yp5LHHzHe1fj3cf7/pdRVMcqrxl3KWVsDdmFw91YBBwIWBlWaxhD7x8aaLpJuhhLlzTe+PRx7JOS588cVm8vhw79aZmGga19u1y3nfdu1g1Sp47rm/p8585RXTKyhYHDwId91l2h2OHoUZM+Dzz6F69eBp+AeqmuMCLABKeX0uBczz5Vh/LC1btlSLJRRZuFAVVGfMcE9DbKxq9eqqp0/7tn/HjqrNmgVUUsBp2lS1Q4fcH7dli2qXLuY7a9lSNSnJ/9q8SU9XnThRtVIl1ago1YceUj12LLA2vQGSNBOf6mvj7vmA91CV09hePRYL7dpBqVLuhXuWLzdx4gceMI23vhAba3q/HDwYWG2BYs8eoz+7ME9W1K5tnpCmTDEhn9at4b77TC3c32zaZNogbrkFLrjApPIeMcL0CHOb3AzgWi4iCSLyf8APwAeBk2WxhAdFipg/95w5JtYebIYPN71A7rjD92Pi4ozWcI3ze0boZtaw6wsi0Lu3ia8PGmR60jRsCJ9+6p/v8NQpGDrUtLkkJZmUEt9+a3oghQq+9up5DugPHAIOA/1V9flACrNYwoX4eJNXZfXq4NrdssU4q3vuMU8dvtK6ten3Hq7dOhcuhPLlTSNpfihbFsaOhe++M+ktrr/eNABv3573Mr/6Cpo2hYQEuPZa07Po7rshKip/Wv1NTr16Sjuv5YHtmJr/ROA3Z53FUuDp1s28BjvcM3KkCe/ce2/ujita1MwfHI4NvKqmYbdDB/8500suMTXzkSPNNWnUyKS1TknJ8dAz7NtnupB26GBSZsyfb7rYnnOOfzT6m5xq/JOd1xVAktfi+WyxFHjOOceMig2m49+7F9591/RTz4tziY01PV0OH/a/tkCyYYOJzec1zJMVhQub/Ebr1pmy//Mf851+9132x6Wnw9tvQ/36pt3gf/+DX36Bzp39q8/f5DT1YnfntZaagVuepZaqXhAciRZL6BMfD99/H5gUupnx2mumH7tnPt3cEhtras+hlmQuJ/Ib38+J88+H6dNNV8tDh8xI54EDzfuMrF1rruOdd5p4/s8/m2kuY2ICo82f+JqW+Utf1lksBZX4eFP7mzcv8LaOHzeOv2dPU9PMC5deakI+4RbuSUw0PWQClbzMQ69epvb/wAOmRt+gAUyebG6Wf/0F//2vyQm0fj1MmGCuY8OGgdXkT3KK8RdzYvkVRaSciJR3lppA1WAItFjCgVatTM6YYKRvmDDB1EBzSs+QHcWKmdh2ODXwpqQYBxuo2n5GSpWCl1828f8aNUzK544doXFjePFFuPlmE3rq3z+wCdUCQU41/oGYeH4D59WzzADGBlaaxRI+FCpk8qbPmxfYEaGpqcYZXX65aaDND3FxJrVxIPqwB4Lly80cCMFy/B5atDCx/tdeM33xPU9K774LFSsGV4u/yCnGP0ZVawEPe8X2a6lqM1V9LUgaLZawoFs3Myjq++8DZ+OTT+C33/JX2/cQG2vCU+ES509MNDXrDh2Cbzsqysz0tWuXSXLnyXkUrvjaj/9VEblMRP4lIrd6lkCLs1jCic6djYMIVO8eVdPNsEEDk843v1x6qekOGi7hnsREE1IrV849DSVLBj+hWiDwtXF3IjACaAtc7CxZZP22WAomZcuaJFyBcvwLF5oumI88YkJL+aV4cRPnD4cG3qNHTb76YId5IhVf712tgAudpD8WiyUL4uNNGGbHDv9nXhw2DM491zQy+ovYWNNQeexY7kb/BpvFi03biXX8/sHXesMvmMnWLRZLNgRqcpaffjI1/vvuM42L/iIuzjjUZcv8V2YgSEw0Tyj5bdC2GHx1/BWBdSIyX0RmepbsDhCRCSKyV0R+8VpXXkQSRWSz8+pitM5i8T8NG0LNmv4P9wwfbmrkAwf6t9w2bUzMOtTDPQsXwhVX+PemV5Dx1fEnAL2A54GRXkt2vAd0zbDuMeBLVa0LfOl8tlgiBhFT6//yS0hO9k+Zv/4KH39snH7Zsv4p00OJEmZyllBu4N250/SXt2Ee/+Frr54lmS05HLMUyJjxuyfwvvP+fczNxGKJKOLjzehOf9WiR40yN5T77vNPeRmJi4MffwzNCcnBhHkgb/n3LZnja6+eS0XkRxE5LiKnRSRNRPIy7KOKqu4GcF4rZ2PzLhFJEpGkffv25cGUxeIOcXEmX4s/wj0HDph5Y/v2hfPOy395mREbawaGhWqcPzERqlQx+XAs/sHXUM9rQB9gMxAD3OGsCxiqOl5VW6lqq0qVKgXSlMXiV2JizND+2bPzP7HH66+bp4eHH/aPtsy4/HIz/iAUwz3p6Sa+f+WV4ZcWIZTxuTewqm4BolQ1TVXfBeLyYG+PiJwL4LzuzUMZFkvIEx9vYvMbNuS9jJMnzaTg3bqZ/DCBomRJMzAqFBt416wxue5tmMe/+Or4/xKRIsAqERkmIg8AJfJgbybQz3nfD5Pzx2KJODyTs+SnW+d778H+/f5Jz5ATsbEmF85ffwXeVm7wxPdtw65/8dXx3wJEAUOAE0B14LrsDhCRj4DvgPoislNEbgdeBDqJyGagk/PZYok4zj/fxKTzGudPSzMzQrVubboxBpq4OJP9MqeJR4LNwoWmi2y1am4riSx8Grmrqr85b08CQ308pk8Wmzr6crzFEu7Ex8OIEXDkiJkQPTd8/jls3QovvRSc2Pbll5s0EEuWmPaJUCA5GZYuzd1E8hbf8LVXz68isi3jEmhxFks4Ex9vest4whW+4knGVqeOmRAkGJQubaYaDKUG3mXLTDuHDfP4H19DPa34OzlbO+AVYFKgRFkskcCll5pMkrkN9yxZYvrVP/SQ/yYU94XYWJNS+uTJ4NnMjoULzajiuDi3lUQevg7gOuC17FLV0YALWbEtlvChcGHo0sU08Kan+37c8OFQqZKZSD2YxMaaeXx/+CG4drMiMdHcPEM5eVy44muo5yKvpZWIDALs12Gx5EB8POzda2Zu8oU1a8yN4t57gz9pd9u2Js4fCt06Dxww18x24wwMvqZlHgl4hqKkAtuBGwIhyGKJJLp2NY2zs2ebnDg5MWKEyUJ5992B15aRsmXNBOKhEOf/6ivT1mHj+4HB1xj/LGeZDcwHNgDdReRBEXkwUOIslnCnYkUTrvAlzr9zJ0yebHqxVKgQeG2ZERdn4vz+SjCXVxITTYindWt3dUQqvjr+lsDdwLlAVWAQcCEm3GNDPhZLNsTHQ1IS/Pln9vuNHm1quQ88EBxdmREba5z+8uXuaQDj+Nu3j4xpDkOR3OTjv0hVH1bVhzA3gvNUdaiq+tSv32IpqHgmZ5k7N+t9Dh+GcePgxhtNPn+3aNfOhKbcDPds22bSXdgwT+Dw1fGfD5z2+nwaqOl3NRZLBNKsmRl5ml2458034fhxM5+um5QrZ/S62cBr0zQEHl8d/0RguYgkiMj/AT/wd159i8WSDSImd8+CBaa7ZEZOnYIxY4yja9Ei+PoyEhtrUjdkpjUYJCaaFNT16rljvyDgaz/+54D+wCHgMNBfVV8IpDCLJZKIjzcTmn/77dnbJk0y8f9gJGPzhbg4M4jrxx+DbzstDRYtMjdBm4Y5cOQmLfNKVR3jLD8FUpTFEml07AhFipwd7klPNwO2mjcPnRw57dqZVzfCPStXwqFDNswTaHx2/BaLJe+ULGlq0hkd/xdfwMaNprYfKjXcChVMZlE3Gng98f1QuQlGKtbxWyxBIj7eTMyyzSu94fDhUKMG3BBiwyHj4kxYKiUluHYTE03jcuUsJ2W1+APr+C2WIOGZnMVT6//2W7M89FDo9VePjTWTsiQlBc/miRMmI6cN8wQe6/gtliBRp47pqeJx/MOHQ/nyMGCAu7oywzP5SzDDPV9/bXoSWccfeKzjt1iCSHy8aTRdsQJmzIDBg6FEXiYxDTCVKkGjRsFt4E1MNA3gbdsGz2ZBxTp+iyWIxMebfvs33QTFisGQIW4ryprYWBOKSk0Njr2FC43TL148OPYKMtbxWyxBpF07k3xsyxa47bbQbsSMizOjiVeuDLytPXtg9Wob5gkW1vFbLEGkSJG/Byc99JDbarLHE+cPRrhn4ULzavPvBwfr+C2WIPPii/DZZ6axN5SpUgUaNgxOA+/ChaahOxRSVhQEQqwTmcUS+dSta5ZwIDYWPvzQxPkD1eVU1TTsduwY3DmGCzK2xm+xWLIkNtbkGFq1KnA2NmyAXbtsmCeYWMdvsViyJDbWvAYy3OOJ79uG3eBhHb/FYsmSc881g84C2cCbmAi1a0OtWoGzYfkn1vFbLJZsiYszo2rT0vxfdkqKuanYME9wsY7fYrFkS2wsHDkCP//s/7KXLzdtCDbME1ys47dYLNkSyDh/YqIZ09Chg//LtmSNdfwWiyVbqlUzYw4C5fhbtTJz/VqCh3X8FoslR2JjYelSM2OYvzh6FH74wYZ53MA6fovFkiNxcWZKxDVr/Ffm4sWmwdg6/uBjHb/FYskRT5zfn906ExNNJs42bfxXpsU3rOO3WCw5Ur266Wfvzzh/YqJJBFe0qP/KtPiGdfwWi8Un4uL8F+ffscNMMm/DPO7giuMXke0iskZEVolIEGf1tFgseSU2Fg4cgLVr81+WTdPgLm7W+NuranNVbeWiBovF4iP+7M+fmGjSPjdunP+yLLnHhnosFotP1KwJNWrkv4E3Pd3U+K+80gzesgQftxy/AgtEZIWI3JXZDiJyl4gkiUjSvn37gizPYrFkhqc/v2rey1izBvbts2EeN3HL8V+uqhcBVwGDReSKjDuo6nhVbaWqrSpVqhR8hRaL5Szi4ozTXr8+72UkJppXm5jNPVxx/Kr6h/O6F/gcaO2GDovFkjv80Z9/4UIzpWO1an6RZMkDQXf8IlJCREp53gOdgV+CrcNiseSeWrVMn/68NvAmJ5tQkQ3zuIsbc+5WAT4X06pTGJisqvNc0GGxWHKJiKn1L1hg4vy5bZxdtgxOnrRhHrcJuuNX1W1As2DbtVgs/iE2FiZNMgOwGjTI3bELF5pJ2+PiAiLN4iO2O6fFYskVHqedl3BPYiJceimUKuVXSZZcEtGOf8eRHazbt85tGRZLRFG7NlStmvsG3gMHYMUKG+YJBSLa8f/3y//S/M3m/O/L/3Ey5aTbciyWiEDE1PqXLMldf/6vvjL724Zd94loxz+qyyj6NOnD8988T+M3GjN/y3y3JVksEUFsLOzeDZs3+35MYiKULg2tbedt14lox1+pRCXe7/U+i25dROFChen6YVdumnYTu4/tdluaxRLW5CVvT2IitG9vGnct7hLRjt9D+1rtWT1oNUPjhjJ9w3QajG3A6z++Tlp6mtvSLJawpF49OOcc3x3/tm3w6682vh8qFAjHD1C0cFGein2KNXev4eKqFzN4zmAum3AZq/5c5bY0iyXs8PTnX7zYtzi/J02Dje+HBgXG8XuoW6EuibckMumaSWw/vJ1W41vx0PyHOH76uNvSLJawIi4Odu0ytfmcSEw0I37r1Qu4LIsPFDjHDyAi9G3alw2DN3B7i9t5+fuXuXDshczYMMNtaRZL2OBrnD8tDRYtsmmYQ4kC6fg9lIspx7ge4/h2wLeUKVaGXlN70WtKL3Yc2eG2NIsl5GnQACpXzrk//8qVcOiQDfOEEgXa8Xu4rPplrLxrJS9d+RILti6g4diGvPzdy6Smp7otrUCSrumM+m4UC7ctdFuKJRs8cf6c+vN74vsdO/rXvqoyfcN0/vfl/1iyfYn9v+YC0fzMqBAkWrVqpUlJwZmad/vh7QyZM4TZm2fT/JzmjOs+jtbVbMfjYJGSlsLtM29n4uqJREkU7/d6n75N+7oty5IFY8fCkCEmzl+rVub7tG9vavyr/NiPwvt/6qFCTAW61+tOz/o96Vy7MyWKlPCfwTBFRFZkNr2trfFnoGbZmnzR5wum3TCNvSf2cunblzJ49mCOJB9xW1rEk5yazPWfXM/E1RN56oqniK0Zy82f38zY5WPdlmbJgpzy9pw4YTJy+ivMk5KWwrBvh9Ho9UYs3r6Ylzu/zKH/HGLaDdPoVrcbMzfO5NqPr6Xi8Ipc/dHVTPhpAntP7PWP8UhCVUN+admypbrBkeQjeu+ce7XQ0EJ6zohzdMqaKZqenu6KlkjnSPIRjXsvTiVBdOzysaqqejLlpPaa0ktJQJ9Z8oy99iFIerpqxYqqt92W+fa5c1VBdf78/Nta9vsybfJ6EyUB7TWll/5++Pez9jmdeloXbVuk9865V2uMqqEkoJIg2nZCWx3+7XDdfGBz/oWEEUCSZuJTXXfqvixuOX4PP+76US8ad5GSgHad1FW3Htzqqp5IY9+JfdpqfCst/HRh/XD1h//YlpKWov0+76ckoA/Me8A6/xDk2mtVa9bMfNuDD6oWKaJ64kTeyz/410G9a+ZdSgJa/eXqOmPDDJ+OS09P1592/6QJXyVo8zebKwkoCeiFYy/Uxxc+rj/s/EHT0tPyLiwMsI4/n6Skpejo70ZryedLarFni+lzS5/TU6mn3JYV9uw4skMbvtZQiz1bTGdtnJXpPmnpaXrf3PuUBLT/9P6akpYSZJWW7HjlFeNJtm8/e1vTpqodOuSt3PT0dJ308yStPLyyRg2N0ofmP6THTh3Ls87th7brmO/HaIf3O2jU0CglAa06sqoO+mKQzts8LyL/z9bx+4kdR3botVOvPVNz+Pq3r92WFLZs2r9Ja4yqoaWeL6WLf12c7b7p6ek6dPFQJQG9duq1mpySHCSVlpz4+WfjSd5//5/r//zTrH/hhdyXuWn/Jr3ygyuVBLT1W631p90/+Uesw4G/DujEnyfqdVOv0xLPlVAS0FLPl9Len/TWyasn6+GTh/1qzy2s4/czX2z84kwM8fYZt+v+E/vdlhRWrNq9SqsMr6IVh1XUFX+s8Pm4Md+PURLQju93zFftz+I/0tJUy5dXHTDgn+snTTIeJinJ97KSU5J16OKhWvSZolr6hdI6dvlYTU1L9a/gDJxMOamzNs7SO2feqZWHV1YS0Oino7XTB5107PKxuuPIjoDaDyRZOX7bnTMfnDh9gqeXPM3I70ZSLqYcIzuP5JamtyB2eGK2fPv7t8RPjqd00dIsuGUBDSrmbv6+D37+gAEzBtCqaivm9J1D+ZjyAVJq8ZVrroE1a2DLlr/X9e8PM2fC3r0QFZVzGYu3L2bQrEFsPLCR3o16M6rLKM4tdW7gRGdCWnoaP+z6gRkbZjB943Q2HdgEQKuqrehZvye9GvSiUaVGYfMfz6o7p+u1eV+WUKzxe7P6z9Xa5u02SgJa55U6+vD8h/Xr374OeE0lHJm3eZ7GPBuj9V6tp78d/i3P5UxfP12LPlNUG7/eWP84+ocfFUYO6enp+um6T7XW6Fpae0xtfXDeg7p0+9KA/C5HjTK1+x07PLZVq1VTveGGnI/de3yv3vr5rUoCesGYC3Te5nl+15dX1u9bry98/YJe+valZxqHr3j3Cl27d63b0nwCG+oJLGnpafr+qve1y8QuGv10tJKAVhpWSQdMH6AzN8zUv07/5bZE15n6y1SNfjpam7/ZXPcc35Pv8hZtW6Qlny+pF4y5wPa0ysD2Q9u1++TuSgLa9I2m2nVS1zO/y4rDKmr/6f11xoYZeuJ0PrrbePHTT8abTJpkPq9bZz6PH5/1MWnpafr2ire1/EvlNfrpaH184eMh/T/54+gfOvq70WGjV9U6/qBy+ORhnbJmit407SYt/UJpJQEt/lxxvWbKNfreT+8VyPaA8Unjz/Sn9mfD2fKdy7X8S+X13BHn6po9a/xWbrhyOvW0DvtmmBZ/rrgWf664Dv92uJ5OPa2qZqzE1F+map9pfbTMC2WUBDTm2RjtNaWXvvvTu7rvxL48201NVS1bVvWOO8xnT0+fbdsy33/t3rXabkI7JQFtN6Fd2NSgVUP7CSUj1vG7xKnUUzp/y3y9Z9Y9Wm1kNSUBLTS0kMa+G6ujvhul2w5m8c+IIF765iUlAb1q0lV+q2F6s3bvWq06sqqWe7Gcfr/je7+XHy58t+M7bfpGUyUB7TG5h24/tD3LfU+lntIFWxbo4NmD9byXzzvzu7zi3Sv05WUv5+kJ6uqrVevWNe979FCtXfvsff46/Zc+vvBxjX46Wsu/VF7fWflO2PalX7RtkdZ7tZ6SgPb+pHdIhhyt4w8B0tLTdPnO5fq/L/+njV9vfCZm2PSNpvrkoid1xR8rImqAUnp6uj6W+JiSgN407aaA9pP+9dCvWntMbS3xXAlN3JoYMDuhyKGTh3TQF4NUEkSrjaymn637LFe/o/T0dE3alaRPfPnEmZGxJKBNXm+iT3z5hCbtSvKpvJEjjUf57TfVUqVUBw365/a5m+fqBWMuUBLQfp/3073H9+b2VEMON3oh5Qbr+EOQLQe26MhlI7XdhHZaaGihMyMTh8weoolbE888oocjqWmpOvCLgUoCOuiLQUH5M+w+tlubvtFUizxTRD9d92nA7blNenq6Tl49WasMr6KFhhbS++fer0eTj+a73K0Ht+rLy17WK9694szv8ryXz9PBswfrgi0LsryBJyUZjzJ4sHmdNs2s/+PoH3rjJzcqCWj9V+vrV79+lW+Nocam/Zu04/sdAzbuIK9Yxx/i7D2+VyesnKBXf3S1Fnu2mJKAln2xrPb9tK9+/MvHfvlDB4tTqae09ye9lQT0vwv/G9SnmIN/HdQ2b7fRQkML6YSVE4JmN9hsPrBZO33QSUlAW41vlauxELlh34l9+u5P72qvKb005tkYJQEt80IZ7TOtj079ZaoeST5yZt/UVNXSpVWjo1ULFVLdtz9VX/vhNS39Qmkt+kxRfXrx0xE98C7jSOMH5z3o+lgT6/jDiOOnjuvn6z/X26bfphVeqqAkoEWeKaJXTbpK3/zxzZCMJXo4cfqEXjXpKiUBHfbNMFc0HD91XDtP7KwkoC8ve9kVDYEiOSVZn1nyjBZ9pqiWer6UvvrDq0ELLZw4fUJnbJih/af314rDKp75XXad1FXf+PEN3XV0l8bHG6/SqONP2vqt1koCeuUHV+qm/ZuCojEUyJhbaPr66a5pycrx2wFcIU5qeirLdiw7M6Bk2yEzwekl1S6hV4Ne9GrQK9cDoALF4eTD9PioB9/+/i3je4znjovucE3LqdRT3PL5LXyy7hOevOJJhsYNDZtBN1mxZPsSBs0exIb9G7jhwhsY3XU0VUtVdUVLWnqa+V1unMH0DdPZemgrANULtWbHT/WRppOpVLICo7qMok/jPmF/7fPCsh3LGDhrIL/s/YWe9Xvy6lWvUr1M9aBqyGoAl3X8YYSqsnbfWqZvmM70DdNZsXsFAPUq1KNX/V70bNCTS8+7lEIS/GkW9hzfQ9cPu7J271o+vPZDbmh0Q9A1ZCQtPY2Bswbyzk/vMOTiIYy5aowr1ya/7P9rP48kPsJ7q96jZtmavN7tda6qe5Xbss6gqqzbt47pG6Yz9ecZrNm/kmtr3sHbN71AuZhybstzlZS0FEZ9P4qExQkUkkI80/4Z/n3JvylcqHBQ7FvHH4HsPLqTmRtnMn3DdL7a/hWp6alUKVGFHvV60KtBLzpe0JFihYsFXMdvh3+j08RO7Dq2i89u/IwudboE3KavqCqPJj7KiO9G0LdJX97t+S7RUdFuy/IJVeW9Ve/xSOIjHDl1hIfbPMyTsU9SPLq429KyJTUtjcK+5GgoQLg1s591/BHO4eTDzN08lxkbZzBn8xyOnT5GiegSdK3TlZ71exJfLz4gOW027N9Ap4mdOHbqGHP6zuGy6pf53UZ+UVVe/OZFHl/0ON3rdefj6z8mJjrGbVnZsn7fegbNHsTS35ZyefXLebP7mzSu3NhtWZZ8oKp8tv4z7p13L7uP7eaei+/huQ7PUaZYmYDZtI6/AHEq9RRfbf+KGRtmMGPjDHYf302URHFFjSvo1aAXPev3pEbZGvm2s+KPFXT9sCtREsX8m+fT7JxmflAfON748Q0GzxnMFTWuYGafmZQuWtptSWdxMuUkz3/9PC99+xIli5RkWKdhDGgxICxDVJbMOXrqKE8uepLXfnyNyiUqM7rLaG5sdGNA2kGs4y+gpGs6SX8kMX3DdGZsnMG6fesAaH5O8zPZBptVaZbrH92S7Uvo8VEPyseUJ/GWROpWqBsI+X7nozUfcev0W2lWpRlz+86lUolKbks6Q+LWRO6efTdbD23llqa3MKLzCCqXqOy2LEuASPojiYGzBrJy90q61unK2G5juaDcBX61YR2/BYDNBzaf6YmxbMcyFKVGmRr0rN+Tng160u78djnGwGdtmsUNn9xArbK1SLwlkWqlqwVJvX+YvWk2139yPTXL1mTBzQuC3tMiI38e/5MH5z/IR798RL0K9Xgj/g061OrgqiZLcEhNT2Xs8rE88dUTpKan8uQVT/LwZQ9TJKqIX8oPKccvIl2BMUAU8Laqvpjd/tbxB4Y9x/cwa9MsZmycQeK2RJJTkylXrBzx9eLpVb8XXep0oWSRkv845sPVH9Jvej9anNuCuX3nUrF4RZfU54+vf/ua7h91p2yxsiTekki9CvWCriFd0xm/YjyPLXyMk6knebzt4/yn7X+C0iBvCS12Ht3JffPu47P1n3FhpQsZ130cbc9vm+9yQ8bxi0gUsAnoBOwEfgT6qOq6rI6xjj/wnDh9ggVbFzB943RmbZrFwZMHKRpVlCsvuJKe9XvSo34PPlv/GUPmDCG2ZiwzbpoRkjHy3LBy90q6TuqKiDD/5vk0P6d50Gyv3rOagbMG8v3O7+lQqwNvxL/hys3HElrM2jSLwXMG8/uR37m9HuFhkAAAC55JREFUxe28dOVLVCheIc/lhZLjbwMkqGoX5/N/AVT1hayOyavjP3RbCwr/8mtepRZo0tJTSUlPISUthXSv30jhqMKUiC7hojL/kq7pHD99HFUNagNquqYjIsQULka0nx7rLZGCkpx6ilOppxCB9Ca1qT55S86HZUJWjj84owj+STVgh9fnncAlGXcSkbuAuwDOP//84CiznCGqUGGiChWmWOEY0jWNlLQUQChauKjb0vxKISlEqSIlSU5NRgleJShaClM0qliBHNFqyQmhWOFiFImK5mRKMtFR/g/9ueH4M/uln/WPU9XxwHgwNf68GCr33k95OcxSAAnvoJUlUglUD383OgfvBLy7UZwH/OGCDovFYimQuOH4fwTqikgtESkC3ATMdEGHxWKxFEiCHupR1VQRGQLMx3TnnKCqa4Otw2KxWAoqbsT4UdU5wBw3bFssFktBxyYAsVgslgKGdfwWi8VSwLCO32KxWAoY1vFbLBZLASMssnOKyD7gtzweXhHY70c5BdleJJ9bsO1F8rkF214kn1t+7dVQ1bNyj4eF488PIpKUWa4Kay+0bUW6vUg+t2Dbi+RzC5Q9G+qxWCyWAoZ1/BaLxVLAKAiOf7y1F5a2It1eJJ9bsO1F8rkFxF7Ex/gtFovF8k8KQo3fYrFYLF5Yx2+xWCwFjIhx/CJyPEh20kRklddSM4C2VEQmen0uLCL7RGRWoGw6dq5xbDdwPsf5y2Zez0lEWonIK36wH5TfSW7tishiEclzl72M31kwEJH/ichaEVnt/BfOmknPa9/bRKRqPmydJyIzRGSziGwVkTFOWvfsjnk8D3ZUREZ6fX5YRBLyINlXex5/slZEfhaRB0UCPwdoxDj+IHJSVZt7LdsDaOsE0FhEYpzPnYBduSlARPKSgbUP8A1mroTc2IryYbc8nZOqJqnqvbnRU8DI03eWV5y5s7sDF6lqU+BK/jmlakZuA/Lk+MXMT/kZMF1V6wL1gJLAczkcmmvHD5wCrhWRink4Ni94/EkjzH+hG/B/gTYaUY5fREqKyJcislJE1ohIT2d9TRFZLyJvOXfWBV6Oxx92o0RkuIj86NR+Bjrrp4pIN6/93hOR63JZ/Fwg3nnfB/jIq7zWIrJMRH5yXus7628TkU9E5AtgQS7PpSRwOXA7/3QipUXkcxFZJyJvemolInJcRJ4WkR+ANgE8pzNPHSJSXkSmO9f6exFpmstz/McTjIi8JiK3Oe+3i8hQr9+Q32rQ2dnNZ7lnfWciUkhEXnd+77NEZI6IXO9s6+hc3zUiMkFE8jKR8rnAflU9BaCq+1X1DxFpKSJLRGSFiMwXkXMdu62AD53abW7/ex2AZFV917GVBjwADBCRe0TkNa9rMcu5zi8CMY69D3NhKxXTi+aBjBtEpIbjX1Y7r+eLSBnnN+P5PxQXkR0iEp3Lc0RV92LmGR8ihqz8ytPyd8Rhl4i8m1tbEeX4gWTgGlW9CGgPjHRqCwB1gbHOnfUwkFsH7CHG66J/7qy7HTiiqhcDFwN3ikgtYArQG0DMY2lHcj8PwRTgJhEpBjQFfvDatgG4QlVbAE8Bz3ttawP0U9UOubTXC5inqpuAgyJykbO+NfAQ0ASoDVzrrC8B/KKql6jqNwE+Jw9DgZ+cmubjwAc+n51v7Hd+Q28AD/u57ECQ2Xd2LVAT833dgXNTdq75e0BvVW2CmZPj7jzYXABUF5FNzg0m1nF2rwLXq2pLYALwnKpOA5KAvk7t9mQubTUCVnivUNWjwO9kMaeIqj7G37Xpvrm0NxboKyIZp7x9DfjA+d19CLyiqkeAn4FYZ58ewHxVTcmlTY/ubRi/XJks/IqqPqWqzR2bBxxducKViVgCiADPi8gVQDpQDajibPtVVVc571dg/hR54aRz0b3pDDT11KgwcyTXxdRsX3FqVF2Bpbn90avqajHtCH04+6ZRBnhfROpiJqz3rmUkqurB3Nhy6AOMdt5PcT7PBpY7P0pE5COgLTANSAM+zY2BfJyTh7Y4N25VXSQiFUSkjPMn9AefOa8r+PsGF8pk9p1FA5+oajrwp4h85Wyvj/kvbHI+vw8M9jreJ1T1uIi0BNphKllTgWeBxkCiU9+KAnbn9aS8EMxvwdf1+UJVj4rIB8C9gPf/tQ1//x4mAsOc91MxFbyvME9cr+dTgqeympVf+dWp0H4IjFLVFZmUkS2R5vj7ApWAlqqaIiLbgWLOtlNe+6UBfgv1YL6of6vq/LM2iCwGumB+GB9l3O4jM4ERQBxQwWv9M8BXqnqN40gXe207kVsjIlIB81jdWEQU88dVjHPO+AfzfE52Hr1zS17O6YzUTNblxgGk8s+n3WIZtnt+K2n49z+Sk91ck8139nlWh+TXpgfne18MLBaRNZgbyFpV9TXk5ytryfCELiKlgerAEfx8TR1GAyuB7MIont/cTOAFESkPtAQW5dWoiFyA+d3tJRu/AiQAOz3hr9wSaaGeMsBex+m3B2oEye584G5PXE9E6olICWfbFKA/pmaU2RfoCxOAp1V1TYb1Zfi7YfS2PJbtzfWYR9kaqlpTVasDv2Jq2K1FpJYTy+yNaUjMD/k5p6WYmzwiEocJzRzNhe3fgAtFpKjzON8xF8fmh0DYzeo72w9c58T6q2BusGBCaTVFpI7z+RZgSW6Nikh956nMQ3NgPVBJTMMvIhItIo2c7ceAUrm14/AlUFxEbnXKjQJGYkJW24DmznlWx4QkPaTkJdYO8P/t3U+IVWUcxvHv40AozEIqW4hEzLKgMMSFQhsTF4WgWVFNRNnCjSm00gz8s5mEFqaIY9IfyEWFbXKj2HJKxtC8TqNmmJALV1EQlInzc/F7D3NxZujecbxX5zyfzTBzz73vOZxzf/Oe8573OeVs+Svyckvle8bHvV6jfAci4m9gGNgDHJ1mRwhJC4ADwL7ImbWT1hVJz5MDwdO+2WFWFH7lnSvXyVOfJZJ+JHfMhQ6twiFgFDgtaQQYZLyneBx4BjgREf9N58Mj4mpE7Jnkpd1kT2OI7OndqVeY2FM8ArwK/AAMACNkYZmqR9mSO9ym7eR+bpR1eqOVNqvjJCJ+J7/UDfKYOdPm6rflLrc71T5bCFwl99cgOY7yV0T8S3ZEvi699DGy2LSrl7wkN1r2w+PkmMw64ANJZ4GfgGVl+c+AA9MZ3C1FcA3woqRLwC/keN5WYIg8Hs+RZ5Cnm956EGi0Objb7EMyErnyDvBm2d7XgU1Nr30J9Jef7ajGDH8GTpD1Ykd5baq68i65f4fLe3e22ebsiGyQ9BTwcUQs/d+Frba6dZx0sd3eci3+IbJHujwirnVyHezedN9f45e0gfxPvLnb62L3rm4dJ10+Po9Kmg88AOxy0bfKrOjxm5lZ62bFNX4zM2udC7+ZWc248JuZ1YwLv5lZzbjwm5nVjAu/1Z4yvfWCpEOSRiQdlvSspCFl/vvSMmPyE2VS4hmNJ78+IamaSNOoZrNK6m/6+6AyabFHmdA6okzGnJAAadYJvp3Taq9kAv0KLCZzYU6RiYvrgdXkTNdRYDQivij3xg+X5QeAkxFxWJnA2kMGAO4G1pb4kP3AyfLZAxGxsrQ7PyL+7NR2mlXu+wlcZjPktyo3qEyf/y4iosQaPAYsAlZLqmKa5wKPklEW70laBHwTEZckrSDDuk6VlMp5ZOjWt0CfpL1k4mlbz0owmyku/GapOb11rOn3MfJ7chN4ISIu3va+88qH0DwHHJP0Npmq+HlEbLm9kRLfsIpMsnwJeGtGt8KsBb7Gb9aaY8DGkoOOpMXlZx9wOSI+IuN5nyTTJNdJeqQs86Dy6U0PA3Mi4gjwPvD0JO2Y3XXu8Zu1ZheZ0d4oxf8K+czZl4F+STeAa2TU9B+StgHHS4z1DbKH/w/wqcYfpj3hjMCsEzy4a2ZWM77UY2ZWMy78ZmY148JvZlYzLvxmZjXjwm9mVjMu/GZmNePCb2ZWM7cA05svjFu1/AIAAAAASUVORK5CYII=\n",
      "text/plain": [
       "<Figure size 432x288 with 1 Axes>"
      ]
     },
     "metadata": {
      "needs_background": "light"
     },
     "output_type": "display_data"
    },
    {
     "data": {
      "image/png": "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\n",
      "text/plain": [
       "<Figure size 432x288 with 1 Axes>"
      ]
     },
     "metadata": {
      "needs_background": "light"
     },
     "output_type": "display_data"
    }
   ],
   "source": [
    "Facade.roubosDP(1)"
   ]
  },
  {
   "cell_type": "code",
   "execution_count": 8,
   "metadata": {},
   "outputs": [
    {
     "name": "stdout",
     "output_type": "stream",
     "text": [
      " ---------------------------------------------------------------\n",
      " Departamento 3 \n",
      " ---------------------------------------------------------------\n"
     ]
    },
    {
     "data": {
      "text/html": [
       "<div>\n",
       "<style scoped>\n",
       "    .dataframe tbody tr th:only-of-type {\n",
       "        vertical-align: middle;\n",
       "    }\n",
       "\n",
       "    .dataframe tbody tr th {\n",
       "        vertical-align: top;\n",
       "    }\n",
       "\n",
       "    .dataframe thead th {\n",
       "        text-align: right;\n",
       "    }\n",
       "</style>\n",
       "<table border=\"1\" class=\"dataframe\">\n",
       "  <thead>\n",
       "    <tr style=\"text-align: right;\">\n",
       "      <th></th>\n",
       "      <th>RO</th>\n",
       "      <th>RV</th>\n",
       "      <th>RB</th>\n",
       "      <th>RC</th>\n",
       "    </tr>\n",
       "  </thead>\n",
       "  <tbody>\n",
       "    <tr>\n",
       "      <th>2017</th>\n",
       "      <td>112</td>\n",
       "      <td>15</td>\n",
       "      <td>0</td>\n",
       "      <td>0</td>\n",
       "    </tr>\n",
       "    <tr>\n",
       "      <th>2018</th>\n",
       "      <td>75</td>\n",
       "      <td>20</td>\n",
       "      <td>0</td>\n",
       "      <td>6</td>\n",
       "    </tr>\n",
       "  </tbody>\n",
       "</table>\n",
       "</div>"
      ],
      "text/plain": [
       "       RO  RV  RB  RC\n",
       "2017  112  15   0   0\n",
       "2018   75  20   0   6"
      ]
     },
     "metadata": {},
     "output_type": "display_data"
    },
    {
     "name": "stdout",
     "output_type": "stream",
     "text": [
      "- 2017\n"
     ]
    },
    {
     "data": {
      "text/html": [
       "<div>\n",
       "<style scoped>\n",
       "    .dataframe tbody tr th:only-of-type {\n",
       "        vertical-align: middle;\n",
       "    }\n",
       "\n",
       "    .dataframe tbody tr th {\n",
       "        vertical-align: top;\n",
       "    }\n",
       "\n",
       "    .dataframe thead th {\n",
       "        text-align: right;\n",
       "    }\n",
       "</style>\n",
       "<table border=\"1\" class=\"dataframe\">\n",
       "  <thead>\n",
       "    <tr style=\"text-align: right;\">\n",
       "      <th></th>\n",
       "      <th>Natureza</th>\n",
       "      <th>Frequencia Absoluta</th>\n",
       "      <th>Frequencia Relativa(%)</th>\n",
       "    </tr>\n",
       "  </thead>\n",
       "  <tbody>\n",
       "    <tr>\n",
       "      <th>0</th>\n",
       "      <td>RO</td>\n",
       "      <td>112</td>\n",
       "      <td>88.19</td>\n",
       "    </tr>\n",
       "    <tr>\n",
       "      <th>1</th>\n",
       "      <td>RV</td>\n",
       "      <td>15</td>\n",
       "      <td>11.81</td>\n",
       "    </tr>\n",
       "    <tr>\n",
       "      <th>2</th>\n",
       "      <td>RB</td>\n",
       "      <td>0</td>\n",
       "      <td>0.0</td>\n",
       "    </tr>\n",
       "    <tr>\n",
       "      <th>3</th>\n",
       "      <td>RC</td>\n",
       "      <td>0</td>\n",
       "      <td>0.0</td>\n",
       "    </tr>\n",
       "  </tbody>\n",
       "</table>\n",
       "</div>"
      ],
      "text/plain": [
       "  Natureza  Frequencia Absoluta Frequencia Relativa(%)\n",
       "0       RO                  112                  88.19\n",
       "1       RV                   15                  11.81\n",
       "2       RB                    0                    0.0\n",
       "3       RC                    0                    0.0"
      ]
     },
     "metadata": {},
     "output_type": "display_data"
    },
    {
     "name": "stdout",
     "output_type": "stream",
     "text": [
      "- 2018\n"
     ]
    },
    {
     "data": {
      "text/html": [
       "<div>\n",
       "<style scoped>\n",
       "    .dataframe tbody tr th:only-of-type {\n",
       "        vertical-align: middle;\n",
       "    }\n",
       "\n",
       "    .dataframe tbody tr th {\n",
       "        vertical-align: top;\n",
       "    }\n",
       "\n",
       "    .dataframe thead th {\n",
       "        text-align: right;\n",
       "    }\n",
       "</style>\n",
       "<table border=\"1\" class=\"dataframe\">\n",
       "  <thead>\n",
       "    <tr style=\"text-align: right;\">\n",
       "      <th></th>\n",
       "      <th>Natureza</th>\n",
       "      <th>Frequencia Absoluta</th>\n",
       "      <th>Frequencia Relativa(%)</th>\n",
       "    </tr>\n",
       "  </thead>\n",
       "  <tbody>\n",
       "    <tr>\n",
       "      <th>0</th>\n",
       "      <td>RO</td>\n",
       "      <td>75</td>\n",
       "      <td>74.26</td>\n",
       "    </tr>\n",
       "    <tr>\n",
       "      <th>1</th>\n",
       "      <td>RV</td>\n",
       "      <td>20</td>\n",
       "      <td>19.8</td>\n",
       "    </tr>\n",
       "    <tr>\n",
       "      <th>2</th>\n",
       "      <td>RB</td>\n",
       "      <td>0</td>\n",
       "      <td>0.0</td>\n",
       "    </tr>\n",
       "    <tr>\n",
       "      <th>3</th>\n",
       "      <td>RC</td>\n",
       "      <td>6</td>\n",
       "      <td>5.94</td>\n",
       "    </tr>\n",
       "  </tbody>\n",
       "</table>\n",
       "</div>"
      ],
      "text/plain": [
       "  Natureza  Frequencia Absoluta Frequencia Relativa(%)\n",
       "0       RO                   75                  74.26\n",
       "1       RV                   20                   19.8\n",
       "2       RB                    0                    0.0\n",
       "3       RC                    6                   5.94"
      ]
     },
     "metadata": {},
     "output_type": "display_data"
    },
    {
     "data": {
      "image/png": "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\n",
      "text/plain": [
       "<Figure size 432x288 with 1 Axes>"
      ]
     },
     "metadata": {
      "needs_background": "light"
     },
     "output_type": "display_data"
    },
    {
     "data": {
      "image/png": "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\n",
      "text/plain": [
       "<Figure size 432x288 with 1 Axes>"
      ]
     },
     "metadata": {
      "needs_background": "light"
     },
     "output_type": "display_data"
    },
    {
     "data": {
      "image/png": "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\n",
      "text/plain": [
       "<Figure size 432x288 with 1 Axes>"
      ]
     },
     "metadata": {
      "needs_background": "light"
     },
     "output_type": "display_data"
    }
   ],
   "source": [
    "Facade.roubosDP(2)"
   ]
  },
  {
   "cell_type": "code",
   "execution_count": 1,
   "metadata": {},
   "outputs": [],
   "source": [
    "import numpy as np\n",
    "import matplotlib.pyplot as plt\n",
    "import pandas as pd\n",
    "import csv\n",
    "\n",
    "%matplotlib inline\n",
    "\n",
    "###########################################################\n",
    "## Class Facade\n",
    "## This class process the datas and build the graphs and tables || its a middleware\n",
    "###########################################################\n",
    "class Facade:\n",
    "    \n",
    "\n",
    "    @staticmethod\n",
    "    def furtos():\n",
    "        #Table.showFurtosSigla()\n",
    "        a = Data.getFurtos('2017')\n",
    "        b = Data.getFurtos('2018')\n",
    "\n",
    "        \n",
    "        Facade.mensagem('Análise Geral de Furtos')\n",
    "        titulo = 'Análise de Furtos em 2017 e 2018'\n",
    "        columns = ['FO','FV']\n",
    "        index = ['2017','2018']\n",
    "        Facade.graficoGeral([a,b], titulo, columns, index)\n",
    "        Facade.estatistica(a, columns)\n",
    "        Facade.estatistica(b, columns)\n",
    "         \n",
    "        \n",
    "    @staticmethod\n",
    "    def estupros():\n",
    "        Table.showEstuprosSigla()\n",
    "        \n",
    "        a, a1 = Data.getEstupros('2017')\n",
    "        b, b1 = Data.getEstupros('2018')\n",
    "        \n",
    "        columns = ['ES','ESV']\n",
    "        index = ['2017','2018']\n",
    "        titulo = 'Análise de Estupros em 2017 e 2018'\n",
    "        \n",
    "        Facade.mensagem('Análise Geral de Estupros') \n",
    "        Facade.graficoGeral([a,b], titulo, columns, index)\n",
    "        Facade.estatistica(a, columns)\n",
    "        Facade.estatistica(b, columns)\n",
    "        Facade.graficoPorMes(a1, ['Es','ESV'],['-b','-g'] ,'Estupros registrados em 2017','meses', 'quantidade')\n",
    "        Facade.graficoPorMes(b1, ['Es','ESV'],['-b','-g'] ,'Estupros registrados em 2018','meses', 'quantidade')\n",
    "\n",
    "    @staticmethod\n",
    "    def roubos():\n",
    "        Table.showRoubosSigla()\n",
    "        \n",
    "        a, a1 = Data.getRoubos('2017')\n",
    "        b, b1 = Data.getRoubos('2018')\n",
    "        columns = ['RO','RV','RB','RC']\n",
    "        index = ['2017','2018']\n",
    "        titulo = 'Análise de Roubos em 2017 e 2018'\n",
    "          \n",
    "        Facade.mensagem('Análise Geral de Roubos')\n",
    "        Facade.graficoGeral([a,b], titulo, columns, index)\n",
    "        Facade.estatistica(a, columns)\n",
    "        Facade.estatistica(b, columns)\n",
    "        Facade.graficoPorMes(a1, columns,['-b','-g','-y','-r'] ,'Roubos registrados em 2017','meses', 'quantidade')\n",
    "        Facade.graficoPorMes(b1, columns,['-b','-g','-y','-r'] ,'Roubos registrados em 2018','meses', 'quantidade')\n",
    "\n",
    "    @staticmethod \n",
    "    def lesoes():\n",
    "        Table.showLesoesSigla()\n",
    "        \n",
    "        a = Data.getLesoes('2017')\n",
    "        b = Data.getLesoes('2018')\n",
    "        c = Data.getLesoes('2019')\n",
    "        titulo= 'Análise de Lesões Corporais em 2017 e 2018'\n",
    "        columns = ['LCSM','LCD','LCCAT','LCCO']\n",
    "        index = ['2017','2018','2019']\n",
    "        \n",
    "        Facade.mensagem('Análise Geral de Lesões')\n",
    "        Facade.graficoGeral([a,b,c], titulo, columns, index)\n",
    "        Facade.estatistica(a, columns)\n",
    "        Facade.estatistica(b, columns)\n",
    " \n",
    "    @staticmethod\n",
    "    def homicidios():\n",
    "        Table.showHomicidiosSigla()\n",
    "\n",
    "        a,a1 = Data.getHomicidios('2017')\n",
    "        b,b1 = Data.getHomicidios('2018')\n",
    "        c,c1 = Data.getHomicidios('2019')\n",
    "        titulo = 'Análise de Homicidios em 2017 e 2018'\n",
    "        index = ['2017','2018','2019']\n",
    "        columns = ['HD','HDAT','HCAT','HCO','TH']\n",
    "        \n",
    "        Facade.mensagem('Análise Geral de Homicidios')\n",
    "        Facade.graficoGeral([a,b,c], titulo, columns, index)\n",
    "        Facade.estatistica(a, columns)\n",
    "        Facade.estatistica(b, columns)\n",
    "        Facade.graficoPorMes(a1, columns,['-b','-g','-y','-r','-o'] ,'Homicídios registrados em 2017','meses', 'quantidade')\n",
    "        Facade.graficoPorMes(b1, columns,['-b','-g','-y','-r','-o'] ,'Homicídios registrados em 2018','meses', 'quantidade')\n",
    "\n",
    "        \n",
    "    @staticmethod \n",
    "    def homicidiosDP(dp):\n",
    "        a = Data.getHomicidiosDP('2017', dp)\n",
    "        b = Data.getHomicidiosDP('2018', dp)\n",
    "        c = Data.getHomicidiosDP('2019', dp)\n",
    "        index = ['2017','2018', '2019']\n",
    "        titulo = 'DP0'+str(dp+1)+' - Análise de Homicidios em 2017,2018 e 2019'\n",
    "        columns = ['HD','HDAT','HCAT','HCO','TH']\n",
    "        Facade.mensagem('Departamento ' + str(dp+1))\n",
    "        Facade.graficoGeral([a,b,c], titulo, columns, index)\n",
    "        print('- 2017')\n",
    "        Facade.estatistica(a, columns)\n",
    "        print('- 2018')\n",
    "        Facade.estatistica(b, columns)\n",
    "        print('- 2019')\n",
    "        Facade.estatistica(c, columns)\n",
    "        \n",
    "    @staticmethod \n",
    "    def lesoesDP(dp):\n",
    "        \n",
    "        a = Data.getLesoesDP('2017',dp)\n",
    "        b = Data.getLesoesDP('2018', dp)\n",
    "        c = Data.getLesoesDP('2019',dp)\n",
    "        titulo= 'DP0'+str(dp+1)+' - Análise de Lesões Corporais em 2017,2018 e 2019'\n",
    "        columns = ['LCSM','LCD','LCCAT','LCCO']\n",
    "        index = ['2017','2018','2019']\n",
    "        \n",
    "        Facade.mensagem('Departamento '+ str(dp+1))\n",
    "        Facade.graficoGeral([a,b,c], titulo, columns, index)\n",
    "        print('- 2017')\n",
    "        Facade.estatistica(a, columns)\n",
    "        print('- 2018')\n",
    "        Facade.estatistica(b, columns)\n",
    "        print('- 2019')\n",
    "        Facade.estatistica(c, columns)\n",
    "        \n",
    "    @staticmethod\n",
    "    def estuprosDP(dp):\n",
    "        \n",
    "        a, a1 = Data.getEstuprosDP('2017',dp)\n",
    "        b, b1 = Data.getEstuprosDP('2018',dp)\n",
    "        \n",
    "        columns = ['ES','ESV']\n",
    "        index = ['2017','2018']\n",
    "        titulo = 'DP0'+str(dp+1)+' - Análise de Estupros em 2017 e 2018'\n",
    "        \n",
    "        Facade.mensagem('Departamento '+ str(dp+1)) \n",
    "        Facade.graficoGeral([a,b], titulo, columns, index)\n",
    "        print('- 2017')\n",
    "        Facade.estatistica(a, columns)\n",
    "        print('- 2018')\n",
    "        Facade.estatistica(b, columns)\n",
    "\n",
    "        Facade.graficoPorMes(a1, ['Es','ESV'],['-b','-g'] ,'Estupros registrados em 2017','meses', 'quantidade')\n",
    "        Facade.graficoPorMes(b1, ['Es','ESV'],['-b','-g'] ,'Estupros registrados em 2018','meses', 'quantidade')\n",
    "\n",
    "    @staticmethod\n",
    "    def roubosDP(dp):\n",
    "        a, a1 = Data.getRoubosDP('2017',dp)\n",
    "        b, b1 = Data.getRoubosDP('2018',dp)\n",
    "        columns = ['RO','RV','RB','RC']\n",
    "        index = ['2017','2018']\n",
    "        titulo = 'DP0'+str(dp+1)+' - Análise de Roubos em 2017 e 2018'\n",
    "          \n",
    "        Facade.mensagem('Departamento '+ str(dp+1))\n",
    "        Facade.graficoGeral([a,b], titulo, columns, index)\n",
    "        print('- 2017')\n",
    "        Facade.estatistica(a, columns)\n",
    "        print('- 2018')\n",
    "        Facade.estatistica(b, columns)\n",
    "        Facade.graficoPorMes(a1, columns,['-b','-g','-y','-r'] ,'Roubos registrados em 2017','meses', 'quantidade')\n",
    "        Facade.graficoPorMes(b1, columns,['-b','-g','-y','-r'] ,'Roubos registrados em 2018','meses', 'quantidade')\n",
    "\n",
    "\n",
    "\n",
    "        \n",
    "    \n",
    "    ##################### UTILS\n",
    "\n",
    "    @staticmethod\n",
    "    def static(a):\n",
    "        sa = sum(a)\n",
    "        return [str(round(((a[x] * 100)/ sa), 2)) for x in range(len(a))]\n",
    "        \n",
    "\n",
    "    @staticmethod\n",
    "    def graficoGeral(data, titulo,columns, index):\n",
    "        fig, (ax) = plt.subplots(nrows = 1,ncols = 1)\n",
    "        ax.set_title(titulo)\n",
    "        df = pd.DataFrame(data, columns = columns, index = index)\n",
    "        df.plot.bar(ax = ax)\n",
    "        display(df)\n",
    "    \n",
    "    @staticmethod\n",
    "    def estatistica(data, columns):\n",
    "        ax = Facade.static(data)\n",
    "        columns =  columns\n",
    "        df = Table.create(['Natureza','Frequencia Absoluta','Frequencia Relativa(%)'],[columns, data, ax])\n",
    "        display(df)\n",
    "\n",
    "        \n",
    "    @staticmethod\n",
    "    def graficoPorMes(data, label, color,title, ylabel = None, xlabel = None):\n",
    "        fig, (ax) = plt.subplots(nrows = 1,ncols = 1)\n",
    "        meses = ['Jan','Fev','Mar','Abr','Maio','Jun','Jul','Ago','Set','Out','Nov','Dez']\n",
    "        for i in range(len(data)):\n",
    "            plt.plot(meses, data[i], color[i], label= label[i])\n",
    "        plt.legend(loc = 'upper right')\n",
    "        plt.xlabel(ylabel)\n",
    "        plt.ylabel(xlabel)\n",
    "        plt.title(title)\n",
    "    \n",
    "    @staticmethod\n",
    "    def mensagem(mensagem):\n",
    "        print(' ---------------------------------------------------------------')\n",
    "        print(' {0} '. format(mensagem))\n",
    "        print(' ---------------------------------------------------------------')\n",
    "    \n",
    "    \n",
    "###########################################################\n",
    "## This class call the CSV Files and convert to a matrix\n",
    "###########################################################\n",
    "class CsvI:\n",
    "    \n",
    "    @staticmethod\n",
    "    def read(file):\n",
    "        matrix = []\n",
    "        \n",
    "        with open(file, encoding=\"utf8\") as csvFile:\n",
    "            reader = csv.reader(csvFile)\n",
    "            for row in reader:\n",
    "                matrix.append(row)\n",
    "            csvFile.close()\n",
    "        \n",
    "        return matrix\n",
    "###########################################################\n",
    "## This class build tables\n",
    "###########################################################\n",
    "class Table:\n",
    "\n",
    "    @staticmethod\n",
    "    def create(titles, values):\n",
    "        dic = {}\n",
    "        for i in range(len(titles)):\n",
    "            dic[titles[i]] = values[i]\n",
    "        df = pd.DataFrame(dic)\n",
    "        return df\n",
    "    \n",
    "    @staticmethod\n",
    "    def showHomicidiosSigla():\n",
    "        display(Table.create(['Natureza', 'Sigla'], \n",
    "                            [\n",
    "                                ['Homicídio Doloso',\n",
    "                                 'Homicídio Doloso Acidente de Transito',\n",
    "                                 'Homicídio Culposo Acidente de Transito',\n",
    "                                 'Homicídio Culposo Outros',\n",
    "                                'Tentativa de Homicídio'],\n",
    "                                ['HD','HDAT','HCAT','HCO','TH']\n",
    "                            ]\n",
    "                            ))\n",
    "    \n",
    "    def formatLines(matrix, aux = None):\n",
    "        dic = []\n",
    "        for l in range(len(matrix[0])):\n",
    "            dic.append([])\n",
    "            if aux is not None:\n",
    "                dic[l].append(aux[l])\n",
    "            for j in range(len(matrix)):\n",
    "                dic[l].append(matrix[j][l])\n",
    "        return dic\n",
    "                \n",
    "    @staticmethod\n",
    "    def showEstuprosSigla():\n",
    "        display(Table.create(['Natureza','Sigla'],\n",
    "                            [\n",
    "                                ['Estupro','Estupro de Vunerável'],\n",
    "                                ['ES','ESV']\n",
    "                            ]\n",
    "                            ))\n",
    "    @staticmethod\n",
    "    def showRoubosSigla():\n",
    "        display(Table.create(['Natureza','Sigla'],\n",
    "                            [\n",
    "                                ['Roubo - Outros','Roubo de Veiculos','Roubo a Banco','Roubo de Carga'],\n",
    "                                ['RO', 'RV','RB','RC']\n",
    "                            ]\n",
    "                            ))\n",
    "    @staticmethod\n",
    "    def showLesoesSigla():\n",
    "        display(Table.create(['Natureza', 'Sigla'], \n",
    "                            [\n",
    "                                ['Lesão Corporal Seguida de Morte',\n",
    "                                 'Lesão Corporal Dolosa',\n",
    "                                 'Lesão Corporal Culposo Acidente de Transito',\n",
    "                                 'Lesão Corporal Culposo Outros'],\n",
    "                                ['LCSM','LCD','LCCAT','LCCO']\n",
    "                            ]\n",
    "                            ))\n",
    "    \n",
    "###########################################################\n",
    "## This class process the datas\n",
    "###########################################################\n",
    "class Data:\n",
    "\n",
    "    @staticmethod \n",
    "    def getHomicidios(year):\n",
    "        return [Data.source([1,3,5,6,7],year), Data.sourceMensal([1,3,5,6,7], year)]\n",
    "\n",
    "    @staticmethod \n",
    "    def getLesoes(year):\n",
    "        return [Data.source([8,9,10,11],year),Data.sourceMensal([8,9,10,11],year) ]\n",
    "\n",
    "    @staticmethod \n",
    "    def getEstupros(year):\n",
    "        return [Data.source([15, 16],year), Data.sourceMensal([15,16], year)]\n",
    "    @staticmethod \n",
    "    def getRoubos(year):\n",
    "        return [Data.source([18, 19, 20, 21],year), Data.sourceMensal([18, 19, 20, 21],year) ]\n",
    "    \n",
    "    @staticmethod\n",
    "    def getFurtos(year):\n",
    "        return [Data.source([22,23],year), Data.sourceMensal([22,23],year) ]\n",
    "    \n",
    "    @staticmethod\n",
    "    def getHomicidiosDP(year, dp):\n",
    "        return Data.sourceDP(year,dp,[1,3,5,6,7])\n",
    "    \n",
    "    @staticmethod\n",
    "    def getLesoesDP(year, dp):\n",
    "        return Data.sourceDP(year,dp,[8,9,10,11])\n",
    "    \n",
    "    @staticmethod\n",
    "    def getEstuprosDP(year, dp):\n",
    "        return Data.sourceDP(year,dp,[15, 16])\n",
    "\n",
    "    @staticmethod\n",
    "    def getRoubosDP(year, dp):\n",
    "        return Data.sourceDP(year,dp,[18, 19, 20, 21])\n",
    "\n",
    "    @staticmethod\n",
    "    def getFurtosDP(year, dp):\n",
    "        return Data.sourceDP(year,dp,[22,23])\n",
    "\n",
    "    @staticmethod\n",
    "    def getEstuprosDP(year, dp):\n",
    "        return Data.sourceDP(year,dp,[15, 16]), Data.sourceDPMensal(year,dp,[15,16])\n",
    "\n",
    "    @staticmethod\n",
    "    def getRoubosDP(year, dp):\n",
    "        return Data.sourceDP(year,dp,[18, 19, 20, 21]), Data.sourceDPMensal(year,dp,[18, 19, 20, 21])\n",
    " \n",
    "    \n",
    "\n",
    "    \n",
    "    @staticmethod\n",
    "    def getDadosMensalDP(year, dp, mes):\n",
    "        return Data.sourceMensalDP(year, dp, mes)\n",
    "    \n",
    "    @staticmethod\n",
    "    def source(lines, year):\n",
    "        dic = []\n",
    "        for l in range(len(lines)):\n",
    "            dic.append([])\n",
    "            dic[l] = 0\n",
    "            for d in range(len(DPS)):\n",
    "                dic[l] += int(DPS[0]['{0}M'.format(year)][lines[l]][13])\n",
    "            \n",
    "        return dic\n",
    "\n",
    "    @staticmethod\n",
    "    def sourceMensal(lines, year):\n",
    "        dic = []\n",
    "        \n",
    "        for l in range(len(lines)):\n",
    "            dic.append([])\n",
    "            for m in range(1, 13):\n",
    "                dic[l].append([])\n",
    "                dic[l][m-1] = 0\n",
    "                for d in range(len(DPS)):\n",
    "                    dic[l][m-1] += int(DPS[d]['{0}M'.format(year)][lines[l]][m])\n",
    "        return dic\n",
    "    @staticmethod\n",
    "    def sourceDP(year,dp, lines):\n",
    "        dic = []\n",
    "        for i in range(1):\n",
    "            for j in range(len(lines)):\n",
    "                dic.append(int(DPS[dp]['{0}M'.format(year)][lines[j]][13]))\n",
    "        \n",
    "        return dic\n",
    "    def sourceDPMensal(year, dp, mes):\n",
    "        dic = []\n",
    "        for i in range(1):\n",
    "            for m in range(1, 24):\n",
    "                dic[i].append(DPS[dp]['{0}M'.format(year)][m][mes])\n",
    "        \n",
    "        return dic\n",
    "        \n",
    "    @staticmethod\n",
    "    def sourceDP(year,dp, lines):\n",
    "        dic = []\n",
    "        for i in range(1):\n",
    "            for j in range(len(lines)):\n",
    "                dic.append(int(DPS[dp]['{0}M'.format(year)][lines[j]][13]))\n",
    "        \n",
    "        return dic\n",
    "    \n",
    "    @staticmethod\n",
    "    def sourceDPMensal(year, dp, lines):\n",
    "        dic = []    \n",
    "        for l in range(len(lines)):\n",
    "            dic.append([])\n",
    "            for m in range(1, 13):\n",
    "                dic[l].append([])\n",
    "                dic[l][m-1] = 0\n",
    "                for d in range(1):\n",
    "                    dic[l][m-1] += int(DPS[dp]['{0}M'.format(year)][lines[l]][m])\n",
    "        \n",
    "        return dic\n",
    "                   \n",
    "        \n",
    "    \n",
    "DP01 = {\n",
    "    '2017': CsvI.read('./data/DP012017.csv'),\n",
    "    '2017M': CsvI.read('./data2/DP012017.csv'),\n",
    "    '2018' : CsvI.read('./data/DP012018.csv'),\n",
    "    '2018M' : CsvI.read('./data2/DP012018.csv'),\n",
    "    '2019' : CsvI.read('./data/DP012019.csv'),\n",
    "    '2019M' : CsvI.read('./data2/DP012019.csv')\n",
    "}\n",
    "DP02 = {\n",
    "    '2017': CsvI.read('./data/DP022017.csv'),\n",
    "    '2017M':CsvI.read('./data2/DP022017.csv'),\n",
    "    '2018' : CsvI.read('./data/DP022018.csv'),\n",
    "    '2018M': CsvI.read('./data2/DP022018.csv'),\n",
    "    '2019' : CsvI.read('./data/DP022019.csv'),\n",
    "    '2019M':CsvI.read('./data/DP022019.csv'),\n",
    "}\n",
    "DP03= {\n",
    "    '2017': CsvI.read('./data/DP032017.csv'),\n",
    "    '2017M': CsvI.read('./data2/DP032017.csv'),\n",
    "    '2018' : CsvI.read('./data/DP032018.csv'),\n",
    "    '2018M' : CsvI.read('./data2/DP032018.csv'),\n",
    "    '2019' : CsvI.read('./data/DP032019.csv'),\n",
    "    '2019M' : CsvI.read('./data2/DP032019.csv')\n",
    "}\n",
    "\n",
    "DPS = [DP01, DP02, DP03]\n",
    "\n"
   ]
  }
 ],
 "metadata": {
  "kernelspec": {
   "display_name": "Python 3",
   "language": "python",
   "name": "python3"
  },
  "language_info": {
   "codemirror_mode": {
    "name": "ipython",
    "version": 3
   },
   "file_extension": ".py",
   "mimetype": "text/x-python",
   "name": "python",
   "nbconvert_exporter": "python",
   "pygments_lexer": "ipython3",
   "version": "3.7.3"
  }
 },
 "nbformat": 4,
 "nbformat_minor": 2
}
