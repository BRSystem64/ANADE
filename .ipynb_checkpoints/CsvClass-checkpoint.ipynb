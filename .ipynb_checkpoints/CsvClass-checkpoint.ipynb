{
 "cells": [
  {
   "cell_type": "markdown",
   "metadata": {},
   "source": [
    "## ESTATÍSTICA DESCRITIVA\n",
    "\n",
    "                                                                            Bruno Bastos\n",
    "                                                                            Matheus Olimpio\n",
    "\n",
    "\n",
    "### 1.0 introdução\n",
    "Com o expansionismo das cidades, surge a necessidade de definir novos departamentos de polícia. As informações das ocorrências de cada departamento, permitem uma análise discretiva\n",
    "da cidade.\n",
    "Este projeto tem como objetivo a realização de uma análise descritiva no município de Guaratinguetá, pertencente ao estado de São Paulo, Brasil.\n",
    "    \n",
    "    \n",
    "### 2.0 Variáveis\n",
    "A primeira fase deste projeto é definir as variáveis do estudo. A cidade de Guaratinguetá possui três departamentos policiais, as ocorrências são separadas por categorias de crimes, e todas as ocorrências possuem uma data de registro. A partir desta informação, já é possível definir quatro variáveis de estudo, sendo elas, crimes, meses, anos e departamentos.\n",
    "##### 2.1 Classificação de Variáveis\n",
    "Todas as variáveis neste projeto são qualitativas. Podemos definir crimes e departamentos como  qualitativa nominal, e meses e anos como qualitativo ordinal.\n",
    "\n",
    "##### 2.2 Amostras\n",
    "A amostra de dados que será coletada, são pertencente ao ano de 2017, 2018 e 2019, sendo o último, um conjunto de amostra de apenas dois meses, Janeiro e Fevereiro. \n",
    "\n",
    "Os dados das analises realizada neste trabalho, estão presente no diretório **./data/**, todos com a extensão .csv, conforme fornecidos no site da SSP, http://www.ssp.sp.gov.br/Estatistica/Pesquisa.aspx.\n",
    "\n",
    "\n",
    "### 3.0 Metodologia\n",
    "##### 3.1  Leitor de Arquivo\n",
    "Os arquivos fornecidos pela SSP, conforme descrito acima são de extensão .csv. Portanto, foi necessário a criação de uma classe que tivesse a resposabilidade de criar uma interface com os arquivos CSV, a fim de que esses dados pudessem ser coletados e transformados em um formato de fácil manipulação para análise.\n",
    "\n",
    "#### 3.2 Legendas de Ocorrencias\n",
    "As ocorrências fornecidas pela SSP, possuem um nome consideravelmente extenso, dificultando a organização e visualização dos dados. Para amenizar essas dificuldades criaremos legendas com siglas para identificar uma ocorrencia.\n",
    "\n"
   ]
  },
  {
   "cell_type": "code",
   "execution_count": 15,
   "metadata": {},
   "outputs": [
    {
     "name": "stdout",
     "output_type": "stream",
     "text": [
      "+-------------------------------------------+-------+\n",
      "|                   Título                  | Sigla |\n",
      "+-------------------------------------------+-------+\n",
      "|   OCORRÊNCIAS DE PORTE DE ENTORPECENTES   |  OPE  |\n",
      "|  OCORRÊNCIAS DE TRÁFICO DE ENTORPECENTES  |  OTE  |\n",
      "| OCORRÊNCIAS DE APREENSÃO DE ENTORPECENTES |  OAE  |\n",
      "|    OCORRÊNCIAS DE PORTE ILEGAL DE ARMA    |  OPIA |\n",
      "|      Nº DE ARMAS DE FOGO APREENDIDAS      |  NAFA |\n",
      "|         Nº DE FLAGRANTES LAVRADOS         |  NFL  |\n",
      "| Nº DE INFRATORES APREENDIDOS EM FLAGRANTE |  NIAF |\n",
      "|  Nº DE INFRATORES APREENDIDOS POR MANDADO |  NIAM |\n",
      "|     Nº DE PESSOAS PRESAS EM FLAGRANTE     |  NPPF |\n",
      "|      Nº DE PESSOAS PRESAS POR MANDADO     |  NPPM |\n",
      "|          Nº DE PRISÕES EFETUADAS          |  NPE  |\n",
      "|         Nº DE VEÍCULOS RECUPERADOS        |  NVR  |\n",
      "|  TOT. DE INQUÉRITOS POLICIAIS INSTAURADOS |  TIPI |\n",
      "+-------------------------------------------+-------+\n"
     ]
    }
   ],
   "source": [
    "CsvI.tableDescrib()"
   ]
  },
  {
   "cell_type": "code",
   "execution_count": 43,
   "metadata": {},
   "outputs": [
    {
     "name": "stdout",
     "output_type": "stream",
     "text": [
      "+------------+-----+-----+-----+-----+-----+-----+-----+-----+-----+-----+-----+-----+-------+\n",
      "| Ocorrencia | Jan | Fev | Mar | Abr | Mai | Jun | Jul | Ago | Set | Out | Nov | Dez | Total |\n",
      "+------------+-----+-----+-----+-----+-----+-----+-----+-----+-----+-----+-----+-----+-------+\n",
      "|    OPE     |  4  |  2  |  0  |  1  |  2  |  0  |  1  |  2  |  0  |  0  |  1  |  0  |   13  |\n",
      "|    OTE     |  1  |  1  |  6  |  3  |  5  |  7  |  4  |  1  |  2  |  2  |  2  |  0  |   34  |\n",
      "|    OAE     |  0  |  0  |  0  |  0  |  0  |  0  |  0  |  0  |  0  |  0  |  0  |  0  |   0   |\n",
      "|    OPIA    |  0  |  0  |  0  |  1  |  2  |  0  |  1  |  1  |  1  |  1  |  0  |  0  |   7   |\n",
      "|    NAFA    |  0  |  0  |  0  |  1  |  1  |  0  |  0  |  1  |  4  |  3  |  0  |  0  |   10  |\n",
      "|    NFL     |  6  |  5  |  2  |  5  |  6  |  4  |  9  |  12 |  6  |  8  |  7  |  2  |   72  |\n",
      "|    NIAF    |  0  |  0  |  0  |  0  |  0  |  0  |  3  |  0  |  1  |  0  |  0  |  0  |   4   |\n",
      "|    NIAM    |  0  |  0  |  0  |  0  |  0  |  0  |  0  |  0  |  0  |  0  |  0  |  0  |   0   |\n",
      "|    NPPF    |  6  |  5  |  2  |  6  |  7  |  5  |  10 |  13 |  9  |  12 |  9  |  2  |   86  |\n",
      "|    NPPM    |  0  |  0  |  0  |  0  |  0  |  0  |  0  |  0  |  0  |  0  |  0  |  0  |   0   |\n",
      "|    NPE     |  6  |  5  |  2  |  5  |  6  |  4  |  9  |  12 |  6  |  8  |  7  |  2  |   72  |\n",
      "|    NVR     |  0  |  0  |  0  |  0  |  0  |  0  |  2  |  0  |  0  |  0  |  0  |  0  |   2   |\n",
      "|    TIPI    |  15 |  19 |  18 |  45 |  26 |  14 |  25 |  32 |  20 |  23 |  20 |  9  |  266  |\n",
      "+------------+-----+-----+-----+-----+-----+-----+-----+-----+-----+-----+-----+-----+-------+\n"
     ]
    }
   ],
   "source": [
    "import csv\n",
    "from prettytable import PrettyTable\n",
    "\n",
    "# CSV Implementation \n",
    "class CsvI:\n",
    "    \n",
    "    @staticmethod\n",
    "    def read(file):\n",
    "        matrix = []\n",
    "        \n",
    "        with open(file, encoding=\"utf8\") as csvFile:\n",
    "            reader = csv.reader(csvFile)\n",
    "            for row in reader:\n",
    "                matrix.append(row)\n",
    "            csvFile.close()\n",
    "        \n",
    "        return matrix\n",
    "    \n",
    "    @staticmethod\n",
    "    def toTable(table):\n",
    "        c = CsvI\n",
    "        linhas = []\n",
    "        colunas = c.toTable(DP01['2017'][0])\n",
    "        x = PrettyTable()\n",
    "        x.field_names = colunas\n",
    "        for i in range(1,len(c.toTable(DP01['2017']))):\n",
    "            linhas.append(c.toTable(DP01['2017'][i]))\n",
    "            x.add_row(linhas[i-1])\n",
    "        \n",
    "        return print(x)\n",
    "    \n",
    "    @staticmethod\n",
    "    def tableDescrib():\n",
    "        x = PrettyTable()\n",
    "        colunas = ['Título','Sigla']\n",
    "        x.field_names = colunas\n",
    "\n",
    "        x.add_row(['OCORRÊNCIAS DE PORTE DE ENTORPECENTES','OPE']);\n",
    "        x.add_row(['OCORRÊNCIAS DE TRÁFICO DE ENTORPECENTES','OTE']);\n",
    "        x.add_row(['OCORRÊNCIAS DE APREENSÃO DE ENTORPECENTES','OAE']);\n",
    "        x.add_row(['OCORRÊNCIAS DE PORTE ILEGAL DE ARMA','OPIA']);\n",
    "        x.add_row(['Nº DE ARMAS DE FOGO APREENDIDAS','NAFA']);\n",
    "        x.add_row(['Nº DE FLAGRANTES LAVRADOS','NFL']);\n",
    "        x.add_row(['Nº DE INFRATORES APREENDIDOS EM FLAGRANTE','NIAF']);\n",
    "        x.add_row(['Nº DE INFRATORES APREENDIDOS POR MANDADO','NIAM']);\n",
    "        x.add_row(['Nº DE PESSOAS PRESAS EM FLAGRANTE','NPPF']);\n",
    "        x.add_row(['Nº DE PESSOAS PRESAS POR MANDADO','NPPM']);\n",
    "        x.add_row(['Nº DE PRISÕES EFETUADAS','NPE']);\n",
    "        x.add_row(['Nº DE VEÍCULOS RECUPERADOS','NVR']);\n",
    "        x.add_row(['TOT. DE INQUÉRITOS POLICIAIS INSTAURADOS','TIPI']);\n",
    "\n",
    "        print(x)\n",
    "\n",
    "DP01 = {\n",
    "    '2017': CsvI.read('./data/DP012017.csv'),\n",
    "    '2018' : CsvI.read('./data/DP012018.csv'),\n",
    "    '2019' : CsvI.read('./data/DP012019.csv')\n",
    "}\n",
    "DP02 = {\n",
    "    '2017': CsvI.read('./data/DP022017.csv'),\n",
    "    '2018' : CsvI.read('./data/DP022018.csv'),\n",
    "    '2019' : CsvI.read('./data/DP022019.csv')\n",
    "}\n",
    "DP03= {\n",
    "    '2017': CsvI.read('./data/DP032017.csv'),\n",
    "    '2018' : CsvI.read('./data/DP032018.csv'),\n",
    "    '2019' : CsvI.read('./data/DP032019.csv')\n",
    "}\n"
   ]
  },
  {
   "cell_type": "markdown",
   "metadata": {},
   "source": [
    "##### 3.2 Manipulação dos dados\n",
    "Com os dados coletados pela classe CsvI(Csv Implementation), é necessário transformar esses dados em informação. Neste projeto, há uma classe chamada MathI(Math Implementation), responsável por realizar diversas técnicas utilizada na estatistica discritiva."
   ]
  },
  {
   "cell_type": "code",
   "execution_count": 17,
   "metadata": {},
   "outputs": [],
   "source": [
    "#Math Implementation\n",
    "class MathI:\n",
    "    \n",
    "    #Mounthly Average\n",
    "    @staticmethod\n",
    "    def monAvg(data):\n",
    "        pass\n",
    "    # total Average /with all years for all departaments/\n",
    "    @staticmethod\n",
    "    def totalAvg(data):\n",
    "        pass\n",
    "        \n",
    "    @staticmethod\n",
    "    def pizzaYear(array, year):\n",
    "        for aux in range(len(array)):\n",
    "            pass\n",
    "            \n",
    "            \n",
    "MathI.pizzaYear([DP01, DP02, DP03], '2018')"
   ]
  },
  {
   "cell_type": "markdown",
   "metadata": {},
   "source": [
    "### 4.0 Análise Discritiva\n",
    "\n",
    "\n",
    "###### 4.1 Distribuição de frequencia das ocorrências por departamento segundo o ano.\n",
    "\n",
    "###### 4.2 Distribuição de frequencia de crime por departamento\n",
    "\n"
   ]
  },
  {
   "cell_type": "code",
   "execution_count": null,
   "metadata": {},
   "outputs": [],
   "source": []
  }
 ],
 "metadata": {
  "kernelspec": {
   "display_name": "Python 3",
   "language": "python",
   "name": "python3"
  },
  "language_info": {
   "codemirror_mode": {
    "name": "ipython",
    "version": 3
   },
   "file_extension": ".py",
   "mimetype": "text/x-python",
   "name": "python",
   "nbconvert_exporter": "python",
   "pygments_lexer": "ipython3",
   "version": "3.7.3"
  }
 },
 "nbformat": 4,
 "nbformat_minor": 2
}
