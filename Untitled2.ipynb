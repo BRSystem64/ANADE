{
 "cells": [
  {
   "cell_type": "markdown",
   "metadata": {},
   "source": [
    "## ANÁLISE DISCRITIVA \n",
    "-------\n",
    "                                                                                Bruno Bastos\n",
    "                                                                                Matheus\n",
    "\n",
    "#### INTRODUÇÃO\n",
    "Atualmente, a cidade de guaratingueta é composta por três departamentos de policia, mensalmente a cidade disponibiliza os numeros de ocorrencias em suas respectivas natureza no diário oficial. \n",
    "\n",
    "Este trabalho tem como objetivo realizar uma análise descritiva sobre a cidade de guaratingueta, realizando investigações sobre as ocorrencias, suas natureza e relações.\n",
    "\n",
    "#### 1.  ELEMENTOS DE ESTUDO\n",
    "Para realizar uma análise descritiva, é necessário definir o ambiente, população, amostra e variáveis. Conforme já expresso na introdução, a cidade de guaratingueta é o ambiente em estudo; a população se caracteriza com a a natureza das ocorrencias, sendo analise amostras entre os anos de 2017 á 2019; é importante ressaltar que esse trabalho está sendo realizado no ano de 2019, Portanto não há dados completos do ano, sendo necessário algumas analises serem feitas apenas com o ano de 2017 e 2018. As variaveis da análise são: os anos e meses em estudo, a Natureza das Ocorrencias, o numero da mesma e os departamentos. Sendo essas, respectivamente, classificadas como qualitativa ordinal, qualitativa nominal e quantitativa discreta, qualitativa nominal.\n",
    "\n",
    "#### 2. TABELA DE SIGLA\n",
    "As naturezas das ocorrencias possuem nomes extensos, a fim de uma melhor visualização nos gráficos e tabelas, criamos uma sigla para cada ocorrencia. Conforme mostra a tabela Abaixo\n",
    "\n"
   ]
  },
  {
   "cell_type": "code",
   "execution_count": 150,
   "metadata": {
    "scrolled": false
   },
   "outputs": [
    {
     "data": {
      "text/html": [
       "<div>\n",
       "<style scoped>\n",
       "    .dataframe tbody tr th:only-of-type {\n",
       "        vertical-align: middle;\n",
       "    }\n",
       "\n",
       "    .dataframe tbody tr th {\n",
       "        vertical-align: top;\n",
       "    }\n",
       "\n",
       "    .dataframe thead th {\n",
       "        text-align: right;\n",
       "    }\n",
       "</style>\n",
       "<table border=\"1\" class=\"dataframe\">\n",
       "  <thead>\n",
       "    <tr style=\"text-align: right;\">\n",
       "      <th></th>\n",
       "      <th>Siglas</th>\n",
       "      <th>Natureza</th>\n",
       "    </tr>\n",
       "  </thead>\n",
       "  <tbody>\n",
       "    <tr>\n",
       "      <th>0</th>\n",
       "      <td>OPE</td>\n",
       "      <td>OCORRÊNCIAS DE PORTE DE ENTORPECENTES</td>\n",
       "    </tr>\n",
       "    <tr>\n",
       "      <th>1</th>\n",
       "      <td>OTE</td>\n",
       "      <td>OCORRÊNCIAS DE TRÁFICO DE ENTORPECENTES</td>\n",
       "    </tr>\n",
       "    <tr>\n",
       "      <th>2</th>\n",
       "      <td>OAE</td>\n",
       "      <td>CORRÊNCIAS DE APREENSÃO DE ENTORPECENTES</td>\n",
       "    </tr>\n",
       "    <tr>\n",
       "      <th>3</th>\n",
       "      <td>OPIA</td>\n",
       "      <td>OCORRÊNCIAS DE PORTE ILEGAL DE ARMA</td>\n",
       "    </tr>\n",
       "    <tr>\n",
       "      <th>4</th>\n",
       "      <td>NAFA</td>\n",
       "      <td>Nº DE ARMAS DE FOGO APREENDIDAS</td>\n",
       "    </tr>\n",
       "    <tr>\n",
       "      <th>5</th>\n",
       "      <td>NFL</td>\n",
       "      <td>Nº DE FLAGRANTES LAVRADOS</td>\n",
       "    </tr>\n",
       "    <tr>\n",
       "      <th>6</th>\n",
       "      <td>NIAF</td>\n",
       "      <td>Nº DE INFRATORES APREENDIDOS EM FLAGRANTE</td>\n",
       "    </tr>\n",
       "    <tr>\n",
       "      <th>7</th>\n",
       "      <td>NIAM</td>\n",
       "      <td>Nº DE INFRATORES APREENDIDOS POR MANDADO</td>\n",
       "    </tr>\n",
       "    <tr>\n",
       "      <th>8</th>\n",
       "      <td>NPPF</td>\n",
       "      <td>Nº DE PESSOAS PRESAS EM FLAGRANTE</td>\n",
       "    </tr>\n",
       "    <tr>\n",
       "      <th>9</th>\n",
       "      <td>NPPM</td>\n",
       "      <td>Nº DE PESSOAS PRESAS POR MANDADO</td>\n",
       "    </tr>\n",
       "    <tr>\n",
       "      <th>10</th>\n",
       "      <td>NPE</td>\n",
       "      <td>Nº DE PRISÕES EFETUADAS</td>\n",
       "    </tr>\n",
       "    <tr>\n",
       "      <th>11</th>\n",
       "      <td>NVR</td>\n",
       "      <td>Nº DE VEÍCULOS RECUPERADOS</td>\n",
       "    </tr>\n",
       "    <tr>\n",
       "      <th>12</th>\n",
       "      <td>TIPI</td>\n",
       "      <td>TOT. DE INQUÉRITOS POLICIAIS INSTAURADOS</td>\n",
       "    </tr>\n",
       "  </tbody>\n",
       "</table>\n",
       "</div>"
      ],
      "text/plain": [
       "   Siglas                                   Natureza\n",
       "0    OPE       OCORRÊNCIAS DE PORTE DE ENTORPECENTES\n",
       "1    OTE     OCORRÊNCIAS DE TRÁFICO DE ENTORPECENTES\n",
       "2    OAE    CORRÊNCIAS DE APREENSÃO DE ENTORPECENTES\n",
       "3    OPIA        OCORRÊNCIAS DE PORTE ILEGAL DE ARMA\n",
       "4    NAFA            Nº DE ARMAS DE FOGO APREENDIDAS\n",
       "5    NFL                   Nº DE FLAGRANTES LAVRADOS\n",
       "6    NIAF  Nº DE INFRATORES APREENDIDOS EM FLAGRANTE\n",
       "7    NIAM   Nº DE INFRATORES APREENDIDOS POR MANDADO\n",
       "8    NPPF          Nº DE PESSOAS PRESAS EM FLAGRANTE\n",
       "9    NPPM           Nº DE PESSOAS PRESAS POR MANDADO\n",
       "10    NPE                    Nº DE PRISÕES EFETUADAS\n",
       "11    NVR                 Nº DE VEÍCULOS RECUPERADOS\n",
       "12   TIPI   TOT. DE INQUÉRITOS POLICIAIS INSTAURADOS"
      ]
     },
     "execution_count": 150,
     "metadata": {},
     "output_type": "execute_result"
    }
   ],
   "source": [
    "Table.showOcorrences()"
   ]
  },
  {
   "cell_type": "markdown",
   "metadata": {},
   "source": [
    "#### 3. ANÁLISE DESCRITIVA  \n",
    "---\n",
    "#####  3.1 Departamento\n",
    "A tabela e grafico abaixo expressam os registros realizados dentro de cada departamento, entre o ano de 2017 e 2018.\n"
   ]
  },
  {
   "cell_type": "code",
   "execution_count": 151,
   "metadata": {
    "scrolled": false
   },
   "outputs": [
    {
     "data": {
      "text/html": [
       "<div>\n",
       "<style scoped>\n",
       "    .dataframe tbody tr th:only-of-type {\n",
       "        vertical-align: middle;\n",
       "    }\n",
       "\n",
       "    .dataframe tbody tr th {\n",
       "        vertical-align: top;\n",
       "    }\n",
       "\n",
       "    .dataframe thead th {\n",
       "        text-align: right;\n",
       "    }\n",
       "</style>\n",
       "<table border=\"1\" class=\"dataframe\">\n",
       "  <thead>\n",
       "    <tr style=\"text-align: right;\">\n",
       "      <th></th>\n",
       "      <th>Ano</th>\n",
       "      <th>DP 01</th>\n",
       "      <th>DP 02</th>\n",
       "      <th>DP 03</th>\n",
       "    </tr>\n",
       "  </thead>\n",
       "  <tbody>\n",
       "    <tr>\n",
       "      <th>0</th>\n",
       "      <td>2017</td>\n",
       "      <td>566</td>\n",
       "      <td>601</td>\n",
       "      <td>324</td>\n",
       "    </tr>\n",
       "    <tr>\n",
       "      <th>1</th>\n",
       "      <td>2018</td>\n",
       "      <td>446</td>\n",
       "      <td>492</td>\n",
       "      <td>345</td>\n",
       "    </tr>\n",
       "  </tbody>\n",
       "</table>\n",
       "</div>"
      ],
      "text/plain": [
       "    Ano  DP 01  DP 02  DP 03\n",
       "0  2017    566    601    324\n",
       "1  2018    446    492    345"
      ]
     },
     "execution_count": 151,
     "metadata": {},
     "output_type": "execute_result"
    },
    {
     "data": {
      "image/png": "[encoded data removed]",
      "text/plain": [
       "<Figure size 432x288 with 1 Axes>"
      ]
     },
     "metadata": {
      "needs_background": "light"
     },
     "output_type": "display_data"
    }
   ],
   "source": [
    "Facade.drawGraphByYear()\n"
   ]
  },
  {
   "cell_type": "markdown",
   "metadata": {},
   "source": [
    "---\n",
    "##### 3.2 Ocorrencias\n",
    "Os gráficos e tabela a seguir, abordam as ocorrencias em cada ano."
   ]
  },
  {
   "cell_type": "code",
   "execution_count": 32,
   "metadata": {},
   "outputs": [
    {
     "data": {
      "text/html": [
       "<div>\n",
       "<style scoped>\n",
       "    .dataframe tbody tr th:only-of-type {\n",
       "        vertical-align: middle;\n",
       "    }\n",
       "\n",
       "    .dataframe tbody tr th {\n",
       "        vertical-align: top;\n",
       "    }\n",
       "\n",
       "    .dataframe thead th {\n",
       "        text-align: right;\n",
       "    }\n",
       "</style>\n",
       "<table border=\"1\" class=\"dataframe\">\n",
       "  <thead>\n",
       "    <tr style=\"text-align: right;\">\n",
       "      <th></th>\n",
       "      <th>Variavel</th>\n",
       "      <th>Frequencia Absoluta</th>\n",
       "      <th>Frequencia Relativa(%)</th>\n",
       "    </tr>\n",
       "  </thead>\n",
       "  <tbody>\n",
       "    <tr>\n",
       "      <th>0</th>\n",
       "      <td>OPE</td>\n",
       "      <td>53</td>\n",
       "      <td>38.13</td>\n",
       "    </tr>\n",
       "    <tr>\n",
       "      <th>1</th>\n",
       "      <td>OTE</td>\n",
       "      <td>59</td>\n",
       "      <td>42.45</td>\n",
       "    </tr>\n",
       "    <tr>\n",
       "      <th>2</th>\n",
       "      <td>OAE</td>\n",
       "      <td>0</td>\n",
       "      <td>0.00</td>\n",
       "    </tr>\n",
       "    <tr>\n",
       "      <th>3</th>\n",
       "      <td>OPIA</td>\n",
       "      <td>27</td>\n",
       "      <td>19.42</td>\n",
       "    </tr>\n",
       "  </tbody>\n",
       "</table>\n",
       "</div>"
      ],
      "text/plain": [
       "  Variavel  Frequencia Absoluta  Frequencia Relativa(%)\n",
       "0      OPE                   53                   38.13\n",
       "1      OTE                   59                   42.45\n",
       "2      OAE                    0                    0.00\n",
       "3     OPIA                   27                   19.42"
      ]
     },
     "execution_count": 32,
     "metadata": {},
     "output_type": "execute_result"
    },
    {
     "data": {
      "image/png": "[encoded data removed]",
      "text/plain": [
       "<Figure size 432x288 with 1 Axes>"
      ]
     },
     "metadata": {
      "needs_background": "light"
     },
     "output_type": "display_data"
    }
   ],
   "source": [
    "Facade.drawGraphOcorrencesByYear('2017')"
   ]
  },
  {
   "cell_type": "code",
   "execution_count": 174,
   "metadata": {},
   "outputs": [
    {
     "data": {
      "text/html": [
       "<div>\n",
       "<style scoped>\n",
       "    .dataframe tbody tr th:only-of-type {\n",
       "        vertical-align: middle;\n",
       "    }\n",
       "\n",
       "    .dataframe tbody tr th {\n",
       "        vertical-align: top;\n",
       "    }\n",
       "\n",
       "    .dataframe thead th {\n",
       "        text-align: right;\n",
       "    }\n",
       "</style>\n",
       "<table border=\"1\" class=\"dataframe\">\n",
       "  <thead>\n",
       "    <tr style=\"text-align: right;\">\n",
       "      <th></th>\n",
       "      <th>Ano</th>\n",
       "      <th>Porte</th>\n",
       "      <th>Tráfico</th>\n",
       "    </tr>\n",
       "  </thead>\n",
       "  <tbody>\n",
       "    <tr>\n",
       "      <th>0</th>\n",
       "      <td>2017</td>\n",
       "      <td>53</td>\n",
       "      <td>59</td>\n",
       "    </tr>\n",
       "    <tr>\n",
       "      <th>1</th>\n",
       "      <td>2018</td>\n",
       "      <td>36</td>\n",
       "      <td>46</td>\n",
       "    </tr>\n",
       "    <tr>\n",
       "      <th>2</th>\n",
       "      <td>2019</td>\n",
       "      <td>10</td>\n",
       "      <td>14</td>\n",
       "    </tr>\n",
       "  </tbody>\n",
       "</table>\n",
       "</div>"
      ],
      "text/plain": [
       "    Ano  Porte  Tráfico\n",
       "0  2017     53       59\n",
       "1  2018     36       46\n",
       "2  2019     10       14"
      ]
     },
     "execution_count": 174,
     "metadata": {},
     "output_type": "execute_result"
    },
    {
     "data": {
      "image/png": "[encoded data removed]",
      "text/plain": [
       "<Figure size 432x288 with 1 Axes>"
      ]
     },
     "metadata": {
      "needs_background": "light"
     },
     "output_type": "display_data"
    }
   ],
   "source": [
    "Facade.drawGraphDrugs()"
   ]
  },
  {
   "cell_type": "code",
   "execution_count": 173,
   "metadata": {},
   "outputs": [
    {
     "data": {
      "text/html": [
       "<div>\n",
       "<style scoped>\n",
       "    .dataframe tbody tr th:only-of-type {\n",
       "        vertical-align: middle;\n",
       "    }\n",
       "\n",
       "    .dataframe tbody tr th {\n",
       "        vertical-align: top;\n",
       "    }\n",
       "\n",
       "    .dataframe thead th {\n",
       "        text-align: right;\n",
       "    }\n",
       "</style>\n",
       "<table border=\"1\" class=\"dataframe\">\n",
       "  <thead>\n",
       "    <tr style=\"text-align: right;\">\n",
       "      <th></th>\n",
       "      <th>Ano</th>\n",
       "      <th>Ocorrencias</th>\n",
       "      <th>Armas Apreendidas</th>\n",
       "    </tr>\n",
       "  </thead>\n",
       "  <tbody>\n",
       "    <tr>\n",
       "      <th>0</th>\n",
       "      <td>2017</td>\n",
       "      <td>27</td>\n",
       "      <td>40</td>\n",
       "    </tr>\n",
       "    <tr>\n",
       "      <th>1</th>\n",
       "      <td>2018</td>\n",
       "      <td>28</td>\n",
       "      <td>39</td>\n",
       "    </tr>\n",
       "    <tr>\n",
       "      <th>2</th>\n",
       "      <td>2019</td>\n",
       "      <td>9</td>\n",
       "      <td>13</td>\n",
       "    </tr>\n",
       "  </tbody>\n",
       "</table>\n",
       "</div>"
      ],
      "text/plain": [
       "    Ano  Ocorrencias  Armas Apreendidas\n",
       "0  2017           27                 40\n",
       "1  2018           28                 39\n",
       "2  2019            9                 13"
      ]
     },
     "execution_count": 173,
     "metadata": {},
     "output_type": "execute_result"
    },
    {
     "data": {
      "image/png": "[encoded data removed]",
      "text/plain": [
       "<Figure size 432x288 with 1 Axes>"
      ]
     },
     "metadata": {
      "needs_background": "light"
     },
     "output_type": "display_data"
    }
   ],
   "source": [
    "Facade.drawGraphGuns()"
   ]
  },
  {
   "cell_type": "code",
   "execution_count": 172,
   "metadata": {
    "scrolled": true
   },
   "outputs": [],
   "source": [
    "import numpy as np\n",
    "import matplotlib.pyplot as plt\n",
    "import pandas as pd\n",
    "import csv\n",
    "\n",
    "%matplotlib inline\n",
    "\n",
    "\n",
    "class Facade:\n",
    "    \n",
    "    @staticmethod\n",
    "    def drawGraphByYear():\n",
    "        a = Data.getOcorrencesByDp('2017')\n",
    "        b = Data.getOcorrencesByDp('2018')\n",
    "        df = pd.DataFrame([a[1],b[1]], columns = a[0], index=['2017','2018'])\n",
    "        df.plot.barh(stacked=True)\n",
    "        return Table.create(['Ano','DP 01','DP 02', 'DP 03'],[['2017','2018'],[a[1][0],b[1][0]],[a[1][1],b[1][1]],[a[1][2],b[1][2]]])\n",
    "     \n",
    "    @staticmethod\n",
    "    def drawGraphOcorrencesByYear(year):\n",
    "        a = Data.getAllOcorrencesByYear(year)\n",
    "        fig, (ax) = plt.subplots(nrows = 1,ncols = 1)\n",
    "        ax.set_title(\"Grafico de ocorrencias em {0}\". format(year))\n",
    "        df =  Table.create(['Variavel','Frequencia Absoluta','Frequencia Relativa(%)']\n",
    "                           , [a[0], a[1], a[2]]\n",
    "                           )\n",
    "        df.plot(kind='bar',x='Variavel',y='Frequencia Absoluta', ax = ax, legend = False)\n",
    "        return df\n",
    "    \n",
    "    @staticmethod\n",
    "    def drawGraphDrugs():\n",
    "        a = Data.getOcorrencesByDrugs()\n",
    "        fig, (ax) = plt.subplots(nrows = 1, ncols = 1)\n",
    "        df = Table.create(['Ano','Porte','Tráfico'],[a[0], a[1], a[2]])\n",
    "        ax.set_title('Gráfico de Porte e Tráfico de drogas')\n",
    "        l = pd.DataFrame({\n",
    "        'Porte': a[1],\n",
    "        'Tráfico':a[2]\n",
    "         }, index= a[0])\n",
    "        l.plot.bar(ax = ax)\n",
    "        return df\n",
    "    \n",
    "    @staticmethod\n",
    "    def drawGraphGuns():\n",
    "        a = Data.getOcorrencesByGuns()\n",
    "        fig, (ax) = plt.subplots(nrows = 1, ncols = 1)\n",
    "        df = Table.create(['Ano','Ocorrencias','Armas Apreendidas'],[a[0], a[1], a[2]])\n",
    "        ax.set_title('Gráfico de Ocorrencias de porte de Armas Apreendidas')\n",
    "        l = pd.DataFrame({\n",
    "        'Ocorrencias': a[1],\n",
    "        'Armas Apreendidas':a[2]\n",
    "         }, index= a[0])\n",
    "        l.plot.bar(ax = ax)\n",
    "        return df\n",
    "        \n",
    "class CsvI:\n",
    "    \n",
    "    @staticmethod\n",
    "    def read(file):\n",
    "        matrix = []\n",
    "        \n",
    "        with open(file, encoding=\"utf8\") as csvFile:\n",
    "            reader = csv.reader(csvFile)\n",
    "            for row in reader:\n",
    "                matrix.append(row)\n",
    "            csvFile.close()\n",
    "        \n",
    "        return matrix\n",
    "    \n",
    "\n",
    "class Table:\n",
    "    \n",
    "    @staticmethod\n",
    "    def showOcorrences():\n",
    "        df = pd.DataFrame({'Siglas' : ['OPE ','OTE ','OAE ','OPIA','NAFA','NFL ','NIAF',\n",
    "                                       'NIAM','NPPF','NPPM','NPE','NVR','TIPI'],\n",
    "                  'Natureza' : ['OCORRÊNCIAS DE PORTE DE ENTORPECENTES','OCORRÊNCIAS DE TRÁFICO DE ENTORPECENTES',\n",
    "                                   'CORRÊNCIAS DE APREENSÃO DE ENTORPECENTES','OCORRÊNCIAS DE PORTE ILEGAL DE ARMA',\n",
    "                                   'Nº DE ARMAS DE FOGO APREENDIDAS','Nº DE FLAGRANTES LAVRADOS',\n",
    "                                   'Nº DE INFRATORES APREENDIDOS EM FLAGRANTE','Nº DE INFRATORES APREENDIDOS POR MANDADO',\n",
    "                                   'Nº DE PESSOAS PRESAS EM FLAGRANTE','Nº DE PESSOAS PRESAS POR MANDADO',\n",
    "                                   'Nº DE PRISÕES EFETUADAS','Nº DE VEÍCULOS RECUPERADOS',\n",
    "                                   'TOT. DE INQUÉRITOS POLICIAIS INSTAURADOS']\n",
    "                  })\n",
    "        return df\n",
    "    \n",
    "    @staticmethod\n",
    "    def create(titles, values):\n",
    "        dic = {}\n",
    "        for i in range(len(titles)):\n",
    "            dic[titles[i]] = values[i]\n",
    "        df = pd.DataFrame(dic)\n",
    "        return df\n",
    "\n",
    "    \n",
    "class Data:\n",
    "    \n",
    "    \n",
    "    @staticmethod \n",
    "    def getOcorrencesByGuns():\n",
    "        matrix = [DP01, DP02, DP03]\n",
    "        year = ['2017','2018','2019']\n",
    "        dic = []\n",
    "        dic.append([])\n",
    "        dic.append([])\n",
    "        dic.append([])\n",
    "        dic[0].append('2017')\n",
    "        dic[0].append('2018')\n",
    "        dic[0].append('2019')\n",
    "        for aux in range(len(matrix)):\n",
    "            dic[1].append(0)\n",
    "            dic[2].append(0)\n",
    "            for y in range(len(year)):\n",
    "                dic[1][aux] += int(matrix[y][year[aux]][4][13])\n",
    "                dic[2][aux] += int(matrix[y][year[aux]][5][13])\n",
    "        return dic\n",
    "                \n",
    "    def getOcorrencesByDrugs():\n",
    "        matrix = [DP01, DP02, DP03]\n",
    "        year = ['2017','2018','2019']\n",
    "        dic = []\n",
    "        dic.append([])\n",
    "        dic.append([])\n",
    "        dic.append([])\n",
    "        dic[0].append('2017')\n",
    "        dic[0].append('2018')\n",
    "        dic[0].append('2019')\n",
    "        for aux in range(len(matrix)):\n",
    "            dic[1].append(0)\n",
    "            dic[2].append(0)\n",
    "            for y in range(len(year)):\n",
    "                dic[1][aux] += int(matrix[y][year[aux]][1][13])\n",
    "                dic[2][aux] += int(matrix[y][year[aux]][2][13])\n",
    "        return dic\n",
    "    \n",
    "    @staticmethod\n",
    "    def getOcorrencesByDp(year):\n",
    "        matrix = [DP01, DP02, DP03]\n",
    "        l = ['DP01', 'DP02', 'DP03']\n",
    "        dic = []\n",
    "        for aux in range(len(matrix)):\n",
    "            soma  = 0\n",
    "            for line in range(1,14):\n",
    "                soma += int(matrix[aux][year][line][13])\n",
    "            dic.append(soma)\n",
    "        return [l,dic]\n",
    "    \n",
    "\n",
    "    \n",
    "    @staticmethod\n",
    "    def getAllOcorrencesByYear(year):\n",
    "        m = [DP01, DP02, DP03]\n",
    "        labels = []\n",
    "        values = []\n",
    "        perc = []\n",
    "        for line in range(1, 5):\n",
    "            labels.append(m[0][year][line][0])\n",
    "            values.append(int(m[0][year][line][13])+ \n",
    "                          int(m[1][year][line][13])+\n",
    "                          int(m[2][year][line][13]))\n",
    "            \n",
    "        for i in range(4):\n",
    "            perc.append(round((values[i] * 100)/ sum(values),2))\n",
    "\n",
    "        \n",
    "        return [labels, values, perc]\n",
    "           \n",
    "\n",
    "\n",
    "\n",
    "            \n",
    "            \n",
    "DP01 = {\n",
    "    '2017': CsvI.read('./data/DP012017.csv'),\n",
    "    '2018' : CsvI.read('./data/DP012018.csv'),\n",
    "    '2019' : CsvI.read('./data/DP012019.csv')\n",
    "}\n",
    "DP02 = {\n",
    "    '2017': CsvI.read('./data/DP022017.csv'),\n",
    "    '2018' : CsvI.read('./data/DP022018.csv'),\n",
    "    '2019' : CsvI.read('./data/DP022019.csv')\n",
    "}\n",
    "DP03= {\n",
    "    '2017': CsvI.read('./data/DP032017.csv'),\n",
    "    '2018' : CsvI.read('./data/DP032018.csv'),\n",
    "    '2019' : CsvI.read('./data/DP032019.csv')\n",
    "}\n",
    "\n"
   ]
  },
  {
   "cell_type": "code",
   "execution_count": 103,
   "metadata": {},
   "outputs": [
    {
     "name": "stdout",
     "output_type": "stream",
     "text": [
      "OPIA\n",
      "7\n",
      "OPIA\n",
      "7\n",
      "OPIA\n",
      "5\n",
      "OPIA\n",
      "13\n",
      "OPIA\n",
      "16\n",
      "OPIA\n",
      "2\n",
      "OPIA\n",
      "7\n",
      "OPIA\n",
      "5\n",
      "OPIA\n",
      "2\n"
     ]
    },
    {
     "data": {
      "text/plain": [
       "[['2017', '2018', '2019'], [27, 28, 9], [40, 39, 13]]"
      ]
     },
     "execution_count": 103,
     "metadata": {},
     "output_type": "execute_result"
    }
   ],
   "source": [
    "Data.getOcorrencesByGuns()"
   ]
  }
 ],
 "metadata": {
  "kernelspec": {
   "display_name": "Python 3",
   "language": "python",
   "name": "python3"
  },
  "language_info": {
   "codemirror_mode": {
    "name": "ipython",
    "version": 3
   },
   "file_extension": ".py",
   "mimetype": "text/x-python",
   "name": "python",
   "nbconvert_exporter": "python",
   "pygments_lexer": "ipython3",
   "version": "3.7.1"
  }
 },
 "nbformat": 4,
 "nbformat_minor": 2
}
